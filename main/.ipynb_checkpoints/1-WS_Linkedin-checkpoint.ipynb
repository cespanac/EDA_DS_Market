{
 "cells": [
  {
   "cell_type": "markdown",
   "metadata": {},
   "source": [
    "# Web scraping Linkedin\n",
    "## DS Market research"
   ]
  },
  {
   "cell_type": "markdown",
   "metadata": {},
   "source": [
    "### Importar Pandas y activar el Chrome Driver"
   ]
  },
  {
   "cell_type": "code",
   "execution_count": 1,
   "metadata": {
    "ExecuteTime": {
     "end_time": "2021-02-26T12:16:59.303652Z",
     "start_time": "2021-02-26T12:16:59.300657Z"
    }
   },
   "outputs": [],
   "source": [
    "import pandas as pd\n",
    "\n",
    "from selenium import webdriver\n",
    "\n",
    "from selenium.webdriver.common.keys import Keys\n",
    "\n",
    "from selenium.webdriver.common.action_chains import ActionChains\n",
    "\n",
    "import time"
   ]
  },
  {
   "cell_type": "code",
   "execution_count": 2,
   "metadata": {
    "ExecuteTime": {
     "end_time": "2021-02-26T10:22:46.333679Z",
     "start_time": "2021-02-26T10:22:45.178780Z"
    }
   },
   "outputs": [],
   "source": [
    "chrome_driver = '/Users/cris/Documents/Repositorios/local_docs/chromedriver'\n",
    "\n",
    "# Para utilizar el chromedriver hay que descargarlo y cambiar la ruta.\n",
    "\n",
    "options = webdriver.ChromeOptions()\n",
    "\n",
    "driver = webdriver.Chrome(executable_path = chrome_driver, options = options)"
   ]
  },
  {
   "cell_type": "markdown",
   "metadata": {},
   "source": [
    "### Iniciar sesión en LinkedIn"
   ]
  },
  {
   "cell_type": "code",
   "execution_count": 3,
   "metadata": {},
   "outputs": [],
   "source": [
    "def login(username, password):\n",
    "    driver.get('https://www.linkedin.com/uas/login')\n",
    "\n",
    "    username_input = driver.find_element_by_id('username')\n",
    "    username_input.send_keys(username)\n",
    "\n",
    "    password_input = driver.find_element_by_id('password')\n",
    "    password_input.send_keys(password)\n",
    "    password_input.submit()"
   ]
  },
  {
   "cell_type": "code",
   "execution_count": 4,
   "metadata": {},
   "outputs": [],
   "source": [
    "username = '...@gmail.com'\n",
    "password = '...'\n",
    "\n",
    "login(username, password)"
   ]
  },
  {
   "cell_type": "markdown",
   "metadata": {},
   "source": [
    "#### Iniciar búsqueda"
   ]
  },
  {
   "cell_type": "code",
   "execution_count": 5,
   "metadata": {},
   "outputs": [],
   "source": [
    "search_job = driver.find_elements_by_tag_name('input')"
   ]
  },
  {
   "cell_type": "code",
   "execution_count": 6,
   "metadata": {},
   "outputs": [],
   "source": [
    "search_job[1].send_keys('Data analyst') # O Data Scientist."
   ]
  },
  {
   "cell_type": "code",
   "execution_count": 7,
   "metadata": {},
   "outputs": [],
   "source": [
    "search_job[1].send_keys(Keys.ENTER)"
   ]
  },
  {
   "cell_type": "markdown",
   "metadata": {},
   "source": [
    "#### Pinchar en empleo:"
   ]
  },
  {
   "cell_type": "code",
   "execution_count": null,
   "metadata": {},
   "outputs": [],
   "source": [
    "driver.back()"
   ]
  },
  {
   "cell_type": "code",
   "execution_count": 33,
   "metadata": {},
   "outputs": [],
   "source": [
    "b_jobs = driver.find_elements_by_tag_name('button')"
   ]
  },
  {
   "cell_type": "code",
   "execution_count": 34,
   "metadata": {},
   "outputs": [],
   "source": [
    "b_jobs[8].click()"
   ]
  },
  {
   "cell_type": "markdown",
   "metadata": {},
   "source": [
    "#### Recoger info puesto trabajo:"
   ]
  },
  {
   "cell_type": "code",
   "execution_count": null,
   "metadata": {},
   "outputs": [],
   "source": [
    "driver.back()"
   ]
  },
  {
   "cell_type": "code",
   "execution_count": null,
   "metadata": {},
   "outputs": [],
   "source": [
    "content = driver.find_elements_by_tag_name('div.flex-grow-1.artdeco-entity-lockup__content.ember-view')"
   ]
  },
  {
   "cell_type": "code",
   "execution_count": null,
   "metadata": {},
   "outputs": [],
   "source": [
    "lista_content = []\n",
    "\n",
    "for i in content:\n",
    "    lista_content.append(i.find_element_by_tag_name('a').get_attribute('href'))"
   ]
  },
  {
   "cell_type": "markdown",
   "metadata": {},
   "source": [
    "## Buscar la información dentro de cada página y recolectarla"
   ]
  },
  {
   "cell_type": "code",
   "execution_count": 12,
   "metadata": {},
   "outputs": [],
   "source": [
    "# Creo lista con toda la información recopilada de la empresa, por orden.\n",
    "\n",
    "def info_collect(driver):\n",
    "\n",
    "    info_df = []\n",
    "    \n",
    "    title = driver.find_elements_by_tag_name('div.jobs-details-top-card__content-container')\n",
    "   \n",
    "    title = title[0].text.splitlines()\n",
    "    \n",
    "    \n",
    "    if len(title) < 9:\n",
    "\n",
    "        title = [title [0], '', '', '', '']\n",
    "\n",
    "    elif title[5] == 'Nuevo':\n",
    "        title = [title[2], title[0], title[4], title[7], title[9]]\n",
    "\n",
    "    else:\n",
    "        title = [title[2], title[0], title[4], title[6], title[8]]\n",
    "        \n",
    "        \n",
    "    \n",
    "    info_job_comp = driver.find_elements_by_tag_name('li.artdeco-list__item.jobs-details-job-summary-list__item.jobs-details-job-summary-list__item--bullet')\n",
    "    \n",
    "    info_job_comp = info_job_comp[0].text.splitlines()\n",
    "    \n",
    "    \n",
    "    job_desc = driver.find_elements_by_tag_name('div.jobs-box__html-content.jobs-description-content__text.t-14.t-normal')\n",
    "    \n",
    "    job_desc1 = [job_desc[0].text]\n",
    "    \n",
    "\n",
    "    \n",
    "    job_desc2 = job_desc[0].text.splitlines()[-8:]\n",
    "    \n",
    "    job_desc2 = [job_desc2[1], job_desc2[3], job_desc2[5], job_desc2[7]]\n",
    "    \n",
    "    info_df = title + job_desc2 + job_desc1\n",
    "    \n",
    "    return info_df"
   ]
  },
  {
   "cell_type": "code",
   "execution_count": 13,
   "metadata": {},
   "outputs": [],
   "source": [
    "# Creo los títulos de las columnas del df.\n",
    "\n",
    "titulos_col = ['Nombre empresa', 'Puesto ofertado', 'Ubicación', 'Días activos', 'Nº Solicitudes', 'Nivel experiencia', 'Sector', 'Tipo jornada', 'Funciones laborales', 'Descripción']"
   ]
  },
  {
   "cell_type": "code",
   "execution_count": 14,
   "metadata": {},
   "outputs": [],
   "source": [
    "jobs_list = pd.DataFrame()"
   ]
  },
  {
   "cell_type": "code",
   "execution_count": 15,
   "metadata": {},
   "outputs": [],
   "source": [
    "# Recoge todos los puestos de trabajo de la página en una lista.\n",
    "\n",
    "parentElement = driver.find_element_by_class_name(\"jobs-search-results__list.list-style-none\")\n",
    "\n",
    "elementList = parentElement.find_elements_by_class_name(\"mr1.artdeco-entity-lockup__image.artdeco-entity-lockup__image--type-square.ember-view\")"
   ]
  },
  {
   "cell_type": "code",
   "execution_count": 16,
   "metadata": {},
   "outputs": [],
   "source": [
    "for i in range(len(elementList)):\n",
    "    \n",
    "    elementList[i].click()\n",
    "    time.sleep(2)\n",
    "    info_df = info_collect(driver)\n",
    "    df_prueba = pd.DataFrame([info_df], columns = titulos_col)\n",
    "    jobs_list = jobs_list.append(df_prueba)"
   ]
  },
  {
   "cell_type": "code",
   "execution_count": 167,
   "metadata": {},
   "outputs": [],
   "source": [
    "jobs_list.to_csv(r'/Users/cris/Documents/Repositorios/EDA_DS_Market/info_data_analysis.csv', index = False)"
   ]
  },
  {
   "cell_type": "markdown",
   "metadata": {},
   "source": [
    "### Mismo método aplicado para Data Scientist"
   ]
  },
  {
   "cell_type": "code",
   "execution_count": 1,
   "metadata": {
    "collapsed": true
   },
   "outputs": [
    {
     "ename": "NameError",
     "evalue": "name 'driver' is not defined",
     "output_type": "error",
     "traceback": [
      "\u001b[0;31m---------------------------------------------------------------------------\u001b[0m",
      "\u001b[0;31mNameError\u001b[0m                                 Traceback (most recent call last)",
      "\u001b[0;32m<ipython-input-1-dc08a4bf4bfa>\u001b[0m in \u001b[0;36m<module>\u001b[0;34m\u001b[0m\n\u001b[1;32m      1\u001b[0m \u001b[0;31m# Primero hacer un driver.back() y cambiar el puesto a buscar.\u001b[0m\u001b[0;34m\u001b[0m\u001b[0;34m\u001b[0m\u001b[0;34m\u001b[0m\u001b[0m\n\u001b[1;32m      2\u001b[0m \u001b[0;34m\u001b[0m\u001b[0m\n\u001b[0;32m----> 3\u001b[0;31m \u001b[0mparentElement\u001b[0m \u001b[0;34m=\u001b[0m \u001b[0mdriver\u001b[0m\u001b[0;34m.\u001b[0m\u001b[0mfind_element_by_class_name\u001b[0m\u001b[0;34m(\u001b[0m\u001b[0;34m\"jobs-search-results__list.list-style-none\"\u001b[0m\u001b[0;34m)\u001b[0m\u001b[0;34m\u001b[0m\u001b[0;34m\u001b[0m\u001b[0m\n\u001b[0m\u001b[1;32m      4\u001b[0m \u001b[0;34m\u001b[0m\u001b[0m\n\u001b[1;32m      5\u001b[0m \u001b[0melementList\u001b[0m \u001b[0;34m=\u001b[0m \u001b[0mparentElement\u001b[0m\u001b[0;34m.\u001b[0m\u001b[0mfind_elements_by_class_name\u001b[0m\u001b[0;34m(\u001b[0m\u001b[0;34m\"mr1.artdeco-entity-lockup__image.artdeco-entity-lockup__image--type-square.ember-view\"\u001b[0m\u001b[0;34m)\u001b[0m\u001b[0;34m\u001b[0m\u001b[0;34m\u001b[0m\u001b[0m\n",
      "\u001b[0;31mNameError\u001b[0m: name 'driver' is not defined"
     ]
    }
   ],
   "source": [
    "# Primero hacer un driver.back() y cambiar el puesto a buscar.\n",
    "\n",
    "parentElement = driver.find_element_by_class_name(\"jobs-search-results__list.list-style-none\")\n",
    "\n",
    "elementList = parentElement.find_elements_by_class_name(\"mr1.artdeco-entity-lockup__image.artdeco-entity-lockup__image--type-square.ember-view\")"
   ]
  },
  {
   "cell_type": "code",
   "execution_count": 9,
   "metadata": {},
   "outputs": [],
   "source": [
    "# Creo los títulos de las columnas del df.\n",
    "\n",
    "titulos_col = ['Nombre empresa', 'Puesto ofertado', 'Ubicación', 'Días activos', 'Nº Solicitudes', 'Nivel experiencia', 'Sector', 'Tipo jornada', 'Funciones laborales', 'Descripción']"
   ]
  },
  {
   "cell_type": "code",
   "execution_count": 10,
   "metadata": {},
   "outputs": [],
   "source": [
    "jobs_data_scientist_list = pd.DataFrame()"
   ]
  },
  {
   "cell_type": "code",
   "execution_count": 231,
   "metadata": {},
   "outputs": [],
   "source": [
    "for i in range(len(elementList)):\n",
    "    elementList[i].click()\n",
    "    time.sleep(2)\n",
    "    info_df = info_collect(driver)\n",
    "    df_prueba = pd.DataFrame([info_df], columns = titulos_col)\n",
    "    jobs_data_scientist_list = jobs_data_scientist_list.append(df_prueba)"
   ]
  },
  {
   "cell_type": "code",
   "execution_count": 232,
   "metadata": {
    "collapsed": true
   },
   "outputs": [
    {
     "data": {
      "text/html": [
       "<div>\n",
       "<style scoped>\n",
       "    .dataframe tbody tr th:only-of-type {\n",
       "        vertical-align: middle;\n",
       "    }\n",
       "\n",
       "    .dataframe tbody tr th {\n",
       "        vertical-align: top;\n",
       "    }\n",
       "\n",
       "    .dataframe thead th {\n",
       "        text-align: right;\n",
       "    }\n",
       "</style>\n",
       "<table border=\"1\" class=\"dataframe\">\n",
       "  <thead>\n",
       "    <tr style=\"text-align: right;\">\n",
       "      <th></th>\n",
       "      <th>Nombre empresa</th>\n",
       "      <th>Puesto ofertado</th>\n",
       "      <th>Ubicación</th>\n",
       "      <th>Días activos</th>\n",
       "      <th>Nº Solicitudes</th>\n",
       "      <th>Nivel experiencia</th>\n",
       "      <th>Sector</th>\n",
       "      <th>Tipo jornada</th>\n",
       "      <th>Funciones laborales</th>\n",
       "      <th>Descripción</th>\n",
       "    </tr>\n",
       "  </thead>\n",
       "  <tbody>\n",
       "    <tr>\n",
       "      <th>0</th>\n",
       "      <td>Amazon</td>\n",
       "      <td>Data Scientist</td>\n",
       "      <td>Barcelona, Cataluña, España</td>\n",
       "      <td>Publicado hace hace 2 días</td>\n",
       "      <td>749 visualizaciones</td>\n",
       "      <td>Job ID: A1469178</td>\n",
       "      <td>Software Servicios y tecnologías de la informa...</td>\n",
       "      <td>Jornada completa</td>\n",
       "      <td>Ingeniería Tecnología de la información</td>\n",
       "      <td>Description\\n\\nWe are looking for a Data Scien...</td>\n",
       "    </tr>\n",
       "    <tr>\n",
       "      <th>0</th>\n",
       "      <td>Zurich Insurance Company Ltd</td>\n",
       "      <td>Data Scientist</td>\n",
       "      <td>Barcelona, Cataluña, España</td>\n",
       "      <td>Publicado hace hace 11 horas</td>\n",
       "      <td>180 visualizaciones</td>\n",
       "      <td>Intermedio</td>\n",
       "      <td>Seguros Servicios financieros</td>\n",
       "      <td>Jornada completa</td>\n",
       "      <td>Estrategia/planificación</td>\n",
       "      <td>The purpose of Zurich is...\\n\\nWhat are we loo...</td>\n",
       "    </tr>\n",
       "    <tr>\n",
       "      <th>0</th>\n",
       "      <td>El Corte Inglés</td>\n",
       "      <td>Data Engineer</td>\n",
       "      <td>Madrid, Comunidad de Madrid, España</td>\n",
       "      <td>Publicado hace hace 1 semana</td>\n",
       "      <td>2011 visualizaciones</td>\n",
       "      <td>Algo de responsabilidad</td>\n",
       "      <td>Venta al por menor Artículos de consumo Servic...</td>\n",
       "      <td>Jornada completa</td>\n",
       "      <td>Consultoría Ingeniería Tecnología de la inform...</td>\n",
       "      <td>Si lo que buscas es una empresa innovadora y l...</td>\n",
       "    </tr>\n",
       "    <tr>\n",
       "      <th>0</th>\n",
       "      <td>WIRIS</td>\n",
       "      <td>Data Engineer</td>\n",
       "      <td>Barcelona y alrededores</td>\n",
       "      <td>Publicado hace hace 1 semana</td>\n",
       "      <td>305 visualizaciones</td>\n",
       "      <td>Algo de responsabilidad</td>\n",
       "      <td>Software</td>\n",
       "      <td>Jornada completa</td>\n",
       "      <td>Tecnología de la información</td>\n",
       "      <td>Anunciado por\\nJulia Abad Castelló\\nTalent Acq...</td>\n",
       "    </tr>\n",
       "    <tr>\n",
       "      <th>0</th>\n",
       "      <td>MANGO</td>\n",
       "      <td>Data Scientist</td>\n",
       "      <td>Palau-solità i Plegamans, Cataluña, España</td>\n",
       "      <td>Publicado hace hace 7 horas</td>\n",
       "      <td>215 visualizaciones</td>\n",
       "      <td>Algo de responsabilidad</td>\n",
       "      <td>Venta al por menor</td>\n",
       "      <td>Jornada completa</td>\n",
       "      <td>Análisis Negocios Tecnología de la información</td>\n",
       "      <td>Buscamos un/a Data Scientist para que se incor...</td>\n",
       "    </tr>\n",
       "    <tr>\n",
       "      <th>...</th>\n",
       "      <td>...</td>\n",
       "      <td>...</td>\n",
       "      <td>...</td>\n",
       "      <td>...</td>\n",
       "      <td>...</td>\n",
       "      <td>...</td>\n",
       "      <td>...</td>\n",
       "      <td>...</td>\n",
       "      <td>...</td>\n",
       "      <td>...</td>\n",
       "    </tr>\n",
       "    <tr>\n",
       "      <th>0</th>\n",
       "      <td>Eurecat - Centro Tecnológico de Catalunya</td>\n",
       "      <td>ROBOTICS RESEARCHER (COMPUTER VISION AND DEEP ...</td>\n",
       "      <td>Cerdanyola del Vallès, Cataluña, España</td>\n",
       "      <td>Publicado hace hace 15 horas</td>\n",
       "      <td>24 visualizaciones</td>\n",
       "      <td>Sin experiencia</td>\n",
       "      <td>Servicios y tecnologías de la información Soft...</td>\n",
       "      <td>Contrato por obra</td>\n",
       "      <td>Otro</td>\n",
       "      <td>Eurecat Centro Tecnológico de Cataluña\\n\\nCATA...</td>\n",
       "    </tr>\n",
       "    <tr>\n",
       "      <th>0</th>\n",
       "      <td>Barcelona Supercomputing Center</td>\n",
       "      <td>Quantum algorithms researcher (R3)</td>\n",
       "      <td>Barcelona, Cataluña, España</td>\n",
       "      <td>Publicado hace hace 1 semana</td>\n",
       "      <td>53 visualizaciones</td>\n",
       "      <td>Algo de responsabilidad</td>\n",
       "      <td>Servicios y tecnologías de la información Soft...</td>\n",
       "      <td>Jornada completa</td>\n",
       "      <td>Investigación Análisis Tecnología de la inform...</td>\n",
       "      <td>Offer Description\\n\\nContext and Mission\\n\\nTh...</td>\n",
       "    </tr>\n",
       "    <tr>\n",
       "      <th>0</th>\n",
       "      <td>Amazon</td>\n",
       "      <td>Data Scientist</td>\n",
       "      <td>Barcelona, Cataluña, España</td>\n",
       "      <td>Publicado hace hace 1 día</td>\n",
       "      <td>90 visualizaciones</td>\n",
       "      <td>Sin experiencia</td>\n",
       "      <td>Servicios y tecnologías de la información Soft...</td>\n",
       "      <td>Jornada completa</td>\n",
       "      <td>Ingeniería Tecnología de la información</td>\n",
       "      <td>We are looking for a Data Scientist to help Am...</td>\n",
       "    </tr>\n",
       "    <tr>\n",
       "      <th>0</th>\n",
       "      <td>Universitat Pompeu Fabra - Barcelona</td>\n",
       "      <td>MetaWireless Early-Stage Researcher</td>\n",
       "      <td>Barcelona, Cataluña, España</td>\n",
       "      <td>Publicado hace hace 1 mes</td>\n",
       "      <td>12 visualizaciones</td>\n",
       "      <td>Algo de responsabilidad</td>\n",
       "      <td>Enseñanza superior Software Investigación</td>\n",
       "      <td>Jornada completa</td>\n",
       "      <td>Investigación Análisis Tecnología de la inform...</td>\n",
       "      <td>The Wireless &amp; Secure Communications (WiSeCom)...</td>\n",
       "    </tr>\n",
       "    <tr>\n",
       "      <th>0</th>\n",
       "      <td>Grupo Digital</td>\n",
       "      <td>Data Engineer // Data Integration POWERCENTER</td>\n",
       "      <td>Barcelona, Cataluña, España</td>\n",
       "      <td>Publicado hace hace 3 días</td>\n",
       "      <td>23 visualizaciones</td>\n",
       "      <td>Sin experiencia</td>\n",
       "      <td>Internet</td>\n",
       "      <td>Jornada completa</td>\n",
       "      <td>Tecnología de la información</td>\n",
       "      <td>Seleccionamos para importante compañia del sec...</td>\n",
       "    </tr>\n",
       "  </tbody>\n",
       "</table>\n",
       "<p>515 rows × 10 columns</p>\n",
       "</div>"
      ],
      "text/plain": [
       "                               Nombre empresa  \\\n",
       "0                                      Amazon   \n",
       "0                Zurich Insurance Company Ltd   \n",
       "0                             El Corte Inglés   \n",
       "0                                       WIRIS   \n",
       "0                                       MANGO   \n",
       "..                                        ...   \n",
       "0   Eurecat - Centro Tecnológico de Catalunya   \n",
       "0             Barcelona Supercomputing Center   \n",
       "0                                      Amazon   \n",
       "0        Universitat Pompeu Fabra - Barcelona   \n",
       "0                               Grupo Digital   \n",
       "\n",
       "                                      Puesto ofertado  \\\n",
       "0                                      Data Scientist   \n",
       "0                                      Data Scientist   \n",
       "0                                       Data Engineer   \n",
       "0                                       Data Engineer   \n",
       "0                                      Data Scientist   \n",
       "..                                                ...   \n",
       "0   ROBOTICS RESEARCHER (COMPUTER VISION AND DEEP ...   \n",
       "0                  Quantum algorithms researcher (R3)   \n",
       "0                                      Data Scientist   \n",
       "0                 MetaWireless Early-Stage Researcher   \n",
       "0       Data Engineer // Data Integration POWERCENTER   \n",
       "\n",
       "                                     Ubicación                  Días activos  \\\n",
       "0                  Barcelona, Cataluña, España    Publicado hace hace 2 días   \n",
       "0                  Barcelona, Cataluña, España  Publicado hace hace 11 horas   \n",
       "0          Madrid, Comunidad de Madrid, España  Publicado hace hace 1 semana   \n",
       "0                      Barcelona y alrededores  Publicado hace hace 1 semana   \n",
       "0   Palau-solità i Plegamans, Cataluña, España   Publicado hace hace 7 horas   \n",
       "..                                         ...                           ...   \n",
       "0      Cerdanyola del Vallès, Cataluña, España  Publicado hace hace 15 horas   \n",
       "0                  Barcelona, Cataluña, España  Publicado hace hace 1 semana   \n",
       "0                  Barcelona, Cataluña, España     Publicado hace hace 1 día   \n",
       "0                  Barcelona, Cataluña, España     Publicado hace hace 1 mes   \n",
       "0                  Barcelona, Cataluña, España    Publicado hace hace 3 días   \n",
       "\n",
       "          Nº Solicitudes        Nivel experiencia  \\\n",
       "0    749 visualizaciones         Job ID: A1469178   \n",
       "0    180 visualizaciones               Intermedio   \n",
       "0   2011 visualizaciones  Algo de responsabilidad   \n",
       "0    305 visualizaciones  Algo de responsabilidad   \n",
       "0    215 visualizaciones  Algo de responsabilidad   \n",
       "..                   ...                      ...   \n",
       "0     24 visualizaciones          Sin experiencia   \n",
       "0     53 visualizaciones  Algo de responsabilidad   \n",
       "0     90 visualizaciones          Sin experiencia   \n",
       "0     12 visualizaciones  Algo de responsabilidad   \n",
       "0     23 visualizaciones          Sin experiencia   \n",
       "\n",
       "                                               Sector       Tipo jornada  \\\n",
       "0   Software Servicios y tecnologías de la informa...   Jornada completa   \n",
       "0                       Seguros Servicios financieros   Jornada completa   \n",
       "0   Venta al por menor Artículos de consumo Servic...   Jornada completa   \n",
       "0                                            Software   Jornada completa   \n",
       "0                                  Venta al por menor   Jornada completa   \n",
       "..                                                ...                ...   \n",
       "0   Servicios y tecnologías de la información Soft...  Contrato por obra   \n",
       "0   Servicios y tecnologías de la información Soft...   Jornada completa   \n",
       "0   Servicios y tecnologías de la información Soft...   Jornada completa   \n",
       "0           Enseñanza superior Software Investigación   Jornada completa   \n",
       "0                                            Internet   Jornada completa   \n",
       "\n",
       "                                  Funciones laborales  \\\n",
       "0             Ingeniería Tecnología de la información   \n",
       "0                            Estrategia/planificación   \n",
       "0   Consultoría Ingeniería Tecnología de la inform...   \n",
       "0                        Tecnología de la información   \n",
       "0      Análisis Negocios Tecnología de la información   \n",
       "..                                                ...   \n",
       "0                                                Otro   \n",
       "0   Investigación Análisis Tecnología de la inform...   \n",
       "0             Ingeniería Tecnología de la información   \n",
       "0   Investigación Análisis Tecnología de la inform...   \n",
       "0                        Tecnología de la información   \n",
       "\n",
       "                                          Descripción  \n",
       "0   Description\\n\\nWe are looking for a Data Scien...  \n",
       "0   The purpose of Zurich is...\\n\\nWhat are we loo...  \n",
       "0   Si lo que buscas es una empresa innovadora y l...  \n",
       "0   Anunciado por\\nJulia Abad Castelló\\nTalent Acq...  \n",
       "0   Buscamos un/a Data Scientist para que se incor...  \n",
       "..                                                ...  \n",
       "0   Eurecat Centro Tecnológico de Cataluña\\n\\nCATA...  \n",
       "0   Offer Description\\n\\nContext and Mission\\n\\nTh...  \n",
       "0   We are looking for a Data Scientist to help Am...  \n",
       "0   The Wireless & Secure Communications (WiSeCom)...  \n",
       "0   Seleccionamos para importante compañia del sec...  \n",
       "\n",
       "[515 rows x 10 columns]"
      ]
     },
     "execution_count": 232,
     "metadata": {},
     "output_type": "execute_result"
    }
   ],
   "source": [
    "jobs_data_scientist_list"
   ]
  },
  {
   "cell_type": "code",
   "execution_count": 233,
   "metadata": {},
   "outputs": [],
   "source": [
    "jobs_data_scientist_list.to_csv('info_data_scientist.csv')"
   ]
  },
  {
   "cell_type": "code",
   "execution_count": null,
   "metadata": {},
   "outputs": [],
   "source": []
  }
 ],
 "metadata": {
  "kernelspec": {
   "display_name": "Python 3",
   "language": "python",
   "name": "python3"
  },
  "language_info": {
   "codemirror_mode": {
    "name": "ipython",
    "version": 3
   },
   "file_extension": ".py",
   "mimetype": "text/x-python",
   "name": "python",
   "nbconvert_exporter": "python",
   "pygments_lexer": "ipython3",
   "version": "3.8.5"
  }
 },
 "nbformat": 4,
 "nbformat_minor": 4
}
