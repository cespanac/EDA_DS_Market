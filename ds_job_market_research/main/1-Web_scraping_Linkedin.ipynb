{
 "cells": [
  {
   "cell_type": "markdown",
   "metadata": {},
   "source": [
    "# Web scraping Linkedin\n",
    "## DS Market research"
   ]
  },
  {
   "cell_type": "markdown",
   "metadata": {},
   "source": [
    "### Importar Pandas y activar el Chrome Driver"
   ]
  },
  {
   "cell_type": "code",
   "execution_count": 1,
   "metadata": {
    "ExecuteTime": {
     "end_time": "2021-02-26T12:16:59.303652Z",
     "start_time": "2021-02-26T12:16:59.300657Z"
    }
   },
   "outputs": [],
   "source": [
    "import pandas as pd\n",
    "\n",
    "from selenium import webdriver\n",
    "\n",
    "from selenium.webdriver.common.keys import Keys\n",
    "\n",
    "from selenium.webdriver.common.action_chains import ActionChains\n",
    "\n",
    "import time"
   ]
  },
  {
   "cell_type": "markdown",
   "metadata": {},
   "source": [
    "***Para utilizar el chromedriver hay que descargarlo y cambiar la ruta.***"
   ]
  },
  {
   "cell_type": "code",
   "execution_count": 2,
   "metadata": {
    "ExecuteTime": {
     "end_time": "2021-02-26T10:22:46.333679Z",
     "start_time": "2021-02-26T10:22:45.178780Z"
    }
   },
   "outputs": [],
   "source": [
    "chrome_driver = '/Users/cris/Documents/Repositorios/local_docs/chromedriver'\n",
    "\n",
    "options = webdriver.ChromeOptions()\n",
    "\n",
    "driver = webdriver.Chrome(executable_path = chrome_driver, options = options)"
   ]
  },
  {
   "cell_type": "markdown",
   "metadata": {},
   "source": [
    "### Iniciar sesión en LinkedIn"
   ]
  },
  {
   "cell_type": "code",
   "execution_count": 3,
   "metadata": {},
   "outputs": [],
   "source": [
    "def login(username, password):\n",
    "    driver.get('https://www.linkedin.com/uas/login')\n",
    "\n",
    "    username_input = driver.find_element_by_id('username')\n",
    "    username_input.send_keys(username)\n",
    "\n",
    "    password_input = driver.find_element_by_id('password')\n",
    "    password_input.send_keys(password)\n",
    "    password_input.submit()"
   ]
  },
  {
   "cell_type": "code",
   "execution_count": 4,
   "metadata": {},
   "outputs": [],
   "source": [
    "username = 'john_ds99@outlook.com'\n",
    "password = 'vUgrH8D6lCKY6XasC6dZ'\n",
    "\n",
    "login(username, password)"
   ]
  },
  {
   "cell_type": "markdown",
   "metadata": {},
   "source": [
    "#### Iniciar búsqueda de un empleo"
   ]
  },
  {
   "cell_type": "code",
   "execution_count": 5,
   "metadata": {},
   "outputs": [],
   "source": [
    "# Pincha en el campo de búsqueda, introduce el puesto y lo busca.\n",
    "\n",
    "search_job = driver.find_elements_by_tag_name('input')\n",
    "search_job[1].send_keys('Data analyst')\n",
    "search_job[1].send_keys(Keys.ENTER)"
   ]
  },
  {
   "cell_type": "markdown",
   "metadata": {},
   "source": [
    "#### Pinchar en empleo:\n",
    "\n",
    "Al buscar, hay que pinchar en empleo, ya que la página te deja elegir entre personas, grupos, empleos, etc."
   ]
  },
  {
   "cell_type": "code",
   "execution_count": 6,
   "metadata": {},
   "outputs": [],
   "source": [
    "b_jobs = driver.find_elements_by_tag_name('button')"
   ]
  },
  {
   "cell_type": "code",
   "execution_count": 9,
   "metadata": {},
   "outputs": [],
   "source": [
    "for i in b_jobs:\n",
    "    if i.text == 'Empleos':\n",
    "        i.click()"
   ]
  },
  {
   "cell_type": "markdown",
   "metadata": {},
   "source": [
    "#### Recoger info puesto trabajo:"
   ]
  },
  {
   "cell_type": "code",
   "execution_count": 16,
   "metadata": {},
   "outputs": [],
   "source": [
    "content = driver.find_elements_by_tag_name('div.flex-grow-1.artdeco-entity-lockup__content.ember-view')"
   ]
  },
  {
   "cell_type": "code",
   "execution_count": null,
   "metadata": {},
   "outputs": [],
   "source": [
    "lista_content = []\n",
    "\n",
    "for i in content:\n",
    "    lista_content.append(i.find_element_by_tag_name('a').get_attribute('href'))"
   ]
  },
  {
   "cell_type": "markdown",
   "metadata": {},
   "source": [
    "## Buscar la información dentro de cada página y recolectarla"
   ]
  },
  {
   "cell_type": "code",
   "execution_count": null,
   "metadata": {},
   "outputs": [],
   "source": [
    "# Creo lista con toda la información recopilada de la empresa, por orden.\n",
    "\n",
    "def info_collect(driver):\n",
    "\n",
    "    info_df = []\n",
    "    \n",
    "    title = driver.find_elements_by_tag_name('div.jobs-details-top-card__content-container')\n",
    "   \n",
    "    title = title[0].text.splitlines()\n",
    "    \n",
    "    \n",
    "    if len(title) < 9:\n",
    "\n",
    "        title = [title [0], '', '', '', '']\n",
    "\n",
    "    elif title[5] == 'Nuevo':\n",
    "        title = [title[2], title[0], title[4], title[7], title[9]]\n",
    "\n",
    "    else:\n",
    "        title = [title[2], title[0], title[4], title[6], title[8]]\n",
    "        \n",
    "        \n",
    "    \n",
    "    info_job_comp = driver.find_elements_by_tag_name('li.artdeco-list__item.jobs-details-job-summary-list__item.jobs-details-job-summary-list__item--bullet')\n",
    "    \n",
    "    info_job_comp = info_job_comp[0].text.splitlines()\n",
    "    \n",
    "    \n",
    "    job_desc = driver.find_elements_by_tag_name('div.jobs-box__html-content.jobs-description-content__text.t-14.t-normal')\n",
    "    \n",
    "    job_desc1 = [job_desc[0].text]\n",
    "    \n",
    "\n",
    "    \n",
    "    job_desc2 = job_desc[0].text.splitlines()[-8:]\n",
    "    \n",
    "    job_desc2 = [job_desc2[1], job_desc2[3], job_desc2[5], job_desc2[7]]\n",
    "    \n",
    "    info_df = title + job_desc2 + job_desc1\n",
    "    \n",
    "    return info_df"
   ]
  },
  {
   "cell_type": "code",
   "execution_count": null,
   "metadata": {},
   "outputs": [],
   "source": [
    "# Creo los títulos de las columnas del df.\n",
    "\n",
    "titulos_col = ['Nombre empresa', 'Puesto ofertado', 'Ubicación', 'Días activos', 'Nº Solicitudes', 'Nivel experiencia', 'Sector', 'Tipo jornada', 'Funciones laborales', 'Descripción']"
   ]
  },
  {
   "cell_type": "code",
   "execution_count": null,
   "metadata": {},
   "outputs": [],
   "source": [
    "jobs_list = pd.DataFrame()"
   ]
  },
  {
   "cell_type": "code",
   "execution_count": null,
   "metadata": {},
   "outputs": [],
   "source": [
    "# Recoge todos los puestos de trabajo de la página en una lista.\n",
    "\n",
    "parentElement = driver.find_element_by_class_name(\"jobs-search-results__list.list-style-none\")\n",
    "\n",
    "elementList = parentElement.find_elements_by_class_name(\"mr1.artdeco-entity-lockup__image.artdeco-entity-lockup__image--type-square.ember-view\")"
   ]
  },
  {
   "cell_type": "code",
   "execution_count": null,
   "metadata": {},
   "outputs": [],
   "source": [
    "for i in range(len(elementList)):\n",
    "    \n",
    "    elementList[i].click()\n",
    "    time.sleep(2)\n",
    "    info_df = info_collect(driver)\n",
    "    df_prueba = pd.DataFrame([info_df], columns = titulos_col)\n",
    "    jobs_list = jobs_list.append(df_prueba)"
   ]
  },
  {
   "cell_type": "code",
   "execution_count": null,
   "metadata": {},
   "outputs": [],
   "source": [
    "jobs_list.to_csv(r'/Users/cris/Documents/Repositorios/EDA_DS_Market/info_data_analysis.csv', index = False)"
   ]
  },
  {
   "cell_type": "markdown",
   "metadata": {},
   "source": [
    "### Mismo método aplicado para Data Scientist"
   ]
  },
  {
   "cell_type": "code",
   "execution_count": null,
   "metadata": {},
   "outputs": [],
   "source": [
    "# Primero hacer un driver.back() y cambiar el puesto a buscar.\n",
    "\n",
    "parentElement = driver.find_element_by_class_name(\"jobs-search-results__list.list-style-none\")\n",
    "\n",
    "elementList = parentElement.find_elements_by_class_name(\"mr1.artdeco-entity-lockup__image.artdeco-entity-lockup__image--type-square.ember-view\")"
   ]
  },
  {
   "cell_type": "code",
   "execution_count": null,
   "metadata": {},
   "outputs": [],
   "source": [
    "# Creo los títulos de las columnas del df.\n",
    "\n",
    "titulos_col = ['Nombre empresa', 'Puesto ofertado', 'Ubicación', 'Días activos', 'Nº Solicitudes', 'Nivel experiencia', 'Sector', 'Tipo jornada', 'Funciones laborales', 'Descripción']"
   ]
  },
  {
   "cell_type": "code",
   "execution_count": null,
   "metadata": {},
   "outputs": [],
   "source": [
    "jobs_data_scientist_list = pd.DataFrame()"
   ]
  },
  {
   "cell_type": "code",
   "execution_count": null,
   "metadata": {},
   "outputs": [],
   "source": [
    "for i in range(len(elementList)):\n",
    "    elementList[i].click()\n",
    "    time.sleep(2)\n",
    "    info_df = info_collect(driver)\n",
    "    df_prueba = pd.DataFrame([info_df], columns = titulos_col)\n",
    "    jobs_data_scientist_list = jobs_data_scientist_list.append(df_prueba)"
   ]
  },
  {
   "cell_type": "code",
   "execution_count": null,
   "metadata": {},
   "outputs": [],
   "source": [
    "jobs_data_scientist_list"
   ]
  },
  {
   "cell_type": "code",
   "execution_count": null,
   "metadata": {},
   "outputs": [],
   "source": [
    "jobs_data_scientist_list.to_csv('info_data_scientist.csv')"
   ]
  },
  {
   "cell_type": "code",
   "execution_count": null,
   "metadata": {},
   "outputs": [],
   "source": []
  }
 ],
 "metadata": {
  "kernelspec": {
   "display_name": "Python 3",
   "language": "python",
   "name": "python3"
  },
  "language_info": {
   "codemirror_mode": {
    "name": "ipython",
    "version": 3
   },
   "file_extension": ".py",
   "mimetype": "text/x-python",
   "name": "python",
   "nbconvert_exporter": "python",
   "pygments_lexer": "ipython3",
   "version": "3.8.5"
  }
 },
 "nbformat": 4,
 "nbformat_minor": 4
}
