{
 "cells": [
  {
   "cell_type": "markdown",
   "metadata": {},
   "source": [
    "# Web scraping Linkedin\n",
    "## DS Market research"
   ]
  },
  {
   "cell_type": "markdown",
   "metadata": {},
   "source": [
    "### Importar Pandas y activar el Chrome Driver"
   ]
  },
  {
   "cell_type": "code",
   "execution_count": 3,
   "metadata": {
    "ExecuteTime": {
     "end_time": "2021-03-22T14:20:03.099566Z",
     "start_time": "2021-03-22T14:20:03.028031Z"
    }
   },
   "outputs": [],
   "source": [
    "import pandas as pd\n",
    "\n",
    "from selenium import webdriver\n",
    "\n",
    "from selenium.webdriver.common.keys import Keys\n",
    "\n",
    "from selenium.webdriver.common.action_chains import ActionChains\n",
    "\n",
    "import time"
   ]
  },
  {
   "cell_type": "markdown",
   "metadata": {},
   "source": [
    "***Para utilizar el chromedriver hay que descargarlo y cambiar la ruta.***"
   ]
  },
  {
   "cell_type": "code",
   "execution_count": 4,
   "metadata": {
    "ExecuteTime": {
     "end_time": "2021-03-22T14:20:28.476267Z",
     "start_time": "2021-03-22T14:20:07.006828Z"
    }
   },
   "outputs": [],
   "source": [
    "chrome_driver = '/Users/cris/Documents/Repositorios/local_docs/chromedriver'\n",
    "\n",
    "options = webdriver.ChromeOptions()\n",
    "\n",
    "driver = webdriver.Chrome(executable_path = chrome_driver, options = options)"
   ]
  },
  {
   "cell_type": "markdown",
   "metadata": {},
   "source": [
    "### Iniciar sesión en LinkedIn"
   ]
  },
  {
   "cell_type": "code",
   "execution_count": 5,
   "metadata": {
    "ExecuteTime": {
     "end_time": "2021-03-22T14:20:32.838061Z",
     "start_time": "2021-03-22T14:20:32.830008Z"
    }
   },
   "outputs": [],
   "source": [
    "def login(username, password):\n",
    "    driver.get('https://www.linkedin.com/uas/login')\n",
    "\n",
    "    username_input = driver.find_element_by_id('username')\n",
    "    username_input.send_keys(username)\n",
    "\n",
    "    password_input = driver.find_element_by_id('password')\n",
    "    password_input.send_keys(password)\n",
    "    password_input.submit()"
   ]
  },
  {
   "cell_type": "code",
   "execution_count": 6,
   "metadata": {
    "ExecuteTime": {
     "end_time": "2021-03-22T14:20:45.897186Z",
     "start_time": "2021-03-22T14:20:34.986058Z"
    }
   },
   "outputs": [],
   "source": [
    "username = 'john_ds99@outlook.com'\n",
    "password = 'vUgrH8D6lCKY6XasC6dZ'\n",
    "\n",
    "login(username, password)"
   ]
  },
  {
   "cell_type": "markdown",
   "metadata": {},
   "source": [
    "#### Iniciar búsqueda de un empleo"
   ]
  },
  {
   "cell_type": "code",
   "execution_count": 7,
   "metadata": {
    "ExecuteTime": {
     "end_time": "2021-03-22T14:20:48.389244Z",
     "start_time": "2021-03-22T14:20:47.520742Z"
    }
   },
   "outputs": [],
   "source": [
    "# Pincha en el campo de búsqueda, introduce el puesto y lo busca.\n",
    "\n",
    "search_job = driver.find_elements_by_tag_name('input')\n",
    "search_job[1].send_keys('Data analyst')\n",
    "search_job[1].send_keys(Keys.ENTER)"
   ]
  },
  {
   "cell_type": "markdown",
   "metadata": {},
   "source": [
    "#### Pinchar en empleo:\n",
    "\n",
    "Al buscar, hay que pinchar en empleo, ya que la página te deja elegir entre personas, grupos, empleos, etc."
   ]
  },
  {
   "cell_type": "code",
   "execution_count": 8,
   "metadata": {
    "ExecuteTime": {
     "end_time": "2021-03-22T14:21:04.434269Z",
     "start_time": "2021-03-22T14:21:03.500142Z"
    }
   },
   "outputs": [],
   "source": [
    "b_jobs = driver.find_elements_by_tag_name('button')\n",
    "\n",
    "for i in b_jobs:\n",
    "    if i.text == 'Empleos':\n",
    "        i.click()"
   ]
  },
  {
   "cell_type": "markdown",
   "metadata": {},
   "source": [
    "#### Recoger info puesto trabajo:"
   ]
  },
  {
   "cell_type": "code",
   "execution_count": 58,
   "metadata": {
    "ExecuteTime": {
     "end_time": "2021-03-22T15:01:37.822979Z",
     "start_time": "2021-03-22T15:01:37.814955Z"
    }
   },
   "outputs": [],
   "source": [
    "def search_cont():\n",
    "\n",
    "    content = driver.find_element_by_class_name(\"jobs-search-results__list.list-style-none\")\n",
    "    content_list = content.find_elements_by_class_name(\"mr1.artdeco-entity-lockup__image.artdeco-entity-lockup__image--type-square.ember-view\")\n",
    "\n",
    "    for i in range(50):    \n",
    "        content_list[i].click()\n",
    "        time.sleep(1)\n",
    "        content = driver.find_element_by_class_name(\"jobs-search-results__list.list-style-none\")\n",
    "        content_list = content.find_elements_by_class_name(\"mr1.artdeco-entity-lockup__image.artdeco-entity-lockup__image--type-square.ember-view\")\n",
    "        if len(content_list)-1 == i:\n",
    "            break"
   ]
  },
  {
   "cell_type": "code",
   "execution_count": 73,
   "metadata": {
    "ExecuteTime": {
     "end_time": "2021-03-22T15:20:20.334358Z",
     "start_time": "2021-03-22T15:20:20.324441Z"
    }
   },
   "outputs": [],
   "source": [
    "def search_cont(jobs_list):\n",
    "\n",
    "    content = driver.find_element_by_class_name(\"jobs-search-results__list.list-style-none\")\n",
    "    content_list = content.find_elements_by_class_name(\"mr1.artdeco-entity-lockup__image.artdeco-entity-lockup__image--type-square.ember-view\")\n",
    "\n",
    "    for i in range(50):    \n",
    "        content_list[i].click()\n",
    "        time.sleep(3)\n",
    "        info_df = info_collect(driver)\n",
    "        titulos_col = ['Nombre empresa', 'Puesto ofertado', 'Ubicación', 'Días activos', 'Nº Solicitudes', 'Nivel experiencia', 'Sector', 'Tipo jornada', 'Funciones laborales', 'Descripción']\n",
    "        df_prueba = pd.DataFrame([info_df], columns = titulos_col)\n",
    "        jobs_list = jobs_list.append(df_prueba)\n",
    "        time.sleep(3)\n",
    "        content = driver.find_element_by_class_name(\"jobs-search-results__list.list-style-none\")\n",
    "        content_list = content.find_elements_by_class_name(\"mr1.artdeco-entity-lockup__image.artdeco-entity-lockup__image--type-square.ember-view\")\n",
    "        if len(content_list)-1 == i:\n",
    "            break\n",
    "        return jobs_list"
   ]
  },
  {
   "cell_type": "code",
   "execution_count": 68,
   "metadata": {
    "ExecuteTime": {
     "end_time": "2021-03-22T15:19:09.509220Z",
     "start_time": "2021-03-22T15:19:09.500871Z"
    }
   },
   "outputs": [],
   "source": [
    "def change_page(count):\n",
    "    count +=1\n",
    "    number = driver.find_elements_by_tag_name('li.artdeco-pagination__indicator.artdeco-pagination__indicator--number.ember-view')\n",
    "    time.sleep(2)\n",
    "\n",
    "    for j in range(len(number)):\n",
    "        if number[j].text == str(count):\n",
    "            number[j].click()\n",
    "            time.sleep(5)\n",
    "            print('ok')\n",
    "            break\n",
    "\n",
    "        elif number[j].text == '…':\n",
    "            number[j].click()\n",
    "            time.sleep(5)\n",
    "            print('ok2')\n",
    "            break\n",
    "    \n",
    "    return count"
   ]
  },
  {
   "cell_type": "markdown",
   "metadata": {
    "ExecuteTime": {
     "end_time": "2021-03-22T14:49:10.886349Z",
     "start_time": "2021-03-22T14:49:10.878214Z"
    }
   },
   "source": [
    "### PRUEBA"
   ]
  },
  {
   "cell_type": "code",
   "execution_count": 74,
   "metadata": {
    "ExecuteTime": {
     "end_time": "2021-03-22T15:20:35.985630Z",
     "start_time": "2021-03-22T15:20:22.163893Z"
    }
   },
   "outputs": [
    {
     "name": "stdout",
     "output_type": "stream",
     "text": [
      "ok\n"
     ]
    },
    {
     "ename": "NameError",
     "evalue": "name 'df_prueba' is not defined",
     "output_type": "error",
     "traceback": [
      "\u001b[0;31m---------------------------------------------------------------------------\u001b[0m",
      "\u001b[0;31mNameError\u001b[0m                                 Traceback (most recent call last)",
      "\u001b[0;32m<ipython-input-74-46d5fa6bbe0b>\u001b[0m in \u001b[0;36m<module>\u001b[0;34m\u001b[0m\n\u001b[1;32m      8\u001b[0m         \u001b[0msearch_cont\u001b[0m\u001b[0;34m(\u001b[0m\u001b[0mjobs_list\u001b[0m\u001b[0;34m)\u001b[0m\u001b[0;34m\u001b[0m\u001b[0;34m\u001b[0m\u001b[0m\n\u001b[1;32m      9\u001b[0m         \u001b[0mchange_page\u001b[0m\u001b[0;34m(\u001b[0m\u001b[0mcount\u001b[0m\u001b[0;34m)\u001b[0m\u001b[0;34m\u001b[0m\u001b[0;34m\u001b[0m\u001b[0m\n\u001b[0;32m---> 10\u001b[0;31m         \u001b[0mjobs_list\u001b[0m \u001b[0;34m=\u001b[0m \u001b[0mjobs_list\u001b[0m\u001b[0;34m.\u001b[0m\u001b[0mappend\u001b[0m\u001b[0;34m(\u001b[0m\u001b[0mdf_prueba\u001b[0m\u001b[0;34m)\u001b[0m\u001b[0;34m\u001b[0m\u001b[0;34m\u001b[0m\u001b[0m\n\u001b[0m",
      "\u001b[0;31mNameError\u001b[0m: name 'df_prueba' is not defined"
     ]
    }
   ],
   "source": [
    "count = 1\n",
    "jobs_list = pd.DataFrame()\n",
    "\n",
    "for x in range(2):\n",
    "    if x == 2:\n",
    "        break\n",
    "    else:\n",
    "        search_cont(jobs_list)\n",
    "        change_page(count)\n",
    "        jobs_list = jobs_list.append(df_prueba)"
   ]
  },
  {
   "cell_type": "markdown",
   "metadata": {},
   "source": [
    "## Buscar la información dentro de cada página y recolectarla"
   ]
  },
  {
   "cell_type": "code",
   "execution_count": 70,
   "metadata": {
    "ExecuteTime": {
     "end_time": "2021-03-22T15:19:26.402148Z",
     "start_time": "2021-03-22T15:19:26.390171Z"
    }
   },
   "outputs": [],
   "source": [
    "# Creo lista con toda la información recopilada de la empresa, por orden.\n",
    "\n",
    "def info_collect(driver):\n",
    "\n",
    "    info_df = []\n",
    "    \n",
    "    title = driver.find_elements_by_tag_name('div.jobs-details-top-card__content-container')\n",
    "   \n",
    "    title = title[0].text.splitlines()\n",
    "    \n",
    "    \n",
    "    if len(title) < 9:\n",
    "\n",
    "        title = [title [0], '', '', '', '']\n",
    "\n",
    "    elif title[5] == 'Nuevo':\n",
    "        title = [title[2], title[0], title[4], title[7], title[9]]\n",
    "\n",
    "    else:\n",
    "        title = [title[2], title[0], title[4], title[6], title[8]]\n",
    "        \n",
    "        \n",
    "    \n",
    "    info_job_comp = driver.find_elements_by_tag_name('li.artdeco-list__item.jobs-details-job-summary-list__item.jobs-details-job-summary-list__item--bullet')\n",
    "    \n",
    "    info_job_comp = info_job_comp[0].text.splitlines()\n",
    "    \n",
    "    \n",
    "    job_desc = driver.find_elements_by_tag_name('div.jobs-box__html-content.jobs-description-content__text.t-14.t-normal')\n",
    "    \n",
    "    job_desc1 = [job_desc[0].text]\n",
    "    \n",
    "\n",
    "    \n",
    "    job_desc2 = job_desc[0].text.splitlines()[-8:]\n",
    "    \n",
    "    job_desc2 = [job_desc2[1], job_desc2[3], job_desc2[5], job_desc2[7]]\n",
    "    \n",
    "    info_df = title + job_desc2 + job_desc1\n",
    "    \n",
    "    return info_df"
   ]
  },
  {
   "cell_type": "code",
   "execution_count": null,
   "metadata": {},
   "outputs": [],
   "source": [
    "# Creo los títulos de las columnas del df.\n",
    "\n",
    "titulos_col = ['Nombre empresa', 'Puesto ofertado', 'Ubicación', 'Días activos', 'Nº Solicitudes', 'Nivel experiencia', 'Sector', 'Tipo jornada', 'Funciones laborales', 'Descripción']"
   ]
  },
  {
   "cell_type": "code",
   "execution_count": null,
   "metadata": {},
   "outputs": [],
   "source": [
    "jobs_list = pd.DataFrame()"
   ]
  },
  {
   "cell_type": "code",
   "execution_count": null,
   "metadata": {},
   "outputs": [],
   "source": [
    "# Recoge todos los puestos de trabajo de la página en una lista.\n",
    "\n",
    "parentElement = driver.find_element_by_class_name(\"jobs-search-results__list.list-style-none\")\n",
    "\n",
    "elementList = parentElement.find_elements_by_class_name(\"mr1.artdeco-entity-lockup__image.artdeco-entity-lockup__image--type-square.ember-view\")"
   ]
  },
  {
   "cell_type": "code",
   "execution_count": null,
   "metadata": {},
   "outputs": [],
   "source": [
    "for i in range(len(elementList)):\n",
    "    \n",
    "    elementList[i].click()\n",
    "    time.sleep(2)\n",
    "    info_df = info_collect(driver)\n",
    "    df_prueba = pd.DataFrame([info_df], columns = titulos_col)\n",
    "    jobs_list = jobs_list.append(df_prueba)"
   ]
  },
  {
   "cell_type": "code",
   "execution_count": null,
   "metadata": {},
   "outputs": [],
   "source": [
    "jobs_list.to_csv(r'/Users/cris/Documents/Repositorios/EDA_DS_Market/info_data_analysis.csv', index = False)"
   ]
  },
  {
   "cell_type": "markdown",
   "metadata": {},
   "source": [
    "### Mismo método aplicado para Data Scientist"
   ]
  },
  {
   "cell_type": "code",
   "execution_count": null,
   "metadata": {},
   "outputs": [],
   "source": [
    "# Primero hacer un driver.back() y cambiar el puesto a buscar.\n",
    "\n",
    "parentElement = driver.find_element_by_class_name(\"jobs-search-results__list.list-style-none\")\n",
    "\n",
    "elementList = parentElement.find_elements_by_class_name(\"mr1.artdeco-entity-lockup__image.artdeco-entity-lockup__image--type-square.ember-view\")"
   ]
  },
  {
   "cell_type": "code",
   "execution_count": null,
   "metadata": {},
   "outputs": [],
   "source": [
    "# Creo los títulos de las columnas del df.\n",
    "\n",
    "titulos_col = ['Nombre empresa', 'Puesto ofertado', 'Ubicación', 'Días activos', 'Nº Solicitudes', 'Nivel experiencia', 'Sector', 'Tipo jornada', 'Funciones laborales', 'Descripción']"
   ]
  },
  {
   "cell_type": "code",
   "execution_count": null,
   "metadata": {},
   "outputs": [],
   "source": [
    "jobs_data_scientist_list = pd.DataFrame()"
   ]
  },
  {
   "cell_type": "code",
   "execution_count": null,
   "metadata": {},
   "outputs": [],
   "source": [
    "for i in range(len(elementList)):\n",
    "    elementList[i].click()\n",
    "    time.sleep(2)\n",
    "    info_df = info_collect(driver)\n",
    "    df_prueba = pd.DataFrame([info_df], columns = titulos_col)\n",
    "    jobs_data_scientist_list = jobs_data_scientist_list.append(df_prueba)"
   ]
  },
  {
   "cell_type": "code",
   "execution_count": null,
   "metadata": {},
   "outputs": [],
   "source": [
    "jobs_data_scientist_list"
   ]
  },
  {
   "cell_type": "code",
   "execution_count": null,
   "metadata": {},
   "outputs": [],
   "source": [
    "jobs_data_scientist_list.to_csv('info_data_scientist.csv')"
   ]
  },
  {
   "cell_type": "code",
   "execution_count": null,
   "metadata": {},
   "outputs": [],
   "source": []
  }
 ],
 "metadata": {
  "hide_input": false,
  "kernelspec": {
   "display_name": "Python 3",
   "language": "python",
   "name": "python3"
  },
  "language_info": {
   "codemirror_mode": {
    "name": "ipython",
    "version": 3
   },
   "file_extension": ".py",
   "mimetype": "text/x-python",
   "name": "python",
   "nbconvert_exporter": "python",
   "pygments_lexer": "ipython3",
   "version": "3.8.8"
  },
  "toc": {
   "base_numbering": 1,
   "nav_menu": {},
   "number_sections": true,
   "sideBar": true,
   "skip_h1_title": false,
   "title_cell": "Table of Contents",
   "title_sidebar": "Contents",
   "toc_cell": false,
   "toc_position": {},
   "toc_section_display": true,
   "toc_window_display": false
  },
  "varInspector": {
   "cols": {
    "lenName": 16,
    "lenType": 16,
    "lenVar": 40
   },
   "kernels_config": {
    "python": {
     "delete_cmd_postfix": "",
     "delete_cmd_prefix": "del ",
     "library": "var_list.py",
     "varRefreshCmd": "print(var_dic_list())"
    },
    "r": {
     "delete_cmd_postfix": ") ",
     "delete_cmd_prefix": "rm(",
     "library": "var_list.r",
     "varRefreshCmd": "cat(var_dic_list()) "
    }
   },
   "types_to_exclude": [
    "module",
    "function",
    "builtin_function_or_method",
    "instance",
    "_Feature"
   ],
   "window_display": false
  }
 },
 "nbformat": 4,
 "nbformat_minor": 4
}
