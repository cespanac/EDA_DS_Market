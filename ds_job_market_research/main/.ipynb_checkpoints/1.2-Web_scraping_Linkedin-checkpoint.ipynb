{
 "cells": [
  {
   "cell_type": "markdown",
   "metadata": {},
   "source": [
    "# Web scraping Linkedin\n",
    "## DS Market research"
   ]
  },
  {
   "cell_type": "markdown",
   "metadata": {},
   "source": [
    "### Importar Pandas y activar el Chrome Driver"
   ]
  },
  {
   "cell_type": "code",
   "execution_count": 35,
   "metadata": {
    "ExecuteTime": {
     "end_time": "2021-04-27T22:15:14.978335Z",
     "start_time": "2021-04-27T22:15:14.975102Z"
    }
   },
   "outputs": [],
   "source": [
    "import pandas as pd\n",
    "\n",
    "from selenium import webdriver\n",
    "\n",
    "from selenium.webdriver.common.keys import Keys\n",
    "\n",
    "from selenium.webdriver.common.action_chains import ActionChains\n",
    "\n",
    "import time"
   ]
  },
  {
   "cell_type": "markdown",
   "metadata": {},
   "source": [
    "***Para utilizar el chromedriver hay que descargarlo y cambiar la ruta.***"
   ]
  },
  {
   "cell_type": "code",
   "execution_count": 36,
   "metadata": {
    "ExecuteTime": {
     "end_time": "2021-04-27T22:15:19.202576Z",
     "start_time": "2021-04-27T22:15:15.886528Z"
    }
   },
   "outputs": [],
   "source": [
    "chrome_driver = '/Users/cris/Repositorios/local_docs/curso_ds21/chromedriver'\n",
    "\n",
    "options = webdriver.ChromeOptions()\n",
    "\n",
    "driver = webdriver.Chrome(executable_path = chrome_driver, options = options)"
   ]
  },
  {
   "cell_type": "markdown",
   "metadata": {},
   "source": [
    "### Iniciar sesión en LinkedIn"
   ]
  },
  {
   "cell_type": "code",
   "execution_count": 37,
   "metadata": {
    "ExecuteTime": {
     "end_time": "2021-04-27T22:15:28.799186Z",
     "start_time": "2021-04-27T22:15:28.794903Z"
    }
   },
   "outputs": [],
   "source": [
    "def login(username, password):\n",
    "    driver.get('https://www.linkedin.com/uas/login')\n",
    "\n",
    "    username_input = driver.find_element_by_id('username')\n",
    "    username_input.send_keys(username)\n",
    "\n",
    "    password_input = driver.find_element_by_id('password')\n",
    "    password_input.send_keys(password)\n",
    "    password_input.submit()"
   ]
  },
  {
   "cell_type": "code",
   "execution_count": 38,
   "metadata": {
    "ExecuteTime": {
     "end_time": "2021-04-27T22:15:31.516304Z",
     "start_time": "2021-04-27T22:15:29.567325Z"
    }
   },
   "outputs": [],
   "source": [
    "username = 'john_ds99@outlook.com'\n",
    "password = 'vUgrH8D6lCKY6XasC6dZ'\n",
    "\n",
    "login(username, password)"
   ]
  },
  {
   "cell_type": "markdown",
   "metadata": {},
   "source": [
    "#### Iniciar búsqueda de un empleo"
   ]
  },
  {
   "cell_type": "code",
   "execution_count": 39,
   "metadata": {
    "ExecuteTime": {
     "end_time": "2021-04-27T22:15:56.372167Z",
     "start_time": "2021-04-27T22:15:56.268960Z"
    }
   },
   "outputs": [],
   "source": [
    "# Pincha en el campo de búsqueda, introduce el puesto y lo busca.\n",
    "\n",
    "search_job = driver.find_element_by_tag_name('input.search-global-typeahead__input.always-show-placeholder')\n",
    "search_job.send_keys('Data analyst')\n",
    "search_job.send_keys(Keys.ENTER)"
   ]
  },
  {
   "cell_type": "markdown",
   "metadata": {},
   "source": [
    "#### Pinchar en empleo:\n",
    "\n",
    "Al buscar, hay que pinchar en empleo, ya que la página te deja elegir entre personas, grupos, empleos, etc."
   ]
  },
  {
   "cell_type": "code",
   "execution_count": 41,
   "metadata": {
    "ExecuteTime": {
     "end_time": "2021-04-27T22:16:05.454270Z",
     "start_time": "2021-04-27T22:16:05.136434Z"
    }
   },
   "outputs": [],
   "source": [
    "b_jobs = driver.find_elements_by_tag_name('button')\n",
    "\n",
    "for i in b_jobs:\n",
    "    if i.text == 'Empleos':\n",
    "        i.click()"
   ]
  },
  {
   "cell_type": "markdown",
   "metadata": {},
   "source": [
    "#### Recoger info puesto trabajo:"
   ]
  },
  {
   "cell_type": "code",
   "execution_count": 42,
   "metadata": {
    "ExecuteTime": {
     "end_time": "2021-04-27T22:16:10.564010Z",
     "start_time": "2021-04-27T22:16:10.560833Z"
    }
   },
   "outputs": [],
   "source": [
    "def search_cont(jobs_list):\n",
    "\n",
    "    content = driver.find_element_by_class_name(\"jobs-search-results__list.list-style-none\")\n",
    "    content_list = content.find_elements_by_class_name(\"mr1.artdeco-entity-lockup__image.artdeco-entity-lockup__image--type-square.ember-view\")\n",
    "\n",
    "    for i in range(50):    \n",
    "        content_list[i].click()\n",
    "        time.sleep(3)\n",
    "        info_df = info_collect(driver)\n",
    "        titulos_col = ['Nombre empresa', 'Puesto ofertado', 'Ubicación', 'Días activos', 'Nº Solicitudes', 'Nivel experiencia', 'Sector', 'Tipo jornada', 'Funciones laborales', 'Descripción']\n",
    "        df_prueba = pd.DataFrame([info_df], columns = titulos_col)\n",
    "        jobs_list = jobs_list.append(df_prueba)\n",
    "        time.sleep(3)\n",
    "        content = driver.find_element_by_class_name(\"jobs-search-results__list.list-style-none\")\n",
    "        content_list = content.find_elements_by_class_name(\"mr1.artdeco-entity-lockup__image.artdeco-entity-lockup__image--type-square.ember-view\")\n",
    "        if len(content_list)-1 == i:\n",
    "            return jobs_list    "
   ]
  },
  {
   "cell_type": "code",
   "execution_count": 43,
   "metadata": {
    "ExecuteTime": {
     "end_time": "2021-04-27T22:16:11.488154Z",
     "start_time": "2021-04-27T22:16:11.482645Z"
    }
   },
   "outputs": [],
   "source": [
    "def change_page(count):\n",
    "    count +=1\n",
    "    number = driver.find_elements_by_tag_name('li.artdeco-pagination__indicator.artdeco-pagination__indicator--number.ember-view')\n",
    "    time.sleep(2)\n",
    "\n",
    "    for j in range(len(number)):\n",
    "        if number[j].text == str(count):\n",
    "            number[j].click()\n",
    "            time.sleep(5)\n",
    "            print('ok')\n",
    "            break\n",
    "\n",
    "        elif number[j].text == '…':\n",
    "            number[j].click()\n",
    "            time.sleep(5)\n",
    "            print('ok2')\n",
    "            break\n",
    "    \n",
    "    return count"
   ]
  },
  {
   "cell_type": "markdown",
   "metadata": {
    "ExecuteTime": {
     "end_time": "2021-03-22T14:49:10.886349Z",
     "start_time": "2021-03-22T14:49:10.878214Z"
    }
   },
   "source": [
    "### PRUEBA"
   ]
  },
  {
   "cell_type": "code",
   "execution_count": 50,
   "metadata": {
    "ExecuteTime": {
     "end_time": "2021-04-27T22:27:47.625463Z",
     "start_time": "2021-04-27T22:25:23.755403Z"
    }
   },
   "outputs": [
    {
     "name": "stdout",
     "output_type": "stream",
     "text": [
      "ok\n"
     ]
    }
   ],
   "source": [
    "count = 1\n",
    "jobs_list = pd.DataFrame()\n",
    "jobs = pd.DataFrame()\n",
    "\n",
    "for x in range(2):\n",
    "    if x == 1:\n",
    "        break\n",
    "    else:\n",
    "        jobs_list = search_cont(jobs_list)\n",
    "        jobs = jobs.append(jobs_list)\n",
    "        change_page(count)"
   ]
  },
  {
   "cell_type": "code",
   "execution_count": 51,
   "metadata": {
    "ExecuteTime": {
     "end_time": "2021-04-27T22:28:32.377853Z",
     "start_time": "2021-04-27T22:28:32.355544Z"
    }
   },
   "outputs": [
    {
     "data": {
      "text/html": [
       "<div>\n",
       "<style scoped>\n",
       "    .dataframe tbody tr th:only-of-type {\n",
       "        vertical-align: middle;\n",
       "    }\n",
       "\n",
       "    .dataframe tbody tr th {\n",
       "        vertical-align: top;\n",
       "    }\n",
       "\n",
       "    .dataframe thead th {\n",
       "        text-align: right;\n",
       "    }\n",
       "</style>\n",
       "<table border=\"1\" class=\"dataframe\">\n",
       "  <thead>\n",
       "    <tr style=\"text-align: right;\">\n",
       "      <th></th>\n",
       "      <th>Nombre empresa</th>\n",
       "      <th>Puesto ofertado</th>\n",
       "      <th>Ubicación</th>\n",
       "      <th>Días activos</th>\n",
       "      <th>Nº Solicitudes</th>\n",
       "      <th>Nivel experiencia</th>\n",
       "      <th>Sector</th>\n",
       "      <th>Tipo jornada</th>\n",
       "      <th>Funciones laborales</th>\n",
       "      <th>Descripción</th>\n",
       "    </tr>\n",
       "  </thead>\n",
       "  <tbody>\n",
       "    <tr>\n",
       "      <th>0</th>\n",
       "      <td>Novabase</td>\n",
       "      <td>Analista de Datos - Power BI - Remoto</td>\n",
       "      <td>Madrid, Comunidad de Madrid, España</td>\n",
       "      <td>Publicado hace hace 6 horas</td>\n",
       "      <td>218 visualizaciones</td>\n",
       "      <td>Algo de responsabilidad</td>\n",
       "      <td>Servicios y tecnologías de la información</td>\n",
       "      <td>Jornada completa</td>\n",
       "      <td>Ingeniería</td>\n",
       "      <td>Anunciado por\\nNatalia Hernanz\\nIT Recruitment...</td>\n",
       "    </tr>\n",
       "    <tr>\n",
       "      <th>0</th>\n",
       "      <td>Kabel Sistemas de Información S.L.</td>\n",
       "      <td>IT Business Analyst (A Coruña/Remoto)</td>\n",
       "      <td>Madrid, Comunidad de Madrid, España</td>\n",
       "      <td>Publicado hace hace 5 días</td>\n",
       "      <td>273 visualizaciones</td>\n",
       "      <td>Intermedio</td>\n",
       "      <td>Servicios y tecnologías de la información</td>\n",
       "      <td>Jornada completa</td>\n",
       "      <td>Tecnología de la información</td>\n",
       "      <td>Anunciado por\\nRosalía F.\\nTalent Acquisition ...</td>\n",
       "    </tr>\n",
       "    <tr>\n",
       "      <th>0</th>\n",
       "      <td>Freepik Company</td>\n",
       "      <td>Data Analyst</td>\n",
       "      <td>Málaga, Andalucía, España</td>\n",
       "      <td>Publicado hace hace 3 semanas</td>\n",
       "      <td>487 visualizaciones</td>\n",
       "      <td>Algo de responsabilidad</td>\n",
       "      <td>Diseño</td>\n",
       "      <td>Jornada completa</td>\n",
       "      <td>Análisis</td>\n",
       "      <td>¡El Universo de Freepik sigue en plena Expansi...</td>\n",
       "    </tr>\n",
       "    <tr>\n",
       "      <th>0</th>\n",
       "      <td>Brainly</td>\n",
       "      <td>Data Analyst (Product Growth)</td>\n",
       "      <td>España En remoto</td>\n",
       "      <td>Publicado hace hace 2 semanas</td>\n",
       "      <td>288 visualizaciones</td>\n",
       "      <td>Intermedio</td>\n",
       "      <td>Internet</td>\n",
       "      <td>Jornada completa</td>\n",
       "      <td>Tecnología de la información</td>\n",
       "      <td>NOTICE: ONLINE RECRUITMENT\\n\\nLOCATION: Barcel...</td>\n",
       "    </tr>\n",
       "    <tr>\n",
       "      <th>0</th>\n",
       "      <td>Auth0</td>\n",
       "      <td>Business Data Analyst</td>\n",
       "      <td>Madrid, Comunidad de Madrid, España</td>\n",
       "      <td>Publicado hace hace 5 días</td>\n",
       "      <td>149 visualizaciones</td>\n",
       "      <td>Intermedio</td>\n",
       "      <td>Software Seguridad del ordenador y de las rede...</td>\n",
       "      <td>Jornada completa</td>\n",
       "      <td>Tecnología de la información</td>\n",
       "      <td>Auth0 is a unicorn that just closed a $120M Se...</td>\n",
       "    </tr>\n",
       "    <tr>\n",
       "      <th>0</th>\n",
       "      <td>MediaMonks</td>\n",
       "      <td>Senior Data Analyst</td>\n",
       "      <td>Madrid, Comunidad de Madrid, España</td>\n",
       "      <td>Publicado hace hace 2 semanas</td>\n",
       "      <td>112 visualizaciones</td>\n",
       "      <td>Intermedio</td>\n",
       "      <td>Marketing y publicidad</td>\n",
       "      <td>Jornada completa</td>\n",
       "      <td>Análisis</td>\n",
       "      <td>Anunciado por\\nGeorgina Bianchi\\nGlobal Head o...</td>\n",
       "    </tr>\n",
       "    <tr>\n",
       "      <th>0</th>\n",
       "      <td>Ryanair - Europe's Favourite Airline</td>\n",
       "      <td>CRM Data Analyst</td>\n",
       "      <td>Madrid, Comunidad de Madrid, España</td>\n",
       "      <td>Publicado hace hace 1 semana</td>\n",
       "      <td>406 visualizaciones</td>\n",
       "      <td>Intermedio</td>\n",
       "      <td>Dotación y selección de personal Recursos huma...</td>\n",
       "      <td>Jornada completa</td>\n",
       "      <td>Análisis</td>\n",
       "      <td>Ryanair is Europe’s favourite airline, carryin...</td>\n",
       "    </tr>\n",
       "    <tr>\n",
       "      <th>0</th>\n",
       "      <td>Strategy Big Data</td>\n",
       "      <td>Data Analyst</td>\n",
       "      <td>España En remoto</td>\n",
       "      <td>Publicado hace hace 1 semana</td>\n",
       "      <td>515 visualizaciones</td>\n",
       "      <td>Sin experiencia</td>\n",
       "      <td>Servicios y tecnologías de la información</td>\n",
       "      <td>Jornada completa</td>\n",
       "      <td>Tecnología de la información</td>\n",
       "      <td>Anunciado por\\nKarla Maryed Blanco Rodriguez\\n...</td>\n",
       "    </tr>\n",
       "    <tr>\n",
       "      <th>0</th>\n",
       "      <td>Constella Intelligence</td>\n",
       "      <td>Junior Data Analyst w/English-German</td>\n",
       "      <td>Madrid, Comunidad de Madrid, España</td>\n",
       "      <td>Publicado hace hace 4 días</td>\n",
       "      <td>463 visualizaciones</td>\n",
       "      <td>- Depth &amp; Updated knowledge on Excell,...</td>\n",
       "      <td>- Python:  Knowledge of data science basic lib...</td>\n",
       "      <td>- knowledge of other tools as Google Analytics...</td>\n",
       "      <td>Jornada completa</td>\n",
       "      <td>Role and Responsibilities\\nThrough investigati...</td>\n",
       "    </tr>\n",
       "    <tr>\n",
       "      <th>0</th>\n",
       "      <td>PRGX Global Inc.</td>\n",
       "      <td>Data Analyst</td>\n",
       "      <td>Madrid, Comunidad de Madrid, España</td>\n",
       "      <td>Publicado hace hace 22 horas</td>\n",
       "      <td>31 visualizaciones</td>\n",
       "      <td>Sin experiencia</td>\n",
       "      <td>Servicios y tecnologías de la información Segu...</td>\n",
       "      <td>Jornada completa</td>\n",
       "      <td>Tecnología de la información</td>\n",
       "      <td>Summary\\n\\nData Analyst interacts with global,...</td>\n",
       "    </tr>\n",
       "    <tr>\n",
       "      <th>0</th>\n",
       "      <td>Clickedge</td>\n",
       "      <td>Tech Digital Analyst</td>\n",
       "      <td>Madrid, Comunidad de Madrid, España En remoto</td>\n",
       "      <td>Publicado hace hace 1 día</td>\n",
       "      <td>384 visualizaciones</td>\n",
       "      <td></td>\n",
       "      <td></td>\n",
       "      <td></td>\n",
       "      <td>Jornada completa</td>\n",
       "      <td>Anunciado por\\nJose Luis Blasco\\nDirector Digi...</td>\n",
       "    </tr>\n",
       "    <tr>\n",
       "      <th>0</th>\n",
       "      <td>Accenture España</td>\n",
       "      <td>Big Data Analyst</td>\n",
       "      <td>Madrid, Comunidad de Madrid, España</td>\n",
       "      <td>Publicado hace hace 2 semanas</td>\n",
       "      <td>102 visualizaciones</td>\n",
       "      <td>Intermedio</td>\n",
       "      <td>Servicios y tecnologías de la información Soft...</td>\n",
       "      <td>Jornada completa</td>\n",
       "      <td>Tecnología de la información Ingeniería</td>\n",
       "      <td>Esta es tu oportunidad para unirte a un equipo...</td>\n",
       "    </tr>\n",
       "    <tr>\n",
       "      <th>0</th>\n",
       "      <td>dgtl fundraising</td>\n",
       "      <td>Analista de datos</td>\n",
       "      <td>Madrid, Comunidad de Madrid, España</td>\n",
       "      <td>Publicado hace hace 1 día</td>\n",
       "      <td>816 visualizaciones</td>\n",
       "      <td>Flexibilidad horaria y teletrabajo</td>\n",
       "      <td></td>\n",
       "      <td>Envía tu cv y carta de motivación a hola@dgtl....</td>\n",
       "      <td>Jornada completa</td>\n",
       "      <td>Anunciado por\\nDani González\\nFounder &amp; CEO en...</td>\n",
       "    </tr>\n",
       "    <tr>\n",
       "      <th>0</th>\n",
       "      <td>StratioBD</td>\n",
       "      <td>Analista de datos</td>\n",
       "      <td>Madrid, Comunidad de Madrid, España En remoto</td>\n",
       "      <td>Publicado hace hace 6 días</td>\n",
       "      <td>601 visualizaciones</td>\n",
       "      <td>Intermedio</td>\n",
       "      <td>Software</td>\n",
       "      <td>Jornada completa</td>\n",
       "      <td>Tecnología de la información</td>\n",
       "      <td>Anunciado por\\nVeronica Corrales\\nCoach volunt...</td>\n",
       "    </tr>\n",
       "    <tr>\n",
       "      <th>0</th>\n",
       "      <td>Reby</td>\n",
       "      <td>Junior Operations Data Analyst</td>\n",
       "      <td>Barcelona, Cataluña, España</td>\n",
       "      <td>Publicado hace hace 6 días</td>\n",
       "      <td>740 visualizaciones</td>\n",
       "      <td>Free rides to drive our cool &amp; sustainable veh...</td>\n",
       "      <td>A rapidly changing environment with lots of ch...</td>\n",
       "      <td></td>\n",
       "      <td>Jornada completa</td>\n",
       "      <td>Anunciado por\\nJuanfran Sánchez Arqués\\nHead o...</td>\n",
       "    </tr>\n",
       "    <tr>\n",
       "      <th>0</th>\n",
       "      <td>Agoda</td>\n",
       "      <td>Data Analyst (Bangkok Based, relocation provided)</td>\n",
       "      <td>Madrid, Comunidad de Madrid, España</td>\n",
       "      <td>Publicado hace hace 3 semanas</td>\n",
       "      <td>135 visualizaciones</td>\n",
       "      <td>Algo de responsabilidad</td>\n",
       "      <td>Internet</td>\n",
       "      <td>Jornada completa</td>\n",
       "      <td>Tecnología de la información</td>\n",
       "      <td>About Agoda\\n\\nAgoda is an online travel booki...</td>\n",
       "    </tr>\n",
       "    <tr>\n",
       "      <th>0</th>\n",
       "      <td>Blok</td>\n",
       "      <td>Data Analyst</td>\n",
       "      <td>Barcelona, Cataluña, España</td>\n",
       "      <td>Publicado hace hace 3 semanas</td>\n",
       "      <td>506 visualizaciones</td>\n",
       "      <td>Algo de responsabilidad</td>\n",
       "      <td>Servicios y tecnologías de la información Soft...</td>\n",
       "      <td>Jornada completa</td>\n",
       "      <td>Análisis</td>\n",
       "      <td>Why Us?\\n\\nWe are on our way to revolutionize ...</td>\n",
       "    </tr>\n",
       "    <tr>\n",
       "      <th>0</th>\n",
       "      <td>New Tandem</td>\n",
       "      <td>Analista de Datos</td>\n",
       "      <td>Madrid, Comunidad de Madrid, España</td>\n",
       "      <td>Publicado hace hace 19 horas</td>\n",
       "      <td>219 visualizaciones</td>\n",
       "      <td>Sin experiencia</td>\n",
       "      <td>Recursos humanos Banca Servicios financieros</td>\n",
       "      <td>Jornada completa</td>\n",
       "      <td>Tecnología de la información</td>\n",
       "      <td>DESCRIPCIÓN\\n\\nDesde New Tandem buscamos un An...</td>\n",
       "    </tr>\n",
       "    <tr>\n",
       "      <th>0</th>\n",
       "      <td>Axactor Spain</td>\n",
       "      <td>Data Scientist</td>\n",
       "      <td>Madrid, Comunidad de Madrid, España</td>\n",
       "      <td>Publicado hace hace 1 semana</td>\n",
       "      <td>363 visualizaciones</td>\n",
       "      <td>Algo de responsabilidad</td>\n",
       "      <td>Servicios financieros</td>\n",
       "      <td>Jornada completa</td>\n",
       "      <td>Legal</td>\n",
       "      <td>Anunciado por\\nNuria González Collantes\\nRespo...</td>\n",
       "    </tr>\n",
       "    <tr>\n",
       "      <th>0</th>\n",
       "      <td>Glovo</td>\n",
       "      <td>Data Analyst - Product Analytics (They/She/He)</td>\n",
       "      <td>Barcelona, Cataluña, España</td>\n",
       "      <td>Publicado hace hace 2 semanas</td>\n",
       "      <td>527 visualizaciones</td>\n",
       "      <td>Sin experiencia</td>\n",
       "      <td>Internet Recursos humanos Venta al por menor</td>\n",
       "      <td>Jornada completa</td>\n",
       "      <td>Tecnología de la información</td>\n",
       "      <td>About Glovo\\n\\nWe’re a Barcelona-based startup...</td>\n",
       "    </tr>\n",
       "    <tr>\n",
       "      <th>0</th>\n",
       "      <td>Page Personnel</td>\n",
       "      <td>Portfolio Data Analyst (H/M)</td>\n",
       "      <td>Madrid, Comunidad de Madrid, España</td>\n",
       "      <td>Publicado hace hace 1 semana</td>\n",
       "      <td>67 visualizaciones</td>\n",
       "      <td>Sin experiencia</td>\n",
       "      <td>Manufactura eléctrica/electrónica Maquinaria D...</td>\n",
       "      <td>Jornada completa</td>\n",
       "      <td>Tecnología de la información</td>\n",
       "      <td>Portfolio Data Analyst (H/M)\\nImportante Entid...</td>\n",
       "    </tr>\n",
       "    <tr>\n",
       "      <th>0</th>\n",
       "      <td>Morningstar</td>\n",
       "      <td>Data Research Analyst</td>\n",
       "      <td>Madrid, Comunidad de Madrid, España</td>\n",
       "      <td>Publicado hace hace 8 horas</td>\n",
       "      <td>94 visualizaciones</td>\n",
       "      <td>Algo de responsabilidad</td>\n",
       "      <td>Derecho Servicios jurídicos Gestión de inversi...</td>\n",
       "      <td>Jornada completa</td>\n",
       "      <td>Investigación Análisis Tecnología de la inform...</td>\n",
       "      <td>About The Role\\n\\nThe EMEA Client Response Dat...</td>\n",
       "    </tr>\n",
       "  </tbody>\n",
       "</table>\n",
       "</div>"
      ],
      "text/plain": [
       "                         Nombre empresa  \\\n",
       "0                              Novabase   \n",
       "0    Kabel Sistemas de Información S.L.   \n",
       "0                       Freepik Company   \n",
       "0                               Brainly   \n",
       "0                                 Auth0   \n",
       "0                            MediaMonks   \n",
       "0  Ryanair - Europe's Favourite Airline   \n",
       "0                     Strategy Big Data   \n",
       "0                Constella Intelligence   \n",
       "0                      PRGX Global Inc.   \n",
       "0                             Clickedge   \n",
       "0                      Accenture España   \n",
       "0                      dgtl fundraising   \n",
       "0                             StratioBD   \n",
       "0                                  Reby   \n",
       "0                                 Agoda   \n",
       "0                                  Blok   \n",
       "0                            New Tandem   \n",
       "0                         Axactor Spain   \n",
       "0                                 Glovo   \n",
       "0                        Page Personnel   \n",
       "0                           Morningstar   \n",
       "\n",
       "                                     Puesto ofertado  \\\n",
       "0              Analista de Datos - Power BI - Remoto   \n",
       "0              IT Business Analyst (A Coruña/Remoto)   \n",
       "0                                       Data Analyst   \n",
       "0                      Data Analyst (Product Growth)   \n",
       "0                              Business Data Analyst   \n",
       "0                                Senior Data Analyst   \n",
       "0                                   CRM Data Analyst   \n",
       "0                                       Data Analyst   \n",
       "0               Junior Data Analyst w/English-German   \n",
       "0                                       Data Analyst   \n",
       "0                               Tech Digital Analyst   \n",
       "0                                   Big Data Analyst   \n",
       "0                                  Analista de datos   \n",
       "0                                  Analista de datos   \n",
       "0                     Junior Operations Data Analyst   \n",
       "0  Data Analyst (Bangkok Based, relocation provided)   \n",
       "0                                       Data Analyst   \n",
       "0                                  Analista de Datos   \n",
       "0                                     Data Scientist   \n",
       "0     Data Analyst - Product Analytics (They/She/He)   \n",
       "0                       Portfolio Data Analyst (H/M)   \n",
       "0                              Data Research Analyst   \n",
       "\n",
       "                                       Ubicación  \\\n",
       "0            Madrid, Comunidad de Madrid, España   \n",
       "0            Madrid, Comunidad de Madrid, España   \n",
       "0                      Málaga, Andalucía, España   \n",
       "0                               España En remoto   \n",
       "0            Madrid, Comunidad de Madrid, España   \n",
       "0            Madrid, Comunidad de Madrid, España   \n",
       "0            Madrid, Comunidad de Madrid, España   \n",
       "0                               España En remoto   \n",
       "0            Madrid, Comunidad de Madrid, España   \n",
       "0            Madrid, Comunidad de Madrid, España   \n",
       "0  Madrid, Comunidad de Madrid, España En remoto   \n",
       "0            Madrid, Comunidad de Madrid, España   \n",
       "0            Madrid, Comunidad de Madrid, España   \n",
       "0  Madrid, Comunidad de Madrid, España En remoto   \n",
       "0                    Barcelona, Cataluña, España   \n",
       "0            Madrid, Comunidad de Madrid, España   \n",
       "0                    Barcelona, Cataluña, España   \n",
       "0            Madrid, Comunidad de Madrid, España   \n",
       "0            Madrid, Comunidad de Madrid, España   \n",
       "0                    Barcelona, Cataluña, España   \n",
       "0            Madrid, Comunidad de Madrid, España   \n",
       "0            Madrid, Comunidad de Madrid, España   \n",
       "\n",
       "                    Días activos       Nº Solicitudes  \\\n",
       "0    Publicado hace hace 6 horas  218 visualizaciones   \n",
       "0     Publicado hace hace 5 días  273 visualizaciones   \n",
       "0  Publicado hace hace 3 semanas  487 visualizaciones   \n",
       "0  Publicado hace hace 2 semanas  288 visualizaciones   \n",
       "0     Publicado hace hace 5 días  149 visualizaciones   \n",
       "0  Publicado hace hace 2 semanas  112 visualizaciones   \n",
       "0   Publicado hace hace 1 semana  406 visualizaciones   \n",
       "0   Publicado hace hace 1 semana  515 visualizaciones   \n",
       "0     Publicado hace hace 4 días  463 visualizaciones   \n",
       "0   Publicado hace hace 22 horas   31 visualizaciones   \n",
       "0      Publicado hace hace 1 día  384 visualizaciones   \n",
       "0  Publicado hace hace 2 semanas  102 visualizaciones   \n",
       "0      Publicado hace hace 1 día  816 visualizaciones   \n",
       "0     Publicado hace hace 6 días  601 visualizaciones   \n",
       "0     Publicado hace hace 6 días  740 visualizaciones   \n",
       "0  Publicado hace hace 3 semanas  135 visualizaciones   \n",
       "0  Publicado hace hace 3 semanas  506 visualizaciones   \n",
       "0   Publicado hace hace 19 horas  219 visualizaciones   \n",
       "0   Publicado hace hace 1 semana  363 visualizaciones   \n",
       "0  Publicado hace hace 2 semanas  527 visualizaciones   \n",
       "0   Publicado hace hace 1 semana   67 visualizaciones   \n",
       "0    Publicado hace hace 8 horas   94 visualizaciones   \n",
       "\n",
       "                                   Nivel experiencia  \\\n",
       "0                            Algo de responsabilidad   \n",
       "0                                         Intermedio   \n",
       "0                            Algo de responsabilidad   \n",
       "0                                         Intermedio   \n",
       "0                                         Intermedio   \n",
       "0                                         Intermedio   \n",
       "0                                         Intermedio   \n",
       "0                                    Sin experiencia   \n",
       "0          - Depth & Updated knowledge on Excell,...   \n",
       "0                                    Sin experiencia   \n",
       "0                                                      \n",
       "0                                         Intermedio   \n",
       "0                 Flexibilidad horaria y teletrabajo   \n",
       "0                                         Intermedio   \n",
       "0  Free rides to drive our cool & sustainable veh...   \n",
       "0                            Algo de responsabilidad   \n",
       "0                            Algo de responsabilidad   \n",
       "0                                    Sin experiencia   \n",
       "0                            Algo de responsabilidad   \n",
       "0                                    Sin experiencia   \n",
       "0                                    Sin experiencia   \n",
       "0                            Algo de responsabilidad   \n",
       "\n",
       "                                              Sector  \\\n",
       "0          Servicios y tecnologías de la información   \n",
       "0          Servicios y tecnologías de la información   \n",
       "0                                             Diseño   \n",
       "0                                           Internet   \n",
       "0  Software Seguridad del ordenador y de las rede...   \n",
       "0                             Marketing y publicidad   \n",
       "0  Dotación y selección de personal Recursos huma...   \n",
       "0          Servicios y tecnologías de la información   \n",
       "0  - Python:  Knowledge of data science basic lib...   \n",
       "0  Servicios y tecnologías de la información Segu...   \n",
       "0                                                      \n",
       "0  Servicios y tecnologías de la información Soft...   \n",
       "0                                                      \n",
       "0                                           Software   \n",
       "0  A rapidly changing environment with lots of ch...   \n",
       "0                                           Internet   \n",
       "0  Servicios y tecnologías de la información Soft...   \n",
       "0       Recursos humanos Banca Servicios financieros   \n",
       "0                              Servicios financieros   \n",
       "0       Internet Recursos humanos Venta al por menor   \n",
       "0  Manufactura eléctrica/electrónica Maquinaria D...   \n",
       "0  Derecho Servicios jurídicos Gestión de inversi...   \n",
       "\n",
       "                                        Tipo jornada  \\\n",
       "0                                   Jornada completa   \n",
       "0                                   Jornada completa   \n",
       "0                                   Jornada completa   \n",
       "0                                   Jornada completa   \n",
       "0                                   Jornada completa   \n",
       "0                                   Jornada completa   \n",
       "0                                   Jornada completa   \n",
       "0                                   Jornada completa   \n",
       "0  - knowledge of other tools as Google Analytics...   \n",
       "0                                   Jornada completa   \n",
       "0                                                      \n",
       "0                                   Jornada completa   \n",
       "0  Envía tu cv y carta de motivación a hola@dgtl....   \n",
       "0                                   Jornada completa   \n",
       "0                                                      \n",
       "0                                   Jornada completa   \n",
       "0                                   Jornada completa   \n",
       "0                                   Jornada completa   \n",
       "0                                   Jornada completa   \n",
       "0                                   Jornada completa   \n",
       "0                                   Jornada completa   \n",
       "0                                   Jornada completa   \n",
       "\n",
       "                                 Funciones laborales  \\\n",
       "0                                         Ingeniería   \n",
       "0                       Tecnología de la información   \n",
       "0                                           Análisis   \n",
       "0                       Tecnología de la información   \n",
       "0                       Tecnología de la información   \n",
       "0                                           Análisis   \n",
       "0                                           Análisis   \n",
       "0                       Tecnología de la información   \n",
       "0                                   Jornada completa   \n",
       "0                       Tecnología de la información   \n",
       "0                                   Jornada completa   \n",
       "0            Tecnología de la información Ingeniería   \n",
       "0                                   Jornada completa   \n",
       "0                       Tecnología de la información   \n",
       "0                                   Jornada completa   \n",
       "0                       Tecnología de la información   \n",
       "0                                           Análisis   \n",
       "0                       Tecnología de la información   \n",
       "0                                              Legal   \n",
       "0                       Tecnología de la información   \n",
       "0                       Tecnología de la información   \n",
       "0  Investigación Análisis Tecnología de la inform...   \n",
       "\n",
       "                                         Descripción  \n",
       "0  Anunciado por\\nNatalia Hernanz\\nIT Recruitment...  \n",
       "0  Anunciado por\\nRosalía F.\\nTalent Acquisition ...  \n",
       "0  ¡El Universo de Freepik sigue en plena Expansi...  \n",
       "0  NOTICE: ONLINE RECRUITMENT\\n\\nLOCATION: Barcel...  \n",
       "0  Auth0 is a unicorn that just closed a $120M Se...  \n",
       "0  Anunciado por\\nGeorgina Bianchi\\nGlobal Head o...  \n",
       "0  Ryanair is Europe’s favourite airline, carryin...  \n",
       "0  Anunciado por\\nKarla Maryed Blanco Rodriguez\\n...  \n",
       "0  Role and Responsibilities\\nThrough investigati...  \n",
       "0  Summary\\n\\nData Analyst interacts with global,...  \n",
       "0  Anunciado por\\nJose Luis Blasco\\nDirector Digi...  \n",
       "0  Esta es tu oportunidad para unirte a un equipo...  \n",
       "0  Anunciado por\\nDani González\\nFounder & CEO en...  \n",
       "0  Anunciado por\\nVeronica Corrales\\nCoach volunt...  \n",
       "0  Anunciado por\\nJuanfran Sánchez Arqués\\nHead o...  \n",
       "0  About Agoda\\n\\nAgoda is an online travel booki...  \n",
       "0  Why Us?\\n\\nWe are on our way to revolutionize ...  \n",
       "0  DESCRIPCIÓN\\n\\nDesde New Tandem buscamos un An...  \n",
       "0  Anunciado por\\nNuria González Collantes\\nRespo...  \n",
       "0  About Glovo\\n\\nWe’re a Barcelona-based startup...  \n",
       "0  Portfolio Data Analyst (H/M)\\nImportante Entid...  \n",
       "0  About The Role\\n\\nThe EMEA Client Response Dat...  "
      ]
     },
     "execution_count": 51,
     "metadata": {},
     "output_type": "execute_result"
    }
   ],
   "source": [
    "jobs"
   ]
  },
  {
   "cell_type": "markdown",
   "metadata": {},
   "source": [
    "## Buscar la información dentro de cada página y recolectarla"
   ]
  },
  {
   "cell_type": "code",
   "execution_count": 14,
   "metadata": {
    "ExecuteTime": {
     "end_time": "2021-04-27T21:56:43.951809Z",
     "start_time": "2021-04-27T21:56:43.943720Z"
    }
   },
   "outputs": [],
   "source": [
    "# Creo lista con toda la información recopilada de la empresa, por orden.\n",
    "\n",
    "def info_collect(driver):\n",
    "\n",
    "    info_df = []\n",
    "    \n",
    "    title = driver.find_elements_by_tag_name('div.jobs-details-top-card__content-container')\n",
    "   \n",
    "    title = title[0].text.splitlines()\n",
    "    \n",
    "    \n",
    "    if len(title) < 9:\n",
    "\n",
    "        title = [title [0], '', '', '', '']\n",
    "\n",
    "    elif title[5] == 'Nuevo':\n",
    "        title = [title[2], title[0], title[4], title[7], title[9]]\n",
    "\n",
    "    else:\n",
    "        title = [title[2], title[0], title[4], title[6], title[8]]\n",
    "        \n",
    "        \n",
    "    \n",
    "    info_job_comp = driver.find_elements_by_tag_name('li.artdeco-list__item.jobs-details-job-summary-list__item.jobs-details-job-summary-list__item--bullet')\n",
    "    \n",
    "    info_job_comp = info_job_comp[0].text.splitlines()\n",
    "    \n",
    "    \n",
    "    job_desc = driver.find_elements_by_tag_name('div.jobs-box__html-content.jobs-description-content__text.t-14.t-normal')\n",
    "    \n",
    "    job_desc1 = [job_desc[0].text]\n",
    "    \n",
    "\n",
    "    \n",
    "    job_desc2 = job_desc[0].text.splitlines()[-8:]\n",
    "    \n",
    "    job_desc2 = [job_desc2[1], job_desc2[3], job_desc2[5], job_desc2[7]]\n",
    "    \n",
    "    info_df = title + job_desc2 + job_desc1\n",
    "    \n",
    "    return info_df"
   ]
  },
  {
   "cell_type": "code",
   "execution_count": null,
   "metadata": {},
   "outputs": [],
   "source": [
    "# Creo los títulos de las columnas del df.\n",
    "\n",
    "titulos_col = ['Nombre empresa', 'Puesto ofertado', 'Ubicación', 'Días activos', 'Nº Solicitudes', 'Nivel experiencia', 'Sector', 'Tipo jornada', 'Funciones laborales', 'Descripción']"
   ]
  },
  {
   "cell_type": "code",
   "execution_count": null,
   "metadata": {},
   "outputs": [],
   "source": [
    "jobs_list = pd.DataFrame()"
   ]
  },
  {
   "cell_type": "code",
   "execution_count": null,
   "metadata": {},
   "outputs": [],
   "source": [
    "# Recoge todos los puestos de trabajo de la página en una lista.\n",
    "\n",
    "parentElement = driver.find_element_by_class_name(\"jobs-search-results__list.list-style-none\")\n",
    "\n",
    "elementList = parentElement.find_elements_by_class_name(\"mr1.artdeco-entity-lockup__image.artdeco-entity-lockup__image--type-square.ember-view\")"
   ]
  },
  {
   "cell_type": "code",
   "execution_count": null,
   "metadata": {},
   "outputs": [],
   "source": [
    "for i in range(len(elementList)):\n",
    "    \n",
    "    elementList[i].click()\n",
    "    time.sleep(2)\n",
    "    info_df = info_collect(driver)\n",
    "    df_prueba = pd.DataFrame([info_df], columns = titulos_col)\n",
    "    jobs_list = jobs_list.append(df_prueba)"
   ]
  },
  {
   "cell_type": "code",
   "execution_count": null,
   "metadata": {},
   "outputs": [],
   "source": [
    "jobs_list.to_csv(r'/Users/cris/Documents/Repositorios/EDA_DS_Market/info_data_analysis.csv', index = False)"
   ]
  },
  {
   "cell_type": "markdown",
   "metadata": {},
   "source": [
    "### Mismo método aplicado para Data Scientist"
   ]
  },
  {
   "cell_type": "code",
   "execution_count": null,
   "metadata": {},
   "outputs": [],
   "source": [
    "# Primero hacer un driver.back() y cambiar el puesto a buscar.\n",
    "\n",
    "parentElement = driver.find_element_by_class_name(\"jobs-search-results__list.list-style-none\")\n",
    "\n",
    "elementList = parentElement.find_elements_by_class_name(\"mr1.artdeco-entity-lockup__image.artdeco-entity-lockup__image--type-square.ember-view\")"
   ]
  },
  {
   "cell_type": "code",
   "execution_count": null,
   "metadata": {},
   "outputs": [],
   "source": [
    "# Creo los títulos de las columnas del df.\n",
    "\n",
    "titulos_col = ['Nombre empresa', 'Puesto ofertado', 'Ubicación', 'Días activos', 'Nº Solicitudes', 'Nivel experiencia', 'Sector', 'Tipo jornada', 'Funciones laborales', 'Descripción']"
   ]
  },
  {
   "cell_type": "code",
   "execution_count": null,
   "metadata": {},
   "outputs": [],
   "source": [
    "jobs_data_scientist_list = pd.DataFrame()"
   ]
  },
  {
   "cell_type": "code",
   "execution_count": null,
   "metadata": {},
   "outputs": [],
   "source": [
    "for i in range(len(elementList)):\n",
    "    elementList[i].click()\n",
    "    time.sleep(2)\n",
    "    info_df = info_collect(driver)\n",
    "    df_prueba = pd.DataFrame([info_df], columns = titulos_col)\n",
    "    jobs_data_scientist_list = jobs_data_scientist_list.append(df_prueba)"
   ]
  },
  {
   "cell_type": "code",
   "execution_count": null,
   "metadata": {},
   "outputs": [],
   "source": [
    "jobs_data_scientist_list"
   ]
  },
  {
   "cell_type": "code",
   "execution_count": null,
   "metadata": {},
   "outputs": [],
   "source": [
    "jobs_data_scientist_list.to_csv('info_data_scientist.csv')"
   ]
  },
  {
   "cell_type": "code",
   "execution_count": null,
   "metadata": {},
   "outputs": [],
   "source": []
  }
 ],
 "metadata": {
  "hide_input": false,
  "kernelspec": {
   "display_name": "Python 3",
   "language": "python",
   "name": "python3"
  },
  "language_info": {
   "codemirror_mode": {
    "name": "ipython",
    "version": 3
   },
   "file_extension": ".py",
   "mimetype": "text/x-python",
   "name": "python",
   "nbconvert_exporter": "python",
   "pygments_lexer": "ipython3",
   "version": "3.8.8"
  },
  "toc": {
   "base_numbering": 1,
   "nav_menu": {},
   "number_sections": true,
   "sideBar": true,
   "skip_h1_title": false,
   "title_cell": "Table of Contents",
   "title_sidebar": "Contents",
   "toc_cell": false,
   "toc_position": {},
   "toc_section_display": true,
   "toc_window_display": false
  },
  "varInspector": {
   "cols": {
    "lenName": 16,
    "lenType": 16,
    "lenVar": 40
   },
   "kernels_config": {
    "python": {
     "delete_cmd_postfix": "",
     "delete_cmd_prefix": "del ",
     "library": "var_list.py",
     "varRefreshCmd": "print(var_dic_list())"
    },
    "r": {
     "delete_cmd_postfix": ") ",
     "delete_cmd_prefix": "rm(",
     "library": "var_list.r",
     "varRefreshCmd": "cat(var_dic_list()) "
    }
   },
   "types_to_exclude": [
    "module",
    "function",
    "builtin_function_or_method",
    "instance",
    "_Feature"
   ],
   "window_display": false
  }
 },
 "nbformat": 4,
 "nbformat_minor": 4
}
