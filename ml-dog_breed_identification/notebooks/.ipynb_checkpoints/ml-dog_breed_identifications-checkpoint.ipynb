{
 "cells": [
  {
   "cell_type": "markdown",
   "id": "78067ef9",
   "metadata": {},
   "source": [
    "# Dog Breed Predictions"
   ]
  },
  {
   "cell_type": "code",
   "execution_count": 1,
   "id": "6aecea4d",
   "metadata": {
    "ExecuteTime": {
     "end_time": "2021-04-26T08:34:27.118829Z",
     "start_time": "2021-04-26T08:34:23.665288Z"
    }
   },
   "outputs": [],
   "source": [
    "import numpy as np\n",
    "import pandas as pd\n",
    "import os\n",
    "import matplotlib.pyplot as plt\n",
    "import cv2\n",
    "import random\n",
    "import tensorflow as tf\n",
    "import requests\n",
    "import re\n",
    "import wikipedia\n",
    "\n",
    "from skimage.io import imread\n",
    "from tensorflow import keras\n",
    "from tensorflow.keras.constraints import MaxNorm\n",
    "from tensorflow.keras.preprocessing.image import ImageDataGenerator, load_img\n",
    "from tensorflow.keras.models import Sequential\n",
    "from tensorflow.keras.layers import Conv2D, MaxPooling2D, Dropout\n",
    "from tensorflow.keras.layers import Flatten, Dense, Activation, BatchNormalization\n",
    "from tensorflow.keras.models import Sequential\n",
    "from sklearn.model_selection import train_test_split\n",
    "from tensorflow.keras.applications.resnet_v2 import ResNet50V2, decode_predictions, preprocess_input\n",
    "from tensorflow.keras.applications.vgg16 import VGG16, decode_predictions, preprocess_input\n",
    "from tensorflow.keras.callbacks import EarlyStopping\n",
    "from tensorflow.keras.applications.inception_v3 import InceptionV3\n",
    "from tensorflow.keras.applications.xception import Xception"
   ]
  },
  {
   "cell_type": "code",
   "execution_count": 2,
   "id": "c1c863bc",
   "metadata": {
    "ExecuteTime": {
     "end_time": "2021-04-26T08:34:27.131009Z",
     "start_time": "2021-04-26T08:34:27.122434Z"
    }
   },
   "outputs": [],
   "source": [
    "train_path = '/Users/cris/Repositorios/local_docs/curso_ds21/dog-breed-identification/train/'\n",
    "test_path = '/Users/cris/Repositorios/local_docs/curso_ds21/dog-breed-identification/test/'\n",
    "target_df = pd.read_csv('/Users/cris/Repositorios/local_docs/curso_ds21/dog-breed-identification/labels.csv')"
   ]
  },
  {
   "cell_type": "code",
   "execution_count": 3,
   "id": "d06dcda9",
   "metadata": {
    "ExecuteTime": {
     "end_time": "2021-04-26T08:34:27.539204Z",
     "start_time": "2021-04-26T08:34:27.140131Z"
    }
   },
   "outputs": [],
   "source": [
    "for i in range(len(target_df['id'])):\n",
    "    target_df['id'][i] = target_df['id'][i] + '.jpg'"
   ]
  },
  {
   "cell_type": "markdown",
   "id": "ae971d43",
   "metadata": {
    "ExecuteTime": {
     "end_time": "2021-04-15T11:54:47.611093Z",
     "start_time": "2021-04-15T11:54:47.608165Z"
    }
   },
   "source": [
    "## Image processing and load memory"
   ]
  },
  {
   "cell_type": "code",
   "execution_count": null,
   "id": "c89b719a",
   "metadata": {
    "ExecuteTime": {
     "end_time": "2021-04-24T15:43:43.715534Z",
     "start_time": "2021-04-24T15:43:43.712073Z"
    },
    "scrolled": true
   },
   "outputs": [],
   "source": [
    "labels_target = target_df['breed'].unique()"
   ]
  },
  {
   "cell_type": "code",
   "execution_count": null,
   "id": "7929b636",
   "metadata": {
    "ExecuteTime": {
     "end_time": "2021-04-24T15:43:44.790829Z",
     "start_time": "2021-04-24T15:43:44.786783Z"
    },
    "scrolled": true
   },
   "outputs": [],
   "source": [
    "labels_int = pd.DataFrame({'target':labels_target,\n",
    "                           'target_int':0})"
   ]
  },
  {
   "cell_type": "code",
   "execution_count": null,
   "id": "0ff6c992",
   "metadata": {
    "ExecuteTime": {
     "end_time": "2021-04-24T15:43:45.172306Z",
     "start_time": "2021-04-24T15:43:45.131619Z"
    }
   },
   "outputs": [],
   "source": [
    "for i in range(len(labels_target)):\n",
    "    labels_int['target_int'][i]=i"
   ]
  },
  {
   "cell_type": "code",
   "execution_count": null,
   "id": "7b1e2ef6",
   "metadata": {
    "ExecuteTime": {
     "end_time": "2021-04-24T15:43:45.759389Z",
     "start_time": "2021-04-24T15:43:45.756206Z"
    }
   },
   "outputs": [],
   "source": [
    "final_target = target_df.copy()"
   ]
  },
  {
   "cell_type": "code",
   "execution_count": null,
   "id": "9b2be0c4",
   "metadata": {
    "ExecuteTime": {
     "end_time": "2021-04-24T15:43:46.187834Z",
     "start_time": "2021-04-24T15:43:46.171837Z"
    }
   },
   "outputs": [],
   "source": [
    "final_target = final_target.merge(labels_int, left_on='breed', right_on='target')"
   ]
  },
  {
   "cell_type": "code",
   "execution_count": null,
   "id": "c35aa943",
   "metadata": {
    "ExecuteTime": {
     "end_time": "2021-04-24T15:43:47.296592Z",
     "start_time": "2021-04-24T15:43:47.292351Z"
    }
   },
   "outputs": [],
   "source": [
    "target_int = final_target.copy()"
   ]
  },
  {
   "cell_type": "code",
   "execution_count": null,
   "id": "36ff3359",
   "metadata": {
    "ExecuteTime": {
     "end_time": "2021-04-24T15:43:47.454381Z",
     "start_time": "2021-04-24T15:43:47.451386Z"
    }
   },
   "outputs": [],
   "source": [
    "target_int.drop(columns='target', inplace=True)"
   ]
  },
  {
   "cell_type": "code",
   "execution_count": null,
   "id": "c63cab03",
   "metadata": {
    "ExecuteTime": {
     "end_time": "2021-04-24T15:43:47.623812Z",
     "start_time": "2021-04-24T15:43:47.608703Z"
    }
   },
   "outputs": [],
   "source": [
    "target_int = target_int.astype('str')"
   ]
  },
  {
   "cell_type": "markdown",
   "id": "557f8da0",
   "metadata": {
    "ExecuteTime": {
     "end_time": "2021-04-24T17:36:52.217282Z",
     "start_time": "2021-04-24T17:36:52.184882Z"
    },
    "heading_collapsed": true
   },
   "source": [
    "### Imágenes en greyscale"
   ]
  },
  {
   "cell_type": "code",
   "execution_count": null,
   "id": "f38464c5",
   "metadata": {
    "ExecuteTime": {
     "end_time": "2021-04-24T16:42:31.358816Z",
     "start_time": "2021-04-24T16:42:26.187791Z"
    },
    "hidden": true
   },
   "outputs": [],
   "source": [
    "imagenes = []\n",
    "filenames = os.listdir(train_path)[:4000]\n",
    "\n",
    "for img in os.listdir(train_path)[:4000]:\n",
    "    image = train_path + img\n",
    "    img_gray = cv2.imread(image, cv2.IMREAD_GRAYSCALE)\n",
    "    smallimage = cv2.resize(img_gray, (100, 100))\n",
    "    smallimage = smallimage / 255.\n",
    "    imagenes.append(smallimage)\n",
    "\n",
    "#smallimage = smallimage.reshape(100, 100, 1)"
   ]
  },
  {
   "cell_type": "code",
   "execution_count": null,
   "id": "8c568c5e",
   "metadata": {
    "ExecuteTime": {
     "end_time": "2021-04-24T17:19:21.094054Z",
     "start_time": "2021-04-24T17:19:21.091197Z"
    },
    "hidden": true
   },
   "outputs": [],
   "source": [
    "filenames = pd.DataFrame({'archivo':filenames})"
   ]
  },
  {
   "cell_type": "code",
   "execution_count": null,
   "id": "8f8be372",
   "metadata": {
    "ExecuteTime": {
     "end_time": "2021-04-24T17:19:22.939839Z",
     "start_time": "2021-04-24T17:19:22.928549Z"
    },
    "hidden": true
   },
   "outputs": [],
   "source": [
    "file = filenames.merge(target_int, left_on='archivo', right_on='id')"
   ]
  },
  {
   "cell_type": "code",
   "execution_count": null,
   "id": "4a75216d",
   "metadata": {
    "ExecuteTime": {
     "end_time": "2021-04-24T17:19:24.832000Z",
     "start_time": "2021-04-24T17:19:24.813509Z"
    },
    "hidden": true,
    "scrolled": true
   },
   "outputs": [],
   "source": [
    "X_train_o = np.array(imagenes)"
   ]
  },
  {
   "cell_type": "code",
   "execution_count": null,
   "id": "96e018f5",
   "metadata": {
    "ExecuteTime": {
     "end_time": "2021-04-24T17:00:16.448720Z",
     "start_time": "2021-04-24T17:00:16.434626Z"
    },
    "hidden": true
   },
   "outputs": [],
   "source": [
    "X_train_o = X_train_o.reshape(100, 100, 3)"
   ]
  },
  {
   "cell_type": "code",
   "execution_count": null,
   "id": "d0c5d05c",
   "metadata": {
    "ExecuteTime": {
     "end_time": "2021-04-24T17:05:15.704248Z",
     "start_time": "2021-04-24T17:05:15.699686Z"
    },
    "hidden": true
   },
   "outputs": [],
   "source": [
    "X_train_o = imagenes"
   ]
  },
  {
   "cell_type": "code",
   "execution_count": null,
   "id": "d38f278a",
   "metadata": {
    "ExecuteTime": {
     "end_time": "2021-04-24T17:06:42.080915Z",
     "start_time": "2021-04-24T17:06:41.947311Z"
    },
    "hidden": true,
    "scrolled": true
   },
   "outputs": [],
   "source": [
    "plt.imshow(X_train_o[1004])"
   ]
  },
  {
   "cell_type": "markdown",
   "id": "248eda34",
   "metadata": {
    "heading_collapsed": true
   },
   "source": [
    "### Imágenes color"
   ]
  },
  {
   "cell_type": "code",
   "execution_count": null,
   "id": "636026e9",
   "metadata": {
    "ExecuteTime": {
     "end_time": "2021-04-24T17:44:59.992371Z",
     "start_time": "2021-04-24T17:44:49.311059Z"
    },
    "hidden": true
   },
   "outputs": [],
   "source": [
    "imagenes = []\n",
    "filenames = os.listdir(train_path)[:6000]\n",
    "\n",
    "for img in os.listdir(train_path)[:6000]:\n",
    "    image = train_path + img\n",
    "    img_gray = cv2.imread(image)\n",
    "    smallimage = cv2.resize(img_gray, (100, 100))\n",
    "    imagenes.append(smallimage)\n",
    "\n",
    "#smallimage = smallimage.reshape(100, 100, 1)"
   ]
  },
  {
   "cell_type": "code",
   "execution_count": null,
   "id": "ce4dd724",
   "metadata": {
    "ExecuteTime": {
     "end_time": "2021-04-24T17:45:02.666412Z",
     "start_time": "2021-04-24T17:45:02.664715Z"
    },
    "hidden": true
   },
   "outputs": [],
   "source": [
    "filenames = pd.DataFrame({'archivo':filenames})"
   ]
  },
  {
   "cell_type": "code",
   "execution_count": null,
   "id": "42ca269f",
   "metadata": {
    "ExecuteTime": {
     "end_time": "2021-04-24T17:45:05.330683Z",
     "start_time": "2021-04-24T17:45:05.325630Z"
    },
    "hidden": true
   },
   "outputs": [],
   "source": [
    "file = filenames.merge(target_int, left_on='archivo', right_on='id')"
   ]
  },
  {
   "cell_type": "code",
   "execution_count": null,
   "id": "96270f67",
   "metadata": {
    "ExecuteTime": {
     "end_time": "2021-04-24T17:45:07.990685Z",
     "start_time": "2021-04-24T17:45:07.961530Z"
    },
    "hidden": true,
    "scrolled": true
   },
   "outputs": [],
   "source": [
    "X_train_o = np.array(imagenes)"
   ]
  },
  {
   "cell_type": "code",
   "execution_count": null,
   "id": "04a86a92",
   "metadata": {
    "ExecuteTime": {
     "end_time": "2021-04-24T17:45:10.934384Z",
     "start_time": "2021-04-24T17:45:10.639547Z"
    },
    "hidden": true
   },
   "outputs": [],
   "source": [
    "X_train_o = X_train_o / 255.0"
   ]
  },
  {
   "cell_type": "code",
   "execution_count": null,
   "id": "e75bc023",
   "metadata": {
    "ExecuteTime": {
     "end_time": "2021-04-24T17:45:13.632622Z",
     "start_time": "2021-04-24T17:45:13.631092Z"
    },
    "hidden": true
   },
   "outputs": [],
   "source": [
    "print(X_train_o[0].shape)"
   ]
  },
  {
   "cell_type": "code",
   "execution_count": null,
   "id": "a9a80855",
   "metadata": {
    "hidden": true
   },
   "outputs": [],
   "source": []
  },
  {
   "cell_type": "markdown",
   "id": "f251b2ae",
   "metadata": {
    "heading_collapsed": true
   },
   "source": [
    "### Y_train, split train-test, & save"
   ]
  },
  {
   "cell_type": "code",
   "execution_count": null,
   "id": "f9428367",
   "metadata": {
    "ExecuteTime": {
     "end_time": "2021-04-24T17:47:25.882065Z",
     "start_time": "2021-04-24T17:47:25.877291Z"
    },
    "hidden": true
   },
   "outputs": [],
   "source": [
    "y_train_o = file['target_int']"
   ]
  },
  {
   "cell_type": "code",
   "execution_count": null,
   "id": "62079c4d",
   "metadata": {
    "ExecuteTime": {
     "end_time": "2021-04-24T17:47:28.749036Z",
     "start_time": "2021-04-24T17:47:28.745741Z"
    },
    "hidden": true
   },
   "outputs": [],
   "source": [
    "y_train_o = np.array(y_train_o).astype('int')"
   ]
  },
  {
   "cell_type": "code",
   "execution_count": null,
   "id": "988d0014",
   "metadata": {
    "ExecuteTime": {
     "end_time": "2021-04-24T17:47:31.461176Z",
     "start_time": "2021-04-24T17:47:31.458695Z"
    },
    "hidden": true,
    "scrolled": true
   },
   "outputs": [],
   "source": [
    "y_train_o.shape"
   ]
  },
  {
   "cell_type": "code",
   "execution_count": null,
   "id": "62a1d9dd",
   "metadata": {
    "ExecuteTime": {
     "end_time": "2021-04-24T17:51:20.419878Z",
     "start_time": "2021-04-24T17:51:13.394566Z"
    },
    "hidden": true
   },
   "outputs": [],
   "source": [
    "X_train = X_train_o[:5000].copy()\n",
    "y_train = y_train_o[:5000].copy()\n",
    "\n",
    "X_test = X_train_o[5000:].copy()\n",
    "y_test = y_train_o[5000:].copy()"
   ]
  },
  {
   "cell_type": "code",
   "execution_count": null,
   "id": "a9c274bc",
   "metadata": {
    "hidden": true
   },
   "outputs": [],
   "source": []
  },
  {
   "cell_type": "code",
   "execution_count": null,
   "id": "da1714f8",
   "metadata": {
    "ExecuteTime": {
     "end_time": "2021-04-24T16:48:55.493268Z",
     "start_time": "2021-04-24T16:48:52.392165Z"
    },
    "hidden": true
   },
   "outputs": [],
   "source": [
    "np.savez('data.npz', X_train=X_train, y_train=y_train, X_test=X_test, y_test=y_test)"
   ]
  },
  {
   "cell_type": "code",
   "execution_count": null,
   "id": "304740bc",
   "metadata": {
    "ExecuteTime": {
     "end_time": "2021-04-24T16:49:01.901765Z",
     "start_time": "2021-04-24T16:49:00.664401Z"
    },
    "hidden": true
   },
   "outputs": [],
   "source": [
    "data = np.load('data.npz')\n",
    "\n",
    "X_train = data['X_train']\n",
    "X_test = data['X_test']\n",
    "y_train = data['y_train']\n",
    "y_test = data['y_test']"
   ]
  },
  {
   "cell_type": "code",
   "execution_count": null,
   "id": "ffa7bec9",
   "metadata": {
    "hidden": true
   },
   "outputs": [],
   "source": []
  },
  {
   "cell_type": "markdown",
   "id": "6fb67738",
   "metadata": {
    "ExecuteTime": {
     "end_time": "2021-04-15T11:54:57.936047Z",
     "start_time": "2021-04-15T11:54:57.933788Z"
    },
    "heading_collapsed": true
   },
   "source": [
    "## 1st Model Sequential-1 without pretrain"
   ]
  },
  {
   "cell_type": "code",
   "execution_count": null,
   "id": "e4ff5df1",
   "metadata": {
    "ExecuteTime": {
     "end_time": "2021-04-24T17:39:49.598971Z",
     "start_time": "2021-04-24T17:39:49.497467Z"
    },
    "hidden": true
   },
   "outputs": [],
   "source": [
    "model = keras.models.Sequential([\n",
    "    keras.layers.Conv2D(64, 7, activation=\"relu\", padding=\"same\",\n",
    "                        input_shape=(100, 100, 3)),\n",
    "    keras.layers.MaxPooling2D(2),\n",
    "    keras.layers.Conv2D(128, 3, activation=\"relu\", padding=\"same\"),\n",
    "    keras.layers.Conv2D(128, 3, activation=\"relu\", padding=\"same\"),\n",
    "    keras.layers.MaxPooling2D(2),\n",
    "    keras.layers.Conv2D(256, 3, activation=\"relu\", padding=\"same\"),\n",
    "    keras.layers.Conv2D(256, 3, activation=\"relu\", padding=\"same\"),\n",
    "    keras.layers.MaxPooling2D(2),\n",
    "    keras.layers.Flatten(),\n",
    "    keras.layers.Dense(128, activation=\"relu\"),\n",
    "    keras.layers.Dropout(0.2),\n",
    "    keras.layers.Dense(64, activation=\"relu\"),\n",
    "    keras.layers.Dropout(0.2),\n",
    "    keras.layers.Dense(120, activation=\"softmax\")])"
   ]
  },
  {
   "cell_type": "code",
   "execution_count": null,
   "id": "29055f74",
   "metadata": {
    "ExecuteTime": {
     "end_time": "2021-04-24T17:39:51.419460Z",
     "start_time": "2021-04-24T17:39:51.415061Z"
    },
    "hidden": true
   },
   "outputs": [],
   "source": [
    "model.compile(optimizer=\"sgd\",\n",
    "              loss='sparse_categorical_crossentropy',\n",
    "              metrics=['acc'])"
   ]
  },
  {
   "cell_type": "code",
   "execution_count": null,
   "id": "4e959142",
   "metadata": {
    "ExecuteTime": {
     "end_time": "2021-04-24T17:39:21.630353Z",
     "start_time": "2021-04-24T17:39:21.625144Z"
    },
    "hidden": true
   },
   "outputs": [],
   "source": [
    "cb_model1 = keras.callbacks.ModelCheckpoint(\"cb_model1.h5\")"
   ]
  },
  {
   "cell_type": "code",
   "execution_count": null,
   "id": "c079d497",
   "metadata": {
    "ExecuteTime": {
     "end_time": "2021-04-24T17:39:55.546321Z",
     "start_time": "2021-04-24T17:39:55.440219Z"
    },
    "hidden": true
   },
   "outputs": [],
   "source": [
    "model1 = model.fit(X_train_, y_train_, validation_data=(X_test, y_test),\n",
    "          epochs=25, batch_size=32, callbacks=cb_model1)"
   ]
  },
  {
   "cell_type": "code",
   "execution_count": null,
   "id": "42ef5dea",
   "metadata": {
    "hidden": true
   },
   "outputs": [],
   "source": [
    "model1.evaluate(X_test, y_test)"
   ]
  },
  {
   "cell_type": "code",
   "execution_count": null,
   "id": "2436d06a",
   "metadata": {
    "hidden": true
   },
   "outputs": [],
   "source": []
  },
  {
   "cell_type": "code",
   "execution_count": null,
   "id": "fef5dc84",
   "metadata": {
    "ExecuteTime": {
     "end_time": "2021-04-21T20:22:06.069501Z",
     "start_time": "2021-04-21T20:15:16.980307Z"
    },
    "hidden": true,
    "hide_input": true
   },
   "outputs": [],
   "source": [
    "model.fit(X_train, y_train, epochs=25,\n",
    "          batch_size=64, validation_split=.5)"
   ]
  },
  {
   "cell_type": "markdown",
   "id": "2de8b3e7",
   "metadata": {
    "ExecuteTime": {
     "end_time": "2021-04-24T17:33:46.462195Z",
     "start_time": "2021-04-24T17:33:46.460739Z"
    },
    "heading_collapsed": true
   },
   "source": [
    "## 2nd Model Sequential-2 without pretrain"
   ]
  },
  {
   "cell_type": "code",
   "execution_count": null,
   "id": "092154c8",
   "metadata": {
    "ExecuteTime": {
     "end_time": "2021-04-24T17:52:12.449651Z",
     "start_time": "2021-04-24T17:52:12.270706Z"
    },
    "hidden": true
   },
   "outputs": [],
   "source": [
    "model = Sequential()\n",
    "\n",
    "model.add(Conv2D(32, (3, 3), activation='relu', input_shape=(100, 100, 3)))\n",
    "model.add(BatchNormalization())\n",
    "model.add(MaxPooling2D(pool_size=(2, 2)))\n",
    "model.add(Dropout(0.25))\n",
    "\n",
    "model.add(Conv2D(64, (3, 3), activation='relu'))\n",
    "model.add(BatchNormalization())\n",
    "model.add(MaxPooling2D(pool_size=(2, 2)))\n",
    "model.add(Dropout(0.25))\n",
    "\n",
    "model.add(Conv2D(128, (3, 3), activation='relu'))\n",
    "model.add(BatchNormalization())\n",
    "model.add(MaxPooling2D(pool_size=(2, 2)))\n",
    "model.add(Dropout(0.25))\n",
    "\n",
    "model.add(Flatten())\n",
    "model.add(Dense(512, activation='relu'))\n",
    "model.add(BatchNormalization())\n",
    "model.add(Dropout(0.5))\n",
    "model.add(Dense(120, activation='softmax'))\n",
    "\n",
    "model.compile(loss='sparse_categorical_crossentropy',\n",
    "              optimizer='adam',\n",
    "              metrics=['accuracy'])"
   ]
  },
  {
   "cell_type": "code",
   "execution_count": null,
   "id": "3d9824de",
   "metadata": {
    "hidden": true
   },
   "outputs": [],
   "source": [
    "cb_model2 = keras.callbacks.ModelCheckpoint(\"cb_model2.h5\")"
   ]
  },
  {
   "cell_type": "code",
   "execution_count": null,
   "id": "1c05cd5e",
   "metadata": {
    "ExecuteTime": {
     "end_time": "2021-04-24T17:54:55.436665Z",
     "start_time": "2021-04-24T17:52:15.193852Z"
    },
    "hidden": true
   },
   "outputs": [],
   "source": [
    "model2 = model.fit(X_train, y_train, epochs=10,\n",
    "          batch_size=64, validation_data=(X_test, y_test), callbacks=[cb_model2])"
   ]
  },
  {
   "cell_type": "code",
   "execution_count": null,
   "id": "8901418a",
   "metadata": {
    "ExecuteTime": {
     "end_time": "2021-04-24T17:55:01.116045Z",
     "start_time": "2021-04-24T17:54:59.633092Z"
    },
    "hidden": true,
    "scrolled": false
   },
   "outputs": [],
   "source": [
    "model2.evaluate(X_test, y_test)"
   ]
  },
  {
   "cell_type": "code",
   "execution_count": null,
   "id": "8537b7f0",
   "metadata": {
    "hidden": true
   },
   "outputs": [],
   "source": []
  },
  {
   "cell_type": "markdown",
   "id": "2f3e4647",
   "metadata": {
    "ExecuteTime": {
     "end_time": "2021-04-15T22:24:56.295503Z",
     "start_time": "2021-04-15T22:24:56.293178Z"
    },
    "heading_collapsed": true
   },
   "source": [
    "## 3rd Model (Image Generator-1) without pretrain"
   ]
  },
  {
   "cell_type": "code",
   "execution_count": null,
   "id": "745c45b4",
   "metadata": {
    "ExecuteTime": {
     "end_time": "2021-04-24T17:08:32.382864Z",
     "start_time": "2021-04-24T17:08:28.844988Z"
    },
    "hidden": true,
    "hide_input": false
   },
   "outputs": [],
   "source": [
    "datagen = ImageDataGenerator(\n",
    "        featurewise_center=False,  # set input mean to 0 over the dataset\n",
    "        samplewise_center=False,  # set each sample mean to 0\n",
    "        featurewise_std_normalization=False,  # divide inputs by std of the dataset\n",
    "        samplewise_std_normalization=False,  # divide each input by its std\n",
    "        zca_whitening=False,  # apply ZCA whitening\n",
    "        rotation_range = 30,  # randomly rotate images in the range (degrees, 0 to 180)\n",
    "        zoom_range = 0.2, # Randomly zoom image \n",
    "        width_shift_range=0.1,  # randomly shift images horizontally (fraction of total width)\n",
    "        height_shift_range=0.1,  # randomly shift images vertically (fraction of total height)\n",
    "        horizontal_flip = True,  # randomly flip images\n",
    "        vertical_flip=False)  # randomly flip images\n",
    "\n",
    "datagen.fit(X_train)"
   ]
  },
  {
   "cell_type": "code",
   "execution_count": null,
   "id": "65fb0ee8",
   "metadata": {
    "ExecuteTime": {
     "end_time": "2021-04-24T17:09:36.231874Z",
     "start_time": "2021-04-24T17:09:36.129729Z"
    },
    "hidden": true
   },
   "outputs": [],
   "source": [
    "model = Sequential()\n",
    "model.add(Conv2D(32, 3, padding=\"same\",\n",
    "          activation=\"relu\", input_shape=(100, 100, 3)))\n",
    "model.add(MaxPooling2D(2))\n",
    "\n",
    "model.add(Conv2D(64, 3, padding=\"same\", activation=\"relu\"))\n",
    "model.add(MaxPooling2D(2))\n",
    "model.add(Dropout(0.4))\n",
    "\n",
    "model.add(Conv2D(128, 3, padding=\"same\", activation=\"relu\"))\n",
    "model.add(MaxPooling2D(2))\n",
    "model.add(Dropout(0.4))\n",
    "\n",
    "model.add(Flatten())\n",
    "model.add(Dense(128, activation=\"relu\"))\n",
    "model.add(Dense(120, activation=\"softmax\"))\n",
    "\n",
    "model.summary()"
   ]
  },
  {
   "cell_type": "code",
   "execution_count": null,
   "id": "b8337a73",
   "metadata": {
    "hidden": true
   },
   "outputs": [],
   "source": [
    "cb_model3 = keras.callbacks.ModelCheckpoint(\"cb_model3.h5\")"
   ]
  },
  {
   "cell_type": "code",
   "execution_count": null,
   "id": "d7b949d8",
   "metadata": {
    "ExecuteTime": {
     "end_time": "2021-04-24T17:09:46.751941Z",
     "start_time": "2021-04-24T17:09:46.674903Z"
    },
    "hidden": true
   },
   "outputs": [],
   "source": [
    "model3 = model.fit(X_train_, y_train_, validation_data=(X_test, y_test),\n",
    "          epochs=25, batch_size=64, callbacks=cb_model3)"
   ]
  },
  {
   "cell_type": "code",
   "execution_count": null,
   "id": "8def8539",
   "metadata": {
    "hidden": true
   },
   "outputs": [],
   "source": [
    "model3.evaluate(X_test, y_test)"
   ]
  },
  {
   "cell_type": "code",
   "execution_count": null,
   "id": "502daea3",
   "metadata": {
    "hidden": true
   },
   "outputs": [],
   "source": []
  },
  {
   "cell_type": "markdown",
   "id": "d5194abe",
   "metadata": {
    "heading_collapsed": true
   },
   "source": [
    "## 4th Model (Image Generator-2) without pretrain"
   ]
  },
  {
   "cell_type": "code",
   "execution_count": null,
   "id": "502c5dfa",
   "metadata": {
    "ExecuteTime": {
     "end_time": "2021-04-24T18:13:45.149428Z",
     "start_time": "2021-04-24T18:13:45.145476Z"
    },
    "hidden": true
   },
   "outputs": [],
   "source": [
    "IMAGE_HEIGHT = 100\n",
    "IMAGE_WIDTH = 100\n",
    "IMAGE_CHANNELS=3\n",
    "IMAGE_SIZE=(IMAGE_WIDTH, IMAGE_HEIGHT, IMAGE_CHANNELS)"
   ]
  },
  {
   "cell_type": "code",
   "execution_count": null,
   "id": "f2a4d252",
   "metadata": {
    "ExecuteTime": {
     "end_time": "2021-04-24T18:09:18.843711Z",
     "start_time": "2021-04-24T18:09:18.841122Z"
    },
    "hidden": true
   },
   "outputs": [],
   "source": [
    "train_df, val_df = train_test_split(target_df,\n",
    "                                    test_size=0.20,\n",
    "                                    random_state=42)\n",
    "\n",
    "train_df = train_df.reset_index(drop=True)\n",
    "val_df = validate_df.reset_index(drop=True)"
   ]
  },
  {
   "cell_type": "code",
   "execution_count": null,
   "id": "5fda675c",
   "metadata": {
    "ExecuteTime": {
     "end_time": "2021-04-24T18:09:21.508829Z",
     "start_time": "2021-04-24T18:09:21.506746Z"
    },
    "hidden": true
   },
   "outputs": [],
   "source": [
    "train_datagen = ImageDataGenerator(rotation_range=15,\n",
    "                                   rescale=1./255,\n",
    "                                   shear_range=0.1,\n",
    "                                   zoom_range=0.2,\n",
    "                                   horizontal_flip=True,\n",
    "                                   width_shift_range=0.1,\n",
    "                                   height_shift_range=0.1)\n",
    "\n",
    "val_datagen = ImageDataGenerator(rotation_range=15,\n",
    "                                   rescale=1./255,\n",
    "                                   shear_range=0.1,\n",
    "                                   zoom_range=0.2,\n",
    "                                   horizontal_flip=True,\n",
    "                                   width_shift_range=0.1,\n",
    "                                   height_shift_range=0.1)"
   ]
  },
  {
   "cell_type": "code",
   "execution_count": null,
   "id": "d87b79a8",
   "metadata": {
    "ExecuteTime": {
     "end_time": "2021-04-24T18:19:26.259471Z",
     "start_time": "2021-04-24T18:19:26.148982Z"
    },
    "hidden": true
   },
   "outputs": [],
   "source": [
    "train_gen = train_datagen.flow_from_dataframe(\n",
    "    train_df, \n",
    "    train_path, \n",
    "    x_col='id',\n",
    "    y_col='breed',\n",
    "    target_size=(IMAGE_HEIGHT, IMAGE_WIDTH),\n",
    "    class_mode='sparse',\n",
    "    batch_size=64)\n",
    "\n",
    "val_gen = val_datagen.flow_from_dataframe(\n",
    "    val_df,\n",
    "    train_path,\n",
    "    x_col='id',\n",
    "    y_col='breed',\n",
    "    target_size=(IMAGE_HEIGHT, IMAGE_WIDTH),\n",
    "    class_mode='sparse',\n",
    "    batch_size=64)"
   ]
  },
  {
   "cell_type": "code",
   "execution_count": null,
   "id": "6d775d43",
   "metadata": {
    "ExecuteTime": {
     "end_time": "2021-04-24T18:19:31.902453Z",
     "start_time": "2021-04-24T18:19:31.736734Z"
    },
    "hidden": true,
    "scrolled": true
   },
   "outputs": [],
   "source": [
    "layers4 = [\n",
    "    keras.layers.Conv2D(64,(3,3), activation = 'relu', input_shape=IMAGE_SIZE),\n",
    "    keras.layers.MaxPooling2D(pool_size = (2,2)),\n",
    "\n",
    "    keras.layers.Conv2D(64,(3,3), activation = 'relu'),\n",
    "    keras.layers.MaxPooling2D(pool_size = (2,2)),\n",
    "\n",
    "    keras.layers.Flatten(),\n",
    "    keras.layers.Dense(64, activation='relu'),\n",
    "    keras.layers.Dense(120, activation='sigmoid')\n",
    "]\n",
    "\n",
    "model = keras.Sequential(layers4)\n",
    "\n",
    "model.compile(optimizer=\"adam\",\n",
    "              loss='sparse_categorical_crossentropy',\n",
    "              metrics=['accuracy'])"
   ]
  },
  {
   "cell_type": "code",
   "execution_count": null,
   "id": "5491dc0c",
   "metadata": {
    "ExecuteTime": {
     "end_time": "2021-04-24T18:19:31.902453Z",
     "start_time": "2021-04-24T18:19:31.736734Z"
    },
    "hidden": true,
    "scrolled": true
   },
   "outputs": [],
   "source": [
    "layers4_1 = [\n",
    "    keras.layers.Conv2D(64,(3,3), activation = 'relu', input_shape=IMAGE_SIZE),\n",
    "    keras.layers.MaxPooling2D(pool_size = (2,2)),\n",
    "\n",
    "    keras.layers.Conv2D(64,(3,3), activation = 'relu'),\n",
    "    keras.layers.MaxPooling2D(pool_size = (2,2)),\n",
    "\n",
    "    keras.layers.Flatten(),\n",
    "    keras.layers.Dense(64, activation='relu'),\n",
    "    keras.layers.Dense(120, activation='sigmoid')\n",
    "]\n",
    "\n",
    "model = keras.Sequential(layers4)\n",
    "\n",
    "model.compile(optimizer=\"adam\",\n",
    "              loss='sparse_categorical_crossentropy',\n",
    "              metrics='accuracy')"
   ]
  },
  {
   "cell_type": "code",
   "execution_count": null,
   "id": "c7bd1f05",
   "metadata": {
    "ExecuteTime": {
     "end_time": "2021-04-24T18:19:34.563647Z",
     "start_time": "2021-04-24T18:19:34.559862Z"
    },
    "hidden": true
   },
   "outputs": [],
   "source": [
    "cb_model4 = keras.callbacks.ModelCheckpoint(\"cb_model4.h5\")\n",
    "cb_model4_1 = keras.callbacks.ModelCheckpoint(\"cb_model4_1.h5\")"
   ]
  },
  {
   "cell_type": "code",
   "execution_count": null,
   "id": "eff95677",
   "metadata": {
    "ExecuteTime": {
     "end_time": "2021-04-24T18:42:01.991503Z",
     "start_time": "2021-04-24T18:25:41.376654Z"
    },
    "hidden": true
   },
   "outputs": [],
   "source": [
    "model4 = model.fit(train_gen,\n",
    "                   epochs=50,\n",
    "                   validation_data=val_gen,\n",
    "                   callbacks=cb_model4)"
   ]
  },
  {
   "cell_type": "code",
   "execution_count": null,
   "id": "e0782389",
   "metadata": {
    "hidden": true
   },
   "outputs": [],
   "source": [
    "model4.evaluate(X_test, y_test)"
   ]
  },
  {
   "cell_type": "code",
   "execution_count": null,
   "id": "8e136112",
   "metadata": {
    "hidden": true
   },
   "outputs": [],
   "source": []
  },
  {
   "cell_type": "markdown",
   "id": "c7d99183",
   "metadata": {
    "heading_collapsed": true
   },
   "source": [
    "## 5th Model VGG16-1"
   ]
  },
  {
   "cell_type": "code",
   "execution_count": null,
   "id": "a47ade36",
   "metadata": {
    "ExecuteTime": {
     "end_time": "2021-04-24T19:01:39.055369Z",
     "start_time": "2021-04-24T19:01:39.048914Z"
    },
    "hidden": true
   },
   "outputs": [],
   "source": [
    "IMAGE_HEIGHT = 100\n",
    "IMAGE_WIDTH = 100\n",
    "IMAGE_CHANNELS=3\n",
    "IMAGE_SIZE=(IMAGE_WIDTH, IMAGE_HEIGHT, IMAGE_CHANNELS)"
   ]
  },
  {
   "cell_type": "code",
   "execution_count": null,
   "id": "958d2548",
   "metadata": {
    "ExecuteTime": {
     "end_time": "2021-04-24T19:01:41.930427Z",
     "start_time": "2021-04-24T19:01:41.925137Z"
    },
    "hidden": true
   },
   "outputs": [],
   "source": [
    "train_df, val_df = train_test_split(target_df,\n",
    "                                    test_size=0.20,\n",
    "                                    random_state=42)\n",
    "\n",
    "train_df = train_df.reset_index(drop=True)\n",
    "val_df = validate_df.reset_index(drop=True)"
   ]
  },
  {
   "cell_type": "code",
   "execution_count": null,
   "id": "9b5a5071",
   "metadata": {
    "ExecuteTime": {
     "end_time": "2021-04-24T19:01:44.731195Z",
     "start_time": "2021-04-24T19:01:44.729201Z"
    },
    "hidden": true
   },
   "outputs": [],
   "source": [
    "train_datagen = ImageDataGenerator(rotation_range=15,\n",
    "                                   rescale=1./255,\n",
    "                                   shear_range=0.1,\n",
    "                                   zoom_range=0.2,\n",
    "                                   horizontal_flip=True,\n",
    "                                   width_shift_range=0.1,\n",
    "                                   height_shift_range=0.1)\n",
    "\n",
    "val_datagen = ImageDataGenerator(rotation_range=15,\n",
    "                                   rescale=1./255,\n",
    "                                   shear_range=0.1,\n",
    "                                   zoom_range=0.2,\n",
    "                                   horizontal_flip=True,\n",
    "                                   width_shift_range=0.1,\n",
    "                                   height_shift_range=0.1)"
   ]
  },
  {
   "cell_type": "code",
   "execution_count": null,
   "id": "cf15fbf3",
   "metadata": {
    "ExecuteTime": {
     "end_time": "2021-04-24T19:01:47.497913Z",
     "start_time": "2021-04-24T19:01:47.436356Z"
    },
    "hidden": true
   },
   "outputs": [],
   "source": [
    "train_gen = train_datagen.flow_from_dataframe(\n",
    "    train_df, \n",
    "    train_path, \n",
    "    x_col='id',\n",
    "    y_col='breed',\n",
    "    target_size=(IMAGE_HEIGHT, IMAGE_WIDTH),\n",
    "    class_mode='sparse',\n",
    "    batch_size=64)\n",
    "\n",
    "val_gen = val_datagen.flow_from_dataframe(\n",
    "    val_df,\n",
    "    train_path,\n",
    "    x_col='id',\n",
    "    y_col='breed',\n",
    "    target_size=(IMAGE_HEIGHT, IMAGE_WIDTH),\n",
    "    class_mode='sparse',\n",
    "    batch_size=64)"
   ]
  },
  {
   "cell_type": "code",
   "execution_count": null,
   "id": "f8bfd475",
   "metadata": {
    "ExecuteTime": {
     "end_time": "2021-04-24T19:01:50.571528Z",
     "start_time": "2021-04-24T19:01:50.305618Z"
    },
    "hidden": true
   },
   "outputs": [],
   "source": [
    "base_model = VGG16(input_shape=IMAGE_SIZE,\n",
    "                   include_top=False,\n",
    "                   weights='imagenet')\n",
    "\n",
    "for layer in base_model.layers:\n",
    "    layer.trainable = False"
   ]
  },
  {
   "cell_type": "code",
   "execution_count": null,
   "id": "5a8c57e5",
   "metadata": {
    "ExecuteTime": {
     "end_time": "2021-04-24T21:15:55.007364Z",
     "start_time": "2021-04-24T21:15:54.949017Z"
    },
    "hidden": true
   },
   "outputs": [],
   "source": [
    "layers5 = keras.layers.Flatten()(base_model.output)\n",
    "\n",
    "layers5 = keras.layers.Dense(512, activation='relu')(layers5)\n",
    "\n",
    "layers5 = keras.layers.Dense(512, activation='relu')(layers5)\n",
    "\n",
    "layers5 = keras.layers.Dropout(0.2)(layers5)\n",
    "\n",
    "layers5 = keras.layers.Dense(120, activation='softmax')(layers5)\n",
    "\n",
    "model = keras.models.Model(base_model.input, layers5)\n",
    "\n",
    "model.compile(optimizer='adam',\n",
    "              loss='sparse_categorical_crossentropy',\n",
    "              metrics='acc')"
   ]
  },
  {
   "cell_type": "code",
   "execution_count": null,
   "id": "7278dd5a",
   "metadata": {
    "ExecuteTime": {
     "end_time": "2021-04-24T21:16:23.837956Z",
     "start_time": "2021-04-24T21:16:23.828465Z"
    },
    "hidden": true
   },
   "outputs": [],
   "source": [
    "cb_model5_1 = keras.callbacks.ModelCheckpoint(\"cb_model5.h5_1\")\n",
    "\n",
    "best_acc_model5_1 = keras.callbacks.ModelCheckpoint(\n",
    "    \"best_acc_model5_1.h5\", monitor='val_acc', mode='auto', verbose=1, save_best_only=True)\n",
    "\n",
    "best_loss_model5_1 = keras.callbacks.ModelCheckpoint(\n",
    "    \"best_loss_model5_1.h5\", monitor='val_loss', mode='auto', verbose=1, save_best_only=True)\n",
    "\n",
    "earlystop_model5_1 = EarlyStopping(monitor='val_loss',\n",
    "                                 min_delta=0,\n",
    "                                 patience=5,\n",
    "                                 verbose=1,\n",
    "                                 restore_best_weights=True)"
   ]
  },
  {
   "cell_type": "code",
   "execution_count": null,
   "id": "9f9b8e24",
   "metadata": {
    "ExecuteTime": {
     "end_time": "2021-04-24T21:16:35.038001Z",
     "start_time": "2021-04-24T21:16:34.825434Z"
    },
    "hidden": true
   },
   "outputs": [],
   "source": [
    "model5 = keras.models.load_model(\"best_model5.h5\")"
   ]
  },
  {
   "cell_type": "code",
   "execution_count": null,
   "id": "c831cb7a",
   "metadata": {
    "ExecuteTime": {
     "end_time": "2021-04-24T21:20:07.100348Z",
     "start_time": "2021-04-24T21:16:40.096377Z"
    },
    "hidden": true,
    "scrolled": true
   },
   "outputs": [],
   "source": [
    "model5_1 = model5.fit(train_gen,\n",
    "                   validation_data=val_gen,\n",
    "                   epochs=25,\n",
    "                   callbacks=[cb_model5_1,\n",
    "                              best_acc_model5_1,\n",
    "                              best_loss_model5_1,\n",
    "                              earlystop_model5_1])"
   ]
  },
  {
   "cell_type": "markdown",
   "id": "8b7fb6ec",
   "metadata": {
    "heading_collapsed": true
   },
   "source": [
    "## 6th Model VGG16-2"
   ]
  },
  {
   "cell_type": "code",
   "execution_count": null,
   "id": "77ef0494",
   "metadata": {
    "ExecuteTime": {
     "end_time": "2021-04-24T21:28:59.189372Z",
     "start_time": "2021-04-24T21:28:59.184716Z"
    },
    "hidden": true
   },
   "outputs": [],
   "source": [
    "IMAGE_HEIGHT = 100\n",
    "IMAGE_WIDTH = 100\n",
    "IMAGE_CHANNELS=3\n",
    "IMAGE_SIZE=(IMAGE_WIDTH, IMAGE_HEIGHT, IMAGE_CHANNELS)"
   ]
  },
  {
   "cell_type": "code",
   "execution_count": null,
   "id": "5949deae",
   "metadata": {
    "ExecuteTime": {
     "end_time": "2021-04-24T21:29:02.018679Z",
     "start_time": "2021-04-24T21:29:02.014080Z"
    },
    "hidden": true
   },
   "outputs": [],
   "source": [
    "train_df, val_df = train_test_split(target_df,\n",
    "                                    test_size=0.20,\n",
    "                                    random_state=42)\n",
    "\n",
    "train_df = train_df.reset_index(drop=True)\n",
    "val_df = validate_df.reset_index(drop=True)"
   ]
  },
  {
   "cell_type": "code",
   "execution_count": null,
   "id": "a8c34137",
   "metadata": {
    "ExecuteTime": {
     "end_time": "2021-04-24T21:29:04.707981Z",
     "start_time": "2021-04-24T21:29:04.706425Z"
    },
    "hidden": true
   },
   "outputs": [],
   "source": [
    "train_datagen = ImageDataGenerator(rescale=1./255)\n",
    "\n",
    "val_datagen = ImageDataGenerator(rescale=1./255)"
   ]
  },
  {
   "cell_type": "code",
   "execution_count": null,
   "id": "71927ccb",
   "metadata": {
    "ExecuteTime": {
     "end_time": "2021-04-24T21:29:07.430832Z",
     "start_time": "2021-04-24T21:29:07.369833Z"
    },
    "hidden": true
   },
   "outputs": [],
   "source": [
    "train_gen = train_datagen.flow_from_dataframe(\n",
    "    train_df, \n",
    "    train_path, \n",
    "    x_col='id',\n",
    "    y_col='breed',\n",
    "    target_size=(IMAGE_HEIGHT, IMAGE_WIDTH),\n",
    "    class_mode='sparse',\n",
    "    batch_size=64)\n",
    "\n",
    "val_gen = val_datagen.flow_from_dataframe(\n",
    "    val_df,\n",
    "    train_path,\n",
    "    x_col='id',\n",
    "    y_col='breed',\n",
    "    target_size=(IMAGE_HEIGHT, IMAGE_WIDTH),\n",
    "    class_mode='sparse',\n",
    "    batch_size=64)"
   ]
  },
  {
   "cell_type": "code",
   "execution_count": null,
   "id": "58fe90b3",
   "metadata": {
    "ExecuteTime": {
     "end_time": "2021-04-24T21:29:10.355929Z",
     "start_time": "2021-04-24T21:29:10.100832Z"
    },
    "hidden": true
   },
   "outputs": [],
   "source": [
    "base_model = VGG16(input_shape=IMAGE_SIZE,\n",
    "                   include_top=False,\n",
    "                   weights='imagenet')\n",
    "\n",
    "for layer in base_model.layers:\n",
    "    layer.trainable = False"
   ]
  },
  {
   "cell_type": "code",
   "execution_count": null,
   "id": "e03de4f8",
   "metadata": {
    "ExecuteTime": {
     "end_time": "2021-04-24T21:29:13.065161Z",
     "start_time": "2021-04-24T21:29:13.036222Z"
    },
    "hidden": true
   },
   "outputs": [],
   "source": [
    "layers5 = keras.layers.Flatten()(base_model.output)\n",
    "\n",
    "layers5 = keras.layers.Dense(128, activation='relu')(layers5)\n",
    "layers5 = keras.layers.Dropout(0.2)(layers5)\n",
    "\n",
    "layers5 = keras.layers.Dense(256, activation='relu')(layers5)\n",
    "layers5 = keras.layers.Dropout(0.2)(layers5)\n",
    "\n",
    "layers5 = keras.layers.Dense(512, activation='relu')(layers5)\n",
    "layers5 = keras.layers.Dropout(0.5)(layers5)\n",
    "layers5 = keras.layers.Dense(120, activation='softmax')(layers5)\n",
    "\n",
    "model = keras.models.Model(base_model.input, layers5)\n",
    "\n",
    "model.compile(optimizer='adam',\n",
    "              loss='sparse_categorical_crossentropy',\n",
    "              metrics='acc')"
   ]
  },
  {
   "cell_type": "code",
   "execution_count": null,
   "id": "483d7ced",
   "metadata": {
    "ExecuteTime": {
     "end_time": "2021-04-24T21:29:15.784246Z",
     "start_time": "2021-04-24T21:29:15.782044Z"
    },
    "hidden": true
   },
   "outputs": [],
   "source": [
    "#cb_model6 = keras.callbacks.ModelCheckpoint(\"6_cb_model5.h\")\n",
    "\n",
    "best_acc_model6 = keras.callbacks.ModelCheckpoint(\n",
    "    \"7_best_acc_model.h5\", monitor='val_acc', mode='auto', verbose=1, save_best_only=True)\n",
    "\n",
    "best_loss_model6 = keras.callbacks.ModelCheckpoint(\n",
    "    \"7_best_loss_model.h5\", monitor='val_loss', mode='auto', verbose=1, save_best_only=True)\n",
    "\n",
    "earlystop_model6 = EarlyStopping(monitor='val_loss',\n",
    "                                 min_delta=0,\n",
    "                                 patience=5,\n",
    "                                 verbose=1,\n",
    "                                 restore_best_weights=True)"
   ]
  },
  {
   "cell_type": "code",
   "execution_count": null,
   "id": "f7d74b96",
   "metadata": {
    "ExecuteTime": {
     "end_time": "2021-04-24T21:29:18.479793Z",
     "start_time": "2021-04-24T21:29:18.478400Z"
    },
    "hidden": true
   },
   "outputs": [],
   "source": [
    "#model6 = keras.models.load_model(\"best_model6.h5\")"
   ]
  },
  {
   "cell_type": "code",
   "execution_count": null,
   "id": "8ebdc617",
   "metadata": {
    "ExecuteTime": {
     "end_time": "2021-04-24T21:47:52.360536Z",
     "start_time": "2021-04-24T21:29:21.217868Z"
    },
    "hidden": true,
    "scrolled": true
   },
   "outputs": [],
   "source": [
    "model6 = model.fit(train_gen,\n",
    "                   validation_data=val_gen,\n",
    "                   epochs=25,\n",
    "                   callbacks=[cb_model6,\n",
    "                              best_acc_model6,\n",
    "                              best_loss_model6,\n",
    "                              earlystop_model6])"
   ]
  },
  {
   "cell_type": "code",
   "execution_count": null,
   "id": "cb95cd11",
   "metadata": {
    "hidden": true
   },
   "outputs": [],
   "source": []
  },
  {
   "cell_type": "markdown",
   "id": "34d7eb4e",
   "metadata": {
    "heading_collapsed": true
   },
   "source": [
    "## 7th Model Inception V3"
   ]
  },
  {
   "cell_type": "code",
   "execution_count": null,
   "id": "786683a4",
   "metadata": {
    "ExecuteTime": {
     "end_time": "2021-04-24T22:12:36.241189Z",
     "start_time": "2021-04-24T22:12:36.236453Z"
    },
    "hidden": true
   },
   "outputs": [],
   "source": [
    "IMAGE_HEIGHT = 150\n",
    "IMAGE_WIDTH = 150\n",
    "IMAGE_CHANNELS = 3\n",
    "IMAGE_SIZE=(IMAGE_WIDTH, IMAGE_HEIGHT, IMAGE_CHANNELS)"
   ]
  },
  {
   "cell_type": "code",
   "execution_count": null,
   "id": "22be46ef",
   "metadata": {
    "ExecuteTime": {
     "end_time": "2021-04-24T22:12:39.085584Z",
     "start_time": "2021-04-24T22:12:39.061588Z"
    },
    "hidden": true
   },
   "outputs": [],
   "source": [
    "train_df, val_df = train_test_split(target_df,\n",
    "                                    test_size=0.15,\n",
    "                                    random_state=42)\n",
    "\n",
    "train_df = train_df.reset_index(drop=True)\n",
    "val_df = val_df.reset_index(drop=True)"
   ]
  },
  {
   "cell_type": "code",
   "execution_count": null,
   "id": "2654a99d",
   "metadata": {
    "ExecuteTime": {
     "end_time": "2021-04-24T22:12:41.783998Z",
     "start_time": "2021-04-24T22:12:41.779940Z"
    },
    "hidden": true
   },
   "outputs": [],
   "source": [
    "train_datagen = ImageDataGenerator(rotation_range=40,\n",
    "                                   rescale=1./255.,\n",
    "                                   shear_range=0.2,\n",
    "                                   zoom_range=0.2,\n",
    "                                   horizontal_flip=True,\n",
    "                                   width_shift_range=0.2,\n",
    "                                   height_shift_range=0.2)\n",
    "\n",
    "val_datagen = ImageDataGenerator(rescale=1./255.)"
   ]
  },
  {
   "cell_type": "code",
   "execution_count": null,
   "id": "37121dfc",
   "metadata": {
    "ExecuteTime": {
     "end_time": "2021-04-24T22:12:44.604574Z",
     "start_time": "2021-04-24T22:12:44.487662Z"
    },
    "hidden": true
   },
   "outputs": [],
   "source": [
    "train_gen = train_datagen.flow_from_dataframe(\n",
    "    train_df, \n",
    "    train_path, \n",
    "    x_col='id',\n",
    "    y_col='breed',\n",
    "    target_size=(IMAGE_HEIGHT, IMAGE_WIDTH),\n",
    "    class_mode='sparse',\n",
    "    batch_size=32)\n",
    "\n",
    "val_gen = val_datagen.flow_from_dataframe(\n",
    "    val_df,\n",
    "    train_path,\n",
    "    x_col='id',\n",
    "    y_col='breed',\n",
    "    target_size=(IMAGE_HEIGHT, IMAGE_WIDTH),\n",
    "    class_mode='sparse',\n",
    "    batch_size=32)"
   ]
  },
  {
   "cell_type": "code",
   "execution_count": null,
   "id": "6d5d860b",
   "metadata": {
    "ExecuteTime": {
     "end_time": "2021-04-24T22:12:49.164266Z",
     "start_time": "2021-04-24T22:12:47.270463Z"
    },
    "hidden": true
   },
   "outputs": [],
   "source": [
    "base_model_inception = InceptionV3(input_shape=IMAGE_SIZE,\n",
    "                                   include_top=False,\n",
    "                                   weights='imagenet')\n",
    "\n",
    "for layer in base_model_inception.layers:\n",
    "    layer.trainable = False"
   ]
  },
  {
   "cell_type": "code",
   "execution_count": null,
   "id": "dac1406b",
   "metadata": {
    "ExecuteTime": {
     "end_time": "2021-04-24T22:12:51.931964Z",
     "start_time": "2021-04-24T22:12:51.857762Z"
    },
    "hidden": true
   },
   "outputs": [],
   "source": [
    "x = keras.layers.Flatten()(base_model_inception.output)\n",
    "\n",
    "x = keras.layers.Dense(512, activation='relu')(x)\n",
    "\n",
    "x = keras.layers.Dropout(0.2)(x)\n",
    "\n",
    "x = keras.layers.Dense(120, activation='softmax')(x)\n",
    "\n",
    "model = keras.models.Model(base_model_inception.input, x)\n",
    "\n",
    "model.compile(optimizer='adam',\n",
    "              loss='sparse_categorical_crossentropy',\n",
    "              metrics='acc')"
   ]
  },
  {
   "cell_type": "code",
   "execution_count": null,
   "id": "c0c62ffe",
   "metadata": {
    "ExecuteTime": {
     "end_time": "2021-04-24T22:24:07.242065Z",
     "start_time": "2021-04-24T22:24:07.224730Z"
    },
    "hidden": true
   },
   "outputs": [],
   "source": [
    "#cb_model = keras.callbacks.ModelCheckpoint(\"7_cb_model5.h\")\n",
    "\n",
    "best_acc_model = keras.callbacks.ModelCheckpoint(\n",
    "    \"7_best_acc_model.h5\", monitor='val_acc', mode='auto', verbose=1, save_best_only=True)\n",
    "\n",
    "best_loss_model = keras.callbacks.ModelCheckpoint(\n",
    "    \"7_best_loss_model.h5\", monitor='val_loss', mode='auto', verbose=1, save_best_only=True)\n",
    "\n",
    "earlystop_model = EarlyStopping(monitor='val_loss',\n",
    "                                min_delta=0,\n",
    "                                patience=5,\n",
    "                                verbose=1,\n",
    "                                restore_best_weights=True)"
   ]
  },
  {
   "cell_type": "code",
   "execution_count": null,
   "id": "85c728c1",
   "metadata": {
    "ExecuteTime": {
     "end_time": "2021-04-24T23:00:47.942236Z",
     "start_time": "2021-04-24T23:00:46.345617Z"
    },
    "hidden": true
   },
   "outputs": [],
   "source": [
    "model = keras.models.load_model(\"7_best_acc_model.h5\")"
   ]
  },
  {
   "cell_type": "code",
   "execution_count": null,
   "id": "a37353e8",
   "metadata": {
    "ExecuteTime": {
     "end_time": "2021-04-24T23:40:55.416699Z",
     "start_time": "2021-04-24T23:01:04.340333Z"
    },
    "hidden": true
   },
   "outputs": [],
   "source": [
    "model = model.fit(train_gen,\n",
    "                   validation_data=val_gen,\n",
    "                   epochs=25,\n",
    "                   callbacks=[best_acc_model])"
   ]
  },
  {
   "cell_type": "code",
   "execution_count": null,
   "id": "675be20e",
   "metadata": {
    "hidden": true
   },
   "outputs": [],
   "source": []
  },
  {
   "cell_type": "markdown",
   "id": "2b35c2bd",
   "metadata": {},
   "source": [
    "## 8th Model Xception"
   ]
  },
  {
   "cell_type": "code",
   "execution_count": 4,
   "id": "f038121f",
   "metadata": {
    "ExecuteTime": {
     "end_time": "2021-04-25T21:27:10.205937Z",
     "start_time": "2021-04-25T21:27:10.202984Z"
    }
   },
   "outputs": [],
   "source": [
    "IMAGE_HEIGHT = 200\n",
    "IMAGE_WIDTH = 200\n",
    "IMAGE_CHANNELS = 3\n",
    "IMAGE_SIZE=(IMAGE_WIDTH, IMAGE_HEIGHT, IMAGE_CHANNELS)"
   ]
  },
  {
   "cell_type": "code",
   "execution_count": 5,
   "id": "7b5fe094",
   "metadata": {
    "ExecuteTime": {
     "end_time": "2021-04-25T21:27:10.439028Z",
     "start_time": "2021-04-25T21:27:10.428566Z"
    }
   },
   "outputs": [],
   "source": [
    "train_df, val_df = train_test_split(target_df,\n",
    "                                    test_size=0.15,\n",
    "                                    random_state=42)\n",
    "\n",
    "train_df = train_df.reset_index(drop=True)\n",
    "val_df = val_df.reset_index(drop=True)"
   ]
  },
  {
   "cell_type": "code",
   "execution_count": 6,
   "id": "72a01c6d",
   "metadata": {
    "ExecuteTime": {
     "end_time": "2021-04-25T21:27:10.643013Z",
     "start_time": "2021-04-25T21:27:10.636253Z"
    }
   },
   "outputs": [],
   "source": [
    "train_datagen = ImageDataGenerator(rotation_range=40,\n",
    "                                   rescale=1./255.,\n",
    "                                   shear_range=0.2,\n",
    "                                   zoom_range=0.2,\n",
    "                                   horizontal_flip=True,\n",
    "                                   width_shift_range=0.2,\n",
    "                                   height_shift_range=0.2)\n",
    "\n",
    "val_datagen = ImageDataGenerator(rescale=1./255.)"
   ]
  },
  {
   "cell_type": "code",
   "execution_count": 7,
   "id": "e0a7d8ce",
   "metadata": {
    "ExecuteTime": {
     "end_time": "2021-04-25T21:27:11.319280Z",
     "start_time": "2021-04-25T21:27:11.228794Z"
    }
   },
   "outputs": [
    {
     "name": "stdout",
     "output_type": "stream",
     "text": [
      "Found 8688 validated image filenames belonging to 120 classes.\n",
      "Found 1534 validated image filenames belonging to 120 classes.\n"
     ]
    }
   ],
   "source": [
    "train_gen = train_datagen.flow_from_dataframe(\n",
    "    train_df, \n",
    "    train_path, \n",
    "    x_col='id',\n",
    "    y_col='breed',\n",
    "    target_size=(IMAGE_HEIGHT, IMAGE_WIDTH),\n",
    "    class_mode='sparse',\n",
    "    batch_size=32)\n",
    "\n",
    "val_gen = val_datagen.flow_from_dataframe(\n",
    "    val_df,\n",
    "    train_path,\n",
    "    x_col='id',\n",
    "    y_col='breed',\n",
    "    target_size=(IMAGE_HEIGHT, IMAGE_WIDTH),\n",
    "    class_mode='sparse',\n",
    "    batch_size=32)"
   ]
  },
  {
   "cell_type": "code",
   "execution_count": null,
   "id": "5a111dea",
   "metadata": {
    "ExecuteTime": {
     "end_time": "2021-04-25T10:51:30.534528Z",
     "start_time": "2021-04-25T10:51:29.934921Z"
    }
   },
   "outputs": [],
   "source": [
    "base_model = Xception(input_shape=IMAGE_SIZE,\n",
    "                      include_top=False,\n",
    "                      weights=\"imagenet\")\n",
    "\n",
    "for layer in base_model.layers:\n",
    "    layer.trainable = False"
   ]
  },
  {
   "cell_type": "code",
   "execution_count": null,
   "id": "466da12a",
   "metadata": {
    "ExecuteTime": {
     "end_time": "2021-04-25T10:51:30.728981Z",
     "start_time": "2021-04-25T10:51:30.693511Z"
    }
   },
   "outputs": [],
   "source": [
    "avg = keras.layers.GlobalAveragePooling2D()(base_model.output)\n",
    "\n",
    "avg = keras.layers.Dense(512, activation='relu')(avg)\n",
    "\n",
    "avg = keras.layers.Dropout(0.2)(avg)\n",
    "\n",
    "output = keras.layers.Dense(120, activation=\"softmax\")(avg)\n",
    "\n",
    "model = keras.Model(inputs=base_model.input, outputs=output)\n",
    "\n",
    "model.compile(optimizer='adam',\n",
    "              loss='sparse_categorical_crossentropy',\n",
    "              metrics='acc')"
   ]
  },
  {
   "cell_type": "code",
   "execution_count": null,
   "id": "40415a1a",
   "metadata": {
    "ExecuteTime": {
     "end_time": "2021-04-25T10:51:32.066036Z",
     "start_time": "2021-04-25T10:51:32.059389Z"
    }
   },
   "outputs": [],
   "source": [
    "cb_model = keras.callbacks.ModelCheckpoint(\"8_3_2_cb_model5.h5\")\n",
    "\n",
    "best_acc_model = keras.callbacks.ModelCheckpoint(\n",
    "    \"8_3_2_best_acc_model.h5\", monitor='val_acc', mode='auto', verbose=1, save_best_only=True)\n",
    "\n",
    "best_loss_model = keras.callbacks.ModelCheckpoint(\n",
    "    \"8_3_2_best_loss_model.h5\", monitor='val_loss', mode='auto', verbose=1, save_best_only=True)\n",
    "\n",
    "earlystop_model = EarlyStopping(monitor='val_loss',\n",
    "                                min_delta=0,\n",
    "                                patience=5,\n",
    "                                verbose=1,\n",
    "                                restore_best_weights=True)"
   ]
  },
  {
   "cell_type": "code",
   "execution_count": null,
   "id": "0fc8a9f9",
   "metadata": {
    "ExecuteTime": {
     "end_time": "2021-04-25T15:08:27.450321Z",
     "start_time": "2021-04-25T15:08:27.008216Z"
    }
   },
   "outputs": [],
   "source": [
    "model = keras.models.load_model(\"8_3_1_best_acc_model.h5\")"
   ]
  },
  {
   "cell_type": "code",
   "execution_count": null,
   "id": "e489c277",
   "metadata": {
    "ExecuteTime": {
     "start_time": "2021-04-25T10:51:35.006Z"
    },
    "scrolled": false
   },
   "outputs": [],
   "source": [
    "history = model.fit(train_gen,\n",
    "                   validation_data=val_gen,\n",
    "                   epochs=1,\n",
    "                   callbacks=[cb_model, best_acc_model])"
   ]
  },
  {
   "cell_type": "code",
   "execution_count": null,
   "id": "a040593a",
   "metadata": {},
   "outputs": [],
   "source": []
  },
  {
   "cell_type": "markdown",
   "id": "cca8b401",
   "metadata": {
    "heading_collapsed": true
   },
   "source": [
    "## Predict"
   ]
  },
  {
   "cell_type": "code",
   "execution_count": null,
   "id": "33d9e890",
   "metadata": {
    "ExecuteTime": {
     "end_time": "2021-04-25T16:44:37.259118Z",
     "start_time": "2021-04-25T16:44:37.238834Z"
    },
    "hidden": true
   },
   "outputs": [],
   "source": [
    "smallimage = cv2.resize((cv2.imread(train_path + target_df['id'][3])), (200, 200))"
   ]
  },
  {
   "cell_type": "code",
   "execution_count": null,
   "id": "cbe491e0",
   "metadata": {
    "ExecuteTime": {
     "end_time": "2021-04-25T16:44:39.999362Z",
     "start_time": "2021-04-25T16:44:39.892598Z"
    },
    "hidden": true
   },
   "outputs": [],
   "source": [
    "plt.imshow(cv2.imread(train_path + target_df['id'][3]))"
   ]
  },
  {
   "cell_type": "code",
   "execution_count": null,
   "id": "d04e8a8b",
   "metadata": {
    "ExecuteTime": {
     "end_time": "2021-04-25T16:44:48.712671Z",
     "start_time": "2021-04-25T16:44:48.705131Z"
    },
    "hidden": true
   },
   "outputs": [],
   "source": [
    "smallimage = smallimage / 255."
   ]
  },
  {
   "cell_type": "code",
   "execution_count": null,
   "id": "4389881c",
   "metadata": {
    "ExecuteTime": {
     "end_time": "2021-04-25T16:44:50.792461Z",
     "start_time": "2021-04-25T16:44:50.789921Z"
    },
    "hidden": true
   },
   "outputs": [],
   "source": [
    "smallimage = smallimage.reshape(1, 200, 200, 3)"
   ]
  },
  {
   "cell_type": "code",
   "execution_count": null,
   "id": "44287170",
   "metadata": {
    "ExecuteTime": {
     "end_time": "2021-04-25T16:44:53.919842Z",
     "start_time": "2021-04-25T16:44:53.825005Z"
    },
    "hidden": true
   },
   "outputs": [],
   "source": [
    "best = model.predict(smallimage)\n",
    "best.argmax()"
   ]
  },
  {
   "cell_type": "code",
   "execution_count": null,
   "id": "81394490",
   "metadata": {
    "hidden": true
   },
   "outputs": [],
   "source": []
  },
  {
   "cell_type": "markdown",
   "id": "2b2bb2ad",
   "metadata": {},
   "source": [
    "## DF Target classes + description + real name"
   ]
  },
  {
   "cell_type": "code",
   "execution_count": 8,
   "id": "e0c20e91",
   "metadata": {
    "ExecuteTime": {
     "end_time": "2021-04-25T21:27:17.173364Z",
     "start_time": "2021-04-25T21:27:17.168825Z"
    }
   },
   "outputs": [],
   "source": [
    "dic_breeds = train_gen.class_indices"
   ]
  },
  {
   "cell_type": "code",
   "execution_count": 9,
   "id": "4752aca9",
   "metadata": {
    "ExecuteTime": {
     "end_time": "2021-04-25T21:27:17.491271Z",
     "start_time": "2021-04-25T21:27:17.483463Z"
    }
   },
   "outputs": [],
   "source": [
    "breeds_df = pd.DataFrame({'breed': dic_breeds.keys(),\n",
    "                          'name_breed': '',\n",
    "                          'description': ''},\n",
    "                          index=dic_breeds.values())"
   ]
  },
  {
   "cell_type": "code",
   "execution_count": 10,
   "id": "55eeb834",
   "metadata": {
    "ExecuteTime": {
     "end_time": "2021-04-25T21:27:17.773306Z",
     "start_time": "2021-04-25T21:27:17.766475Z"
    }
   },
   "outputs": [],
   "source": [
    "breeds_df.reset_index(inplace=True)"
   ]
  },
  {
   "cell_type": "code",
   "execution_count": 11,
   "id": "a7a64677",
   "metadata": {
    "ExecuteTime": {
     "end_time": "2021-04-25T21:27:18.238887Z",
     "start_time": "2021-04-25T21:27:18.233191Z"
    }
   },
   "outputs": [],
   "source": [
    "breeds_df = breeds_df.rename(columns={'index': 'id'})"
   ]
  },
  {
   "cell_type": "markdown",
   "id": "eeabb574",
   "metadata": {
    "ExecuteTime": {
     "end_time": "2021-04-25T20:41:36.863752Z",
     "start_time": "2021-04-25T20:41:36.860809Z"
    }
   },
   "source": [
    "### Extract description + images breeds from Wikipedia"
   ]
  },
  {
   "cell_type": "code",
   "execution_count": 12,
   "id": "0d2e51c9",
   "metadata": {
    "ExecuteTime": {
     "end_time": "2021-04-25T21:27:20.847291Z",
     "start_time": "2021-04-25T21:27:20.786046Z"
    }
   },
   "outputs": [
    {
     "name": "stderr",
     "output_type": "stream",
     "text": [
      "<ipython-input-12-17ddc60e2d17>:2: SettingWithCopyWarning: \n",
      "A value is trying to be set on a copy of a slice from a DataFrame\n",
      "\n",
      "See the caveats in the documentation: https://pandas.pydata.org/pandas-docs/stable/user_guide/indexing.html#returning-a-view-versus-a-copy\n",
      "  breeds_df['name_breed'][i] = breeds_df['breed'][i].replace('_', ' ')\n",
      "<ipython-input-12-17ddc60e2d17>:3: SettingWithCopyWarning: \n",
      "A value is trying to be set on a copy of a slice from a DataFrame\n",
      "\n",
      "See the caveats in the documentation: https://pandas.pydata.org/pandas-docs/stable/user_guide/indexing.html#returning-a-view-versus-a-copy\n",
      "  breeds_df['name_breed'][i] = breeds_df['name_breed'][i].title()\n"
     ]
    }
   ],
   "source": [
    "for i in range(len(breeds_df)):\n",
    "    breeds_df['name_breed'][i] = breeds_df['breed'][i].replace('_', ' ')\n",
    "    breeds_df['name_breed'][i] = breeds_df['name_breed'][i].title()"
   ]
  },
  {
   "cell_type": "code",
   "execution_count": 13,
   "id": "0e7f2c4d",
   "metadata": {
    "ExecuteTime": {
     "end_time": "2021-04-25T21:30:25.416832Z",
     "start_time": "2021-04-25T21:27:25.945425Z"
    },
    "scrolled": true
   },
   "outputs": [
    {
     "name": "stderr",
     "output_type": "stream",
     "text": [
      "<ipython-input-13-e251dc8886c9>:5: SettingWithCopyWarning: \n",
      "A value is trying to be set on a copy of a slice from a DataFrame\n",
      "\n",
      "See the caveats in the documentation: https://pandas.pydata.org/pandas-docs/stable/user_guide/indexing.html#returning-a-view-versus-a-copy\n",
      "  breeds_df['description'][i] = wikipedia.summary(\n",
      "<ipython-input-13-e251dc8886c9>:8: SettingWithCopyWarning: \n",
      "A value is trying to be set on a copy of a slice from a DataFrame\n",
      "\n",
      "See the caveats in the documentation: https://pandas.pydata.org/pandas-docs/stable/user_guide/indexing.html#returning-a-view-versus-a-copy\n",
      "  breeds_df['description'][i] = 'No description available.'\n",
      "/Users/cris/miniforge3/envs/macenv/lib/python3.8/site-packages/wikipedia/wikipedia.py:389: GuessedAtParserWarning: No parser was explicitly specified, so I'm using the best available HTML parser for this system (\"lxml\"). This usually isn't a problem, but if you run this code on another system, or in a different virtual environment, it may use a different parser and behave differently.\n",
      "\n",
      "The code that caused this warning is on line 389 of the file /Users/cris/miniforge3/envs/macenv/lib/python3.8/site-packages/wikipedia/wikipedia.py. To get rid of this warning, pass the additional argument 'features=\"lxml\"' to the BeautifulSoup constructor.\n",
      "\n",
      "  lis = BeautifulSoup(html).find_all('li')\n"
     ]
    }
   ],
   "source": [
    "# Extract Wikipedia description:\n",
    "\n",
    "for i in range(len(breeds_df)):\n",
    "    try:\n",
    "        breeds_df['description'][i] = wikipedia.summary(\n",
    "            breeds_df['name_breed'][i])\n",
    "    except:\n",
    "        breeds_df['description'][i] = 'No description available.'"
   ]
  },
  {
   "cell_type": "code",
   "execution_count": 15,
   "id": "601dca7a",
   "metadata": {
    "ExecuteTime": {
     "end_time": "2021-04-25T21:30:45.136076Z",
     "start_time": "2021-04-25T21:30:45.117428Z"
    }
   },
   "outputs": [],
   "source": [
    "breeds_df.to_csv('breeds_df.csv')"
   ]
  },
  {
   "cell_type": "code",
   "execution_count": null,
   "id": "d7a079c3",
   "metadata": {
    "ExecuteTime": {
     "start_time": "2021-04-25T21:25:57.088Z"
    },
    "collapsed": true
   },
   "outputs": [
    {
     "name": "stderr",
     "output_type": "stream",
     "text": [
      "/Users/cris/miniforge3/envs/macenv/lib/python3.8/site-packages/wikipedia/wikipedia.py:389: GuessedAtParserWarning: No parser was explicitly specified, so I'm using the best available HTML parser for this system (\"lxml\"). This usually isn't a problem, but if you run this code on another system, or in a different virtual environment, it may use a different parser and behave differently.\n",
      "\n",
      "The code that caused this warning is on line 389 of the file /Users/cris/miniforge3/envs/macenv/lib/python3.8/site-packages/wikipedia/wikipedia.py. To get rid of this warning, pass the additional argument 'features=\"lxml\"' to the BeautifulSoup constructor.\n",
      "\n",
      "  lis = BeautifulSoup(html).find_all('li')\n"
     ]
    }
   ],
   "source": [
    "# Extract pictures from Wikipedia:\n",
    "\n",
    "for i in range(len(breeds_df)):\n",
    "    try:\n",
    "        page = wikipedia.page(breeds_df['name_breed'][i])\n",
    "        img = page.images[0]\n",
    "        img_data = requests.get(img).content\n",
    "        with open(breeds_df['breed'][i] + '.jpg', 'wb') as handler:\n",
    "            handler.write(img_data)\n",
    "    except:\n",
    "        continue"
   ]
  },
  {
   "cell_type": "code",
   "execution_count": null,
   "id": "4d3b7aff",
   "metadata": {},
   "outputs": [],
   "source": []
  },
  {
   "cell_type": "code",
   "execution_count": null,
   "id": "7ae6402c",
   "metadata": {},
   "outputs": [],
   "source": []
  }
 ],
 "metadata": {
  "kernelspec": {
   "display_name": "Python 3",
   "language": "python",
   "name": "python3"
  },
  "language_info": {
   "codemirror_mode": {
    "name": "ipython",
    "version": 3
   },
   "file_extension": ".py",
   "mimetype": "text/x-python",
   "name": "python",
   "nbconvert_exporter": "python",
   "pygments_lexer": "ipython3",
   "version": "3.8.8"
  },
  "toc": {
   "base_numbering": 1,
   "nav_menu": {},
   "number_sections": false,
   "sideBar": true,
   "skip_h1_title": false,
   "title_cell": "Table of Contents",
   "title_sidebar": "Contents",
   "toc_cell": false,
   "toc_position": {},
   "toc_section_display": true,
   "toc_window_display": false
  },
  "varInspector": {
   "cols": {
    "lenName": 16,
    "lenType": 16,
    "lenVar": 40
   },
   "kernels_config": {
    "python": {
     "delete_cmd_postfix": "",
     "delete_cmd_prefix": "del ",
     "library": "var_list.py",
     "varRefreshCmd": "print(var_dic_list())"
    },
    "r": {
     "delete_cmd_postfix": ") ",
     "delete_cmd_prefix": "rm(",
     "library": "var_list.r",
     "varRefreshCmd": "cat(var_dic_list()) "
    }
   },
   "types_to_exclude": [
    "module",
    "function",
    "builtin_function_or_method",
    "instance",
    "_Feature"
   ],
   "window_display": false
  }
 },
 "nbformat": 4,
 "nbformat_minor": 5
}
