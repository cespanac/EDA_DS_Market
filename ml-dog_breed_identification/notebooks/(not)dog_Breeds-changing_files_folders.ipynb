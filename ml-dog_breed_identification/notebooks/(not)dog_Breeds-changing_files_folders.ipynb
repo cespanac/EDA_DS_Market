{
 "cells": [
  {
   "cell_type": "markdown",
   "id": "78067ef9",
   "metadata": {},
   "source": [
    "# Dog Breeds changing files & folders"
   ]
  },
  {
   "cell_type": "markdown",
   "id": "ae971d43",
   "metadata": {
    "ExecuteTime": {
     "end_time": "2021-04-15T11:54:47.611093Z",
     "start_time": "2021-04-15T11:54:47.608165Z"
    }
   },
   "source": [
    "## 1. Carga datos & procesado imágenes"
   ]
  },
  {
   "cell_type": "code",
   "execution_count": 1,
   "id": "295d0f92",
   "metadata": {
    "ExecuteTime": {
     "end_time": "2021-04-24T15:09:02.100399Z",
     "start_time": "2021-04-24T15:08:56.617688Z"
    }
   },
   "outputs": [],
   "source": [
    "import numpy as np\n",
    "import pandas as pd \n",
    "import os\n",
    "import matplotlib.pyplot as plt\n",
    "import cv2\n",
    "import random\n",
    "import tensorflow as tf\n",
    "\n",
    "from skimage.io import imread\n",
    "from tensorflow import keras\n",
    "from tensorflow.keras.constraints import MaxNorm\n",
    "from tensorflow.keras.preprocessing.image import ImageDataGenerator, load_img\n",
    "from tensorflow.keras.models import Sequential\n",
    "from tensorflow.keras.layers import Conv2D, MaxPooling2D, Dropout\n",
    "from tensorflow.keras.layers import Flatten, Dense, Activation, BatchNormalization"
   ]
  },
  {
   "cell_type": "code",
   "execution_count": 2,
   "id": "9fc9b78c",
   "metadata": {
    "ExecuteTime": {
     "end_time": "2021-04-24T15:09:02.117319Z",
     "start_time": "2021-04-24T15:09:02.105955Z"
    }
   },
   "outputs": [],
   "source": [
    "train_path = '/Users/cris/Repositorios/local_docs/curso_ds21/dog-breed-identification/train/'\n",
    "test_path = '/Users/cris/Repositorios/local_docs/curso_ds21/dog-breed-identification/test/'\n",
    "target_df = pd.read_csv('/Users/cris/Repositorios/local_docs/curso_ds21/dog-breed-identification/labels.csv')"
   ]
  },
  {
   "cell_type": "code",
   "execution_count": 10,
   "id": "530f0297",
   "metadata": {
    "ExecuteTime": {
     "end_time": "2021-04-24T15:22:14.239747Z",
     "start_time": "2021-04-24T15:22:14.237038Z"
    }
   },
   "outputs": [],
   "source": [
    "import os\n",
    "import shutil\n",
    "\n",
    "srcpath = \"/Users/cris/Repositorios/local_docs/curso_ds21/dog-breed-identification/train/\"\n",
    "destpath = \"/Users/cris/Repositorios/local_docs/curso_ds21/dogs_classification/\""
   ]
  },
  {
   "cell_type": "code",
   "execution_count": 11,
   "id": "2b6bacff",
   "metadata": {
    "ExecuteTime": {
     "end_time": "2021-04-24T15:22:50.045500Z",
     "start_time": "2021-04-24T15:22:50.030229Z"
    }
   },
   "outputs": [
    {
     "data": {
      "text/html": [
       "<div>\n",
       "<style scoped>\n",
       "    .dataframe tbody tr th:only-of-type {\n",
       "        vertical-align: middle;\n",
       "    }\n",
       "\n",
       "    .dataframe tbody tr th {\n",
       "        vertical-align: top;\n",
       "    }\n",
       "\n",
       "    .dataframe thead th {\n",
       "        text-align: right;\n",
       "    }\n",
       "</style>\n",
       "<table border=\"1\" class=\"dataframe\">\n",
       "  <thead>\n",
       "    <tr style=\"text-align: right;\">\n",
       "      <th></th>\n",
       "      <th>id</th>\n",
       "      <th>breed</th>\n",
       "    </tr>\n",
       "  </thead>\n",
       "  <tbody>\n",
       "    <tr>\n",
       "      <th>0</th>\n",
       "      <td>000bec180eb18c7604dcecc8fe0dba07</td>\n",
       "      <td>boston_bull</td>\n",
       "    </tr>\n",
       "    <tr>\n",
       "      <th>1</th>\n",
       "      <td>001513dfcb2ffafc82cccf4d8bbaba97</td>\n",
       "      <td>dingo</td>\n",
       "    </tr>\n",
       "    <tr>\n",
       "      <th>2</th>\n",
       "      <td>001cdf01b096e06d78e9e5112d419397</td>\n",
       "      <td>pekinese</td>\n",
       "    </tr>\n",
       "    <tr>\n",
       "      <th>3</th>\n",
       "      <td>00214f311d5d2247d5dfe4fe24b2303d</td>\n",
       "      <td>bluetick</td>\n",
       "    </tr>\n",
       "    <tr>\n",
       "      <th>4</th>\n",
       "      <td>0021f9ceb3235effd7fcde7f7538ed62</td>\n",
       "      <td>golden_retriever</td>\n",
       "    </tr>\n",
       "    <tr>\n",
       "      <th>...</th>\n",
       "      <td>...</td>\n",
       "      <td>...</td>\n",
       "    </tr>\n",
       "    <tr>\n",
       "      <th>10217</th>\n",
       "      <td>ffd25009d635cfd16e793503ac5edef0</td>\n",
       "      <td>borzoi</td>\n",
       "    </tr>\n",
       "    <tr>\n",
       "      <th>10218</th>\n",
       "      <td>ffd3f636f7f379c51ba3648a9ff8254f</td>\n",
       "      <td>dandie_dinmont</td>\n",
       "    </tr>\n",
       "    <tr>\n",
       "      <th>10219</th>\n",
       "      <td>ffe2ca6c940cddfee68fa3cc6c63213f</td>\n",
       "      <td>airedale</td>\n",
       "    </tr>\n",
       "    <tr>\n",
       "      <th>10220</th>\n",
       "      <td>ffe5f6d8e2bff356e9482a80a6e29aac</td>\n",
       "      <td>miniature_pinscher</td>\n",
       "    </tr>\n",
       "    <tr>\n",
       "      <th>10221</th>\n",
       "      <td>fff43b07992508bc822f33d8ffd902ae</td>\n",
       "      <td>chesapeake_bay_retriever</td>\n",
       "    </tr>\n",
       "  </tbody>\n",
       "</table>\n",
       "<p>10222 rows × 2 columns</p>\n",
       "</div>"
      ],
      "text/plain": [
       "                                     id                     breed\n",
       "0      000bec180eb18c7604dcecc8fe0dba07               boston_bull\n",
       "1      001513dfcb2ffafc82cccf4d8bbaba97                     dingo\n",
       "2      001cdf01b096e06d78e9e5112d419397                  pekinese\n",
       "3      00214f311d5d2247d5dfe4fe24b2303d                  bluetick\n",
       "4      0021f9ceb3235effd7fcde7f7538ed62          golden_retriever\n",
       "...                                 ...                       ...\n",
       "10217  ffd25009d635cfd16e793503ac5edef0                    borzoi\n",
       "10218  ffd3f636f7f379c51ba3648a9ff8254f            dandie_dinmont\n",
       "10219  ffe2ca6c940cddfee68fa3cc6c63213f                  airedale\n",
       "10220  ffe5f6d8e2bff356e9482a80a6e29aac        miniature_pinscher\n",
       "10221  fff43b07992508bc822f33d8ffd902ae  chesapeake_bay_retriever\n",
       "\n",
       "[10222 rows x 2 columns]"
      ]
     },
     "execution_count": 11,
     "metadata": {},
     "output_type": "execute_result"
    }
   ],
   "source": [
    "target_df"
   ]
  },
  {
   "cell_type": "code",
   "execution_count": 16,
   "id": "a6f1343d",
   "metadata": {
    "ExecuteTime": {
     "end_time": "2021-04-24T15:30:24.940865Z",
     "start_time": "2021-04-24T15:30:00.321263Z"
    }
   },
   "outputs": [],
   "source": [
    "for name in range(len(target_df)):\n",
    "    name = target_df['breed'][name]\n",
    "    for file in os.listdir(srcpath):\n",
    "        if file in os.listdir(destpath):\n",
    "            count = \n",
    "            while file in os.listdir(destpath):\n",
    "                file \n",
    "            \n",
    "        file = os.rename(srcpath + file, destpath + name + '.jpg')\n",
    "        break"
   ]
  },
  {
   "cell_type": "code",
   "execution_count": null,
   "id": "8c423349",
   "metadata": {},
   "outputs": [],
   "source": []
  },
  {
   "cell_type": "code",
   "execution_count": null,
   "id": "d88eed08",
   "metadata": {},
   "outputs": [],
   "source": [
    " for file in os.listdir(srcpath):\n",
    "    file = os.rename(srcpath + file, destpath + target_df['breed'])\n",
    "\n"
   ]
  },
  {
   "cell_type": "code",
   "execution_count": 5,
   "id": "38ad56ca",
   "metadata": {
    "ExecuteTime": {
     "end_time": "2021-04-24T15:11:24.538900Z",
     "start_time": "2021-04-24T15:11:23.260194Z"
    }
   },
   "outputs": [],
   "source": [
    "for root, subFolders, files in os.walk(srcpath):\n",
    "    for file in files:\n",
    "        file.o\n",
    "        subFolder = os.path.join(destpath, file)\n",
    "        if not os.path.isdir(subFolder):\n",
    "            os.makedirs(subFolder)\n",
    "        shutil.move(os.path.join(root, file), subFolder)"
   ]
  },
  {
   "cell_type": "code",
   "execution_count": 6,
   "id": "d3188c6d",
   "metadata": {
    "ExecuteTime": {
     "end_time": "2021-04-24T15:15:43.097528Z",
     "start_time": "2021-04-24T15:15:43.083710Z"
    }
   },
   "outputs": [
    {
     "name": "stdout",
     "output_type": "stream",
     "text": [
      "/Users/cris/Repositorios/local_docs/curso_ds21/dog-breed-identification/train\n",
      "[]\n",
      "[]\n"
     ]
    }
   ],
   "source": [
    "for root, subFolders, files in os.walk(srcpath):\n",
    "    print(root)\n",
    "    print(subFolders)\n",
    "    print(files)\n",
    "    break"
   ]
  },
  {
   "cell_type": "code",
   "execution_count": 9,
   "id": "3274c7ca",
   "metadata": {
    "ExecuteTime": {
     "end_time": "2021-04-24T15:21:15.705712Z",
     "start_time": "2021-04-24T15:21:15.682484Z"
    }
   },
   "outputs": [
    {
     "name": "stdout",
     "output_type": "stream",
     "text": [
      "84accc2dc9f5bb3ebee89fe1bf23639c.jpg\n"
     ]
    }
   ],
   "source": [
    "for file in os.listdir(srcpath):\n",
    "    print(file)\n",
    "    break"
   ]
  },
  {
   "cell_type": "code",
   "execution_count": null,
   "id": "73af9cc1",
   "metadata": {},
   "outputs": [],
   "source": []
  },
  {
   "cell_type": "code",
   "execution_count": null,
   "id": "0f36e905",
   "metadata": {},
   "outputs": [],
   "source": []
  },
  {
   "cell_type": "code",
   "execution_count": null,
   "id": "dcb74667",
   "metadata": {},
   "outputs": [],
   "source": []
  },
  {
   "cell_type": "code",
   "execution_count": null,
   "id": "37b7dfae",
   "metadata": {},
   "outputs": [],
   "source": []
  },
  {
   "cell_type": "code",
   "execution_count": null,
   "id": "b84cfb9a",
   "metadata": {},
   "outputs": [],
   "source": []
  },
  {
   "cell_type": "code",
   "execution_count": 238,
   "id": "11ef7052",
   "metadata": {
    "ExecuteTime": {
     "end_time": "2021-04-21T20:41:38.229508Z",
     "start_time": "2021-04-21T20:41:37.879694Z"
    }
   },
   "outputs": [],
   "source": [
    "for i in range(len(target_df['id'])):\n",
    "    target_df['id'][i] = target_df['id'][i] + '.jpg'"
   ]
  },
  {
   "cell_type": "code",
   "execution_count": 239,
   "id": "c89b719a",
   "metadata": {
    "ExecuteTime": {
     "end_time": "2021-04-21T20:41:38.575802Z",
     "start_time": "2021-04-21T20:41:38.572255Z"
    },
    "scrolled": true
   },
   "outputs": [],
   "source": [
    "labels_target = target_df['breed'].unique()"
   ]
  },
  {
   "cell_type": "code",
   "execution_count": 240,
   "id": "7929b636",
   "metadata": {
    "ExecuteTime": {
     "end_time": "2021-04-21T20:41:38.918953Z",
     "start_time": "2021-04-21T20:41:38.916386Z"
    },
    "scrolled": true
   },
   "outputs": [],
   "source": [
    "labels_int = pd.DataFrame({'target':labels_target,\n",
    "                           'target_int':0})"
   ]
  },
  {
   "cell_type": "code",
   "execution_count": 241,
   "id": "0ff6c992",
   "metadata": {
    "ExecuteTime": {
     "end_time": "2021-04-21T20:41:39.284247Z",
     "start_time": "2021-04-21T20:41:39.267445Z"
    }
   },
   "outputs": [
    {
     "name": "stderr",
     "output_type": "stream",
     "text": [
      "<ipython-input-241-0d4d09667d7e>:2: SettingWithCopyWarning: \n",
      "A value is trying to be set on a copy of a slice from a DataFrame\n",
      "\n",
      "See the caveats in the documentation: https://pandas.pydata.org/pandas-docs/stable/user_guide/indexing.html#returning-a-view-versus-a-copy\n",
      "  labels_int['target_int'][i]=i\n"
     ]
    }
   ],
   "source": [
    "for i in range(len(labels_target)):\n",
    "    labels_int['target_int'][i]=i"
   ]
  },
  {
   "cell_type": "code",
   "execution_count": 242,
   "id": "7b1e2ef6",
   "metadata": {
    "ExecuteTime": {
     "end_time": "2021-04-21T20:41:39.687911Z",
     "start_time": "2021-04-21T20:41:39.680516Z"
    }
   },
   "outputs": [],
   "source": [
    "final_target = target_df.copy()"
   ]
  },
  {
   "cell_type": "code",
   "execution_count": 243,
   "id": "9b2be0c4",
   "metadata": {
    "ExecuteTime": {
     "end_time": "2021-04-21T20:41:40.114596Z",
     "start_time": "2021-04-21T20:41:40.105542Z"
    }
   },
   "outputs": [],
   "source": [
    "final_target = final_target.merge(labels_int, left_on='breed', right_on='target')"
   ]
  },
  {
   "cell_type": "code",
   "execution_count": 244,
   "id": "c35aa943",
   "metadata": {
    "ExecuteTime": {
     "end_time": "2021-04-21T20:41:40.510301Z",
     "start_time": "2021-04-21T20:41:40.508528Z"
    }
   },
   "outputs": [],
   "source": [
    "target_int = final_target.copy()"
   ]
  },
  {
   "cell_type": "code",
   "execution_count": 245,
   "id": "36ff3359",
   "metadata": {
    "ExecuteTime": {
     "end_time": "2021-04-21T20:41:40.853197Z",
     "start_time": "2021-04-21T20:41:40.848322Z"
    }
   },
   "outputs": [],
   "source": [
    "target_int.drop(columns='target', inplace=True)"
   ]
  },
  {
   "cell_type": "code",
   "execution_count": 246,
   "id": "c63cab03",
   "metadata": {
    "ExecuteTime": {
     "end_time": "2021-04-21T20:41:41.198456Z",
     "start_time": "2021-04-21T20:41:41.192366Z"
    }
   },
   "outputs": [],
   "source": [
    "target_int = target_int.astype('str')"
   ]
  },
  {
   "cell_type": "code",
   "execution_count": 247,
   "id": "f38464c5",
   "metadata": {
    "ExecuteTime": {
     "end_time": "2021-04-21T20:41:42.591591Z",
     "start_time": "2021-04-21T20:41:41.535038Z"
    }
   },
   "outputs": [],
   "source": [
    "imagenes = []\n",
    "filenames = os.listdir(train_path)[:1000]\n",
    "\n",
    "for img in os.listdir(train_path)[:1000]:\n",
    "    image = train_path + img\n",
    "    img_gray = cv2.imread(image, cv2.IMREAD_GRAYSCALE)\n",
    "    smallimage = cv2.resize(img_gray, (100, 100))\n",
    "    smallimage = smallimage / 255.\n",
    "    imagenes.append(smallimage)\n",
    "\n",
    "#smallimage = smallimage.reshape(100, 100, 1)"
   ]
  },
  {
   "cell_type": "code",
   "execution_count": 248,
   "id": "ce4dd724",
   "metadata": {
    "ExecuteTime": {
     "end_time": "2021-04-21T20:41:42.926296Z",
     "start_time": "2021-04-21T20:41:42.924466Z"
    }
   },
   "outputs": [],
   "source": [
    "filenames = pd.DataFrame({'archivo':filenames})"
   ]
  },
  {
   "cell_type": "code",
   "execution_count": 249,
   "id": "42ca269f",
   "metadata": {
    "ExecuteTime": {
     "end_time": "2021-04-21T20:41:43.265142Z",
     "start_time": "2021-04-21T20:41:43.261373Z"
    }
   },
   "outputs": [],
   "source": [
    "file = filenames.merge(target_int, left_on='archivo', right_on='id')"
   ]
  },
  {
   "cell_type": "code",
   "execution_count": 250,
   "id": "106f6f98",
   "metadata": {
    "ExecuteTime": {
     "end_time": "2021-04-21T20:41:43.605197Z",
     "start_time": "2021-04-21T20:41:43.595984Z"
    },
    "scrolled": true
   },
   "outputs": [],
   "source": [
    "X_train = np.array(imagenes)"
   ]
  },
  {
   "cell_type": "code",
   "execution_count": 251,
   "id": "01863aa9",
   "metadata": {
    "ExecuteTime": {
     "end_time": "2021-04-21T20:41:43.935386Z",
     "start_time": "2021-04-21T20:41:43.934026Z"
    }
   },
   "outputs": [],
   "source": [
    "X_train = X_train.reshape(1000, 100, 100, 1)"
   ]
  },
  {
   "cell_type": "code",
   "execution_count": 252,
   "id": "691fe132",
   "metadata": {
    "ExecuteTime": {
     "end_time": "2021-04-21T20:41:44.272365Z",
     "start_time": "2021-04-21T20:41:44.270368Z"
    }
   },
   "outputs": [
    {
     "data": {
      "text/plain": [
       "(1000, 100, 100, 1)"
      ]
     },
     "execution_count": 252,
     "metadata": {},
     "output_type": "execute_result"
    }
   ],
   "source": [
    "X_train.shape"
   ]
  },
  {
   "cell_type": "code",
   "execution_count": 253,
   "id": "37033b3d",
   "metadata": {
    "ExecuteTime": {
     "end_time": "2021-04-21T20:41:44.719269Z",
     "start_time": "2021-04-21T20:41:44.609397Z"
    },
    "scrolled": true
   },
   "outputs": [
    {
     "data": {
      "text/plain": [
       "<matplotlib.image.AxesImage at 0x16990c640>"
      ]
     },
     "execution_count": 253,
     "metadata": {},
     "output_type": "execute_result"
    },
    {
     "data": {
      "image/png": "[encoded data removed]",
      "text/plain": [
       "<Figure size 432x288 with 1 Axes>"
      ]
     },
     "metadata": {
      "needs_background": "light"
     },
     "output_type": "display_data"
    }
   ],
   "source": [
    "plt.imshow(X_train[999])"
   ]
  },
  {
   "cell_type": "code",
   "execution_count": null,
   "id": "a9a80855",
   "metadata": {},
   "outputs": [],
   "source": []
  },
  {
   "cell_type": "code",
   "execution_count": 254,
   "id": "f9428367",
   "metadata": {
    "ExecuteTime": {
     "end_time": "2021-04-21T20:41:45.333411Z",
     "start_time": "2021-04-21T20:41:45.330103Z"
    }
   },
   "outputs": [],
   "source": [
    "y_train = file['target_int']"
   ]
  },
  {
   "cell_type": "code",
   "execution_count": 255,
   "id": "62079c4d",
   "metadata": {
    "ExecuteTime": {
     "end_time": "2021-04-21T20:41:45.841609Z",
     "start_time": "2021-04-21T20:41:45.839543Z"
    }
   },
   "outputs": [],
   "source": [
    "y_train = np.array(y_train).astype('int')"
   ]
  },
  {
   "cell_type": "code",
   "execution_count": 256,
   "id": "988d0014",
   "metadata": {
    "ExecuteTime": {
     "end_time": "2021-04-21T20:41:46.254783Z",
     "start_time": "2021-04-21T20:41:46.252727Z"
    }
   },
   "outputs": [
    {
     "data": {
      "text/plain": [
       "(1000,)"
      ]
     },
     "execution_count": 256,
     "metadata": {},
     "output_type": "execute_result"
    }
   ],
   "source": [
    "y_train.shape"
   ]
  },
  {
   "cell_type": "code",
   "execution_count": null,
   "id": "304740bc",
   "metadata": {},
   "outputs": [],
   "source": []
  },
  {
   "cell_type": "code",
   "execution_count": null,
   "id": "5753b186",
   "metadata": {
    "ExecuteTime": {
     "end_time": "2021-04-16T00:09:09.610885Z",
     "start_time": "2021-04-16T00:09:09.605466Z"
    }
   },
   "outputs": [],
   "source": [
    "y_prueba = file['target_int'].copy()"
   ]
  },
  {
   "cell_type": "code",
   "execution_count": null,
   "id": "094c0e95",
   "metadata": {
    "ExecuteTime": {
     "end_time": "2021-04-16T00:09:28.755793Z",
     "start_time": "2021-04-16T00:09:28.751296Z"
    }
   },
   "outputs": [],
   "source": [
    "y_prueba = keras.utils.to_categorical(np.asarray(y_prueba.factorize()[0]))"
   ]
  },
  {
   "cell_type": "code",
   "execution_count": null,
   "id": "2ad22e5c",
   "metadata": {
    "ExecuteTime": {
     "end_time": "2021-04-16T00:11:17.151320Z",
     "start_time": "2021-04-16T00:11:17.149302Z"
    },
    "scrolled": false
   },
   "outputs": [],
   "source": [
    "y_prueba[1]"
   ]
  },
  {
   "cell_type": "code",
   "execution_count": null,
   "id": "4f7e8c2d",
   "metadata": {},
   "outputs": [],
   "source": []
  },
  {
   "cell_type": "code",
   "execution_count": null,
   "id": "0d35f598",
   "metadata": {
    "ExecuteTime": {
     "end_time": "2021-04-16T00:15:33.232716Z",
     "start_time": "2021-04-16T00:15:33.221862Z"
    }
   },
   "outputs": [],
   "source": [
    "file2 = filenames.merge(target_df, left_on='archivo', right_on='archivo')"
   ]
  },
  {
   "cell_type": "code",
   "execution_count": null,
   "id": "bd56eb80",
   "metadata": {},
   "outputs": [],
   "source": [
    "y_prueba2 = file['target_int'].copy()"
   ]
  },
  {
   "cell_type": "code",
   "execution_count": null,
   "id": "f80bd568",
   "metadata": {
    "ExecuteTime": {
     "end_time": "2021-04-16T00:17:16.760937Z",
     "start_time": "2021-04-16T00:17:16.752884Z"
    }
   },
   "outputs": [],
   "source": [
    "file2.drop(columns='archivo',inplace=True)"
   ]
  },
  {
   "cell_type": "code",
   "execution_count": null,
   "id": "33ab833b",
   "metadata": {
    "ExecuteTime": {
     "end_time": "2021-04-16T00:17:36.100548Z",
     "start_time": "2021-04-16T00:17:36.097178Z"
    }
   },
   "outputs": [],
   "source": [
    "y_prueba2 = pd.get_dummies(file2)"
   ]
  },
  {
   "cell_type": "code",
   "execution_count": null,
   "id": "ce722319",
   "metadata": {
    "ExecuteTime": {
     "end_time": "2021-04-16T00:17:55.143687Z",
     "start_time": "2021-04-16T00:17:55.141838Z"
    }
   },
   "outputs": [],
   "source": [
    "y_prueba2.shape"
   ]
  },
  {
   "cell_type": "code",
   "execution_count": null,
   "id": "e55ae7ce",
   "metadata": {
    "ExecuteTime": {
     "end_time": "2021-04-16T00:18:44.384769Z",
     "start_time": "2021-04-16T00:18:44.356948Z"
    }
   },
   "outputs": [],
   "source": [
    "y_prueba2"
   ]
  },
  {
   "cell_type": "code",
   "execution_count": null,
   "id": "d10d87fb",
   "metadata": {},
   "outputs": [],
   "source": []
  },
  {
   "cell_type": "code",
   "execution_count": null,
   "id": "87259259",
   "metadata": {},
   "outputs": [],
   "source": []
  },
  {
   "cell_type": "markdown",
   "id": "6fb67738",
   "metadata": {
    "ExecuteTime": {
     "end_time": "2021-04-15T11:54:57.936047Z",
     "start_time": "2021-04-15T11:54:57.933788Z"
    }
   },
   "source": [
    "## 2. Modelo"
   ]
  },
  {
   "cell_type": "markdown",
   "id": "68d58be5",
   "metadata": {},
   "source": [
    "model.add(Conv2D(128, (4, 4), activation='relu'))\n",
    "model.add(BatchNormalization())\n",
    "model.add(MaxPooling2D(pool_size=(2, 2)))\n",
    "model.add(Dropout(0.25))\n",
    "\n",
    "model.add(Conv2D(256, (3, 3), activation='sigmoid'))\n",
    "model.add(BatchNormalization())\n",
    "model.add(MaxPooling2D(pool_size=(2, 2)))\n",
    "model.add(Dropout(0.25))"
   ]
  },
  {
   "cell_type": "code",
   "execution_count": 257,
   "id": "aa002aaf",
   "metadata": {
    "ExecuteTime": {
     "end_time": "2021-04-21T20:41:50.599335Z",
     "start_time": "2021-04-21T20:41:50.417937Z"
    }
   },
   "outputs": [],
   "source": [
    "\n",
    "\n",
    "model = Sequential()\n",
    "\n",
    "model.add(Conv2D(32, (3, 3), activation='relu',\n",
    "          input_shape=X_train.shape[1:], padding='same'))\n",
    "model.add(Dropout(.2))\n",
    "model.add(BatchNormalization())\n",
    "\n",
    "model.add(Conv2D(64, (3, 3), activation='relu', padding='same'))\n",
    "model.add(Dropout(.2))\n",
    "model.add(BatchNormalization())\n",
    "\n",
    "model.add(MaxPooling2D(pool_size=(2, 2)))\n",
    "model.add(Dropout(.2))\n",
    "model.add(BatchNormalization())\n",
    "\n",
    "\n",
    "model.add(Flatten())\n",
    "model.add(Dropout(.2))\n",
    "\n",
    "model.add(Dense(256, kernel_constraint=MaxNorm(3)))\n",
    "model.add(Activation('relu'))\n",
    "model.add(Dropout(0.2))\n",
    "model.add(BatchNormalization())\n",
    "    \n",
    "model.add(Dense(128, kernel_constraint=MaxNorm(3)))\n",
    "model.add(Activation('relu'))\n",
    "model.add(Dropout(0.2))\n",
    "model.add(BatchNormalization())\n",
    "\n",
    "model.add(Dense(120, activation='softmax'))"
   ]
  },
  {
   "cell_type": "code",
   "execution_count": 258,
   "id": "29055f74",
   "metadata": {
    "ExecuteTime": {
     "end_time": "2021-04-21T20:41:50.996500Z",
     "start_time": "2021-04-21T20:41:50.988478Z"
    }
   },
   "outputs": [],
   "source": [
    "model.compile(optimizer=\"adam\",\n",
    "              loss='sparse_categorical_crossentropy',\n",
    "              metrics=['acc'])"
   ]
  },
  {
   "cell_type": "code",
   "execution_count": 259,
   "id": "ab79b079",
   "metadata": {
    "ExecuteTime": {
     "end_time": "2021-04-21T20:41:57.822188Z",
     "start_time": "2021-04-21T20:41:57.816264Z"
    }
   },
   "outputs": [],
   "source": [
    "X_train_ = X_train[:900]\n",
    "y_train_ = y_train[:900]\n",
    "\n",
    "X_test_ = X_train[900:]\n",
    "y_test_ = y_train[900:]"
   ]
  },
  {
   "cell_type": "code",
   "execution_count": 260,
   "id": "c079d497",
   "metadata": {
    "ExecuteTime": {
     "end_time": "2021-04-21T20:48:50.668882Z",
     "start_time": "2021-04-21T20:42:11.751406Z"
    }
   },
   "outputs": [
    {
     "name": "stdout",
     "output_type": "stream",
     "text": [
      "Epoch 1/25\n",
      "15/15 [==============================] - 18s 1s/step - loss: 5.0929 - acc: 0.0108 - val_loss: 4.7901 - val_acc: 0.0100\n",
      "Epoch 2/25\n",
      "15/15 [==============================] - 14s 937ms/step - loss: 5.2467 - acc: 0.0066 - val_loss: 4.8005 - val_acc: 0.0100\n",
      "Epoch 3/25\n",
      "15/15 [==============================] - 14s 942ms/step - loss: 4.9381 - acc: 0.0201 - val_loss: 4.8283 - val_acc: 0.0100\n",
      "Epoch 4/25\n",
      "15/15 [==============================] - 14s 919ms/step - loss: 4.6126 - acc: 0.0400 - val_loss: 4.7981 - val_acc: 0.0200\n",
      "Epoch 5/25\n",
      "15/15 [==============================] - 15s 944ms/step - loss: 4.4660 - acc: 0.0452 - val_loss: 4.8064 - val_acc: 0.0000e+00\n",
      "Epoch 6/25\n",
      "15/15 [==============================] - 15s 959ms/step - loss: 4.2749 - acc: 0.0839 - val_loss: 4.8105 - val_acc: 0.0000e+00\n",
      "Epoch 7/25\n",
      "15/15 [==============================] - 15s 936ms/step - loss: 4.1594 - acc: 0.0902 - val_loss: 4.8120 - val_acc: 0.0100\n",
      "Epoch 8/25\n",
      "15/15 [==============================] - 14s 935ms/step - loss: 3.9800 - acc: 0.1229 - val_loss: 4.8297 - val_acc: 0.0000e+00\n",
      "Epoch 9/25\n",
      "15/15 [==============================] - 14s 921ms/step - loss: 3.8610 - acc: 0.1663 - val_loss: 4.8338 - val_acc: 0.0000e+00\n",
      "Epoch 10/25\n",
      "15/15 [==============================] - 15s 991ms/step - loss: 3.6996 - acc: 0.1833 - val_loss: 4.8311 - val_acc: 0.0000e+00\n",
      "Epoch 11/25\n",
      "15/15 [==============================] - 15s 935ms/step - loss: 3.5868 - acc: 0.2276 - val_loss: 4.8301 - val_acc: 0.0100\n",
      "Epoch 12/25\n",
      "15/15 [==============================] - 14s 945ms/step - loss: 3.5038 - acc: 0.2324 - val_loss: 4.8435 - val_acc: 0.0000e+00\n",
      "Epoch 13/25\n",
      "15/15 [==============================] - 14s 933ms/step - loss: 3.4443 - acc: 0.2675 - val_loss: 4.8413 - val_acc: 0.0000e+00\n",
      "Epoch 14/25\n",
      "15/15 [==============================] - 14s 932ms/step - loss: 3.3317 - acc: 0.2719 - val_loss: 4.8506 - val_acc: 0.0000e+00\n",
      "Epoch 15/25\n",
      "15/15 [==============================] - 15s 950ms/step - loss: 3.3082 - acc: 0.2881 - val_loss: 4.8488 - val_acc: 0.0100\n",
      "Epoch 16/25\n",
      "15/15 [==============================] - 14s 922ms/step - loss: 3.2893 - acc: 0.2962 - val_loss: 4.8433 - val_acc: 0.0200\n",
      "Epoch 17/25\n",
      "15/15 [==============================] - 15s 958ms/step - loss: 3.1999 - acc: 0.3273 - val_loss: 4.8513 - val_acc: 0.0200\n",
      "Epoch 18/25\n",
      "15/15 [==============================] - 23s 2s/step - loss: 3.1927 - acc: 0.3149 - val_loss: 4.8469 - val_acc: 0.0200\n",
      "Epoch 19/25\n",
      "15/15 [==============================] - 17s 1s/step - loss: 3.0581 - acc: 0.3246 - val_loss: 4.8675 - val_acc: 0.0000e+00\n",
      "Epoch 20/25\n",
      "15/15 [==============================] - 16s 992ms/step - loss: 2.9094 - acc: 0.3633 - val_loss: 4.8752 - val_acc: 0.0000e+00\n",
      "Epoch 21/25\n",
      "15/15 [==============================] - 15s 967ms/step - loss: 2.9402 - acc: 0.3645 - val_loss: 4.9045 - val_acc: 0.0000e+00\n",
      "Epoch 22/25\n",
      "15/15 [==============================] - 20s 1s/step - loss: 2.9432 - acc: 0.3780 - val_loss: 4.8915 - val_acc: 0.0000e+00\n",
      "Epoch 23/25\n",
      "15/15 [==============================] - 22s 1s/step - loss: 3.1325 - acc: 0.3063 - val_loss: 4.8720 - val_acc: 0.0000e+00\n",
      "Epoch 24/25\n",
      "15/15 [==============================] - 18s 1s/step - loss: 3.0696 - acc: 0.3107 - val_loss: 4.8899 - val_acc: 0.0000e+00\n",
      "Epoch 25/25\n",
      "15/15 [==============================] - 21s 1s/step - loss: 3.1833 - acc: 0.2766 - val_loss: 4.9100 - val_acc: 0.0000e+00\n"
     ]
    },
    {
     "data": {
      "text/plain": [
       "<tensorflow.python.keras.callbacks.History at 0x1675c3f10>"
      ]
     },
     "execution_count": 260,
     "metadata": {},
     "output_type": "execute_result"
    }
   ],
   "source": [
    "model.fit(X_train_, y_train_, validation_data=(\n",
    "    X_test_, y_test_), epochs=25, batch_size=64)"
   ]
  },
  {
   "cell_type": "code",
   "execution_count": 208,
   "id": "fef5dc84",
   "metadata": {
    "ExecuteTime": {
     "end_time": "2021-04-21T20:22:06.069501Z",
     "start_time": "2021-04-21T20:15:16.980307Z"
    },
    "collapsed": true
   },
   "outputs": [
    {
     "name": "stdout",
     "output_type": "stream",
     "text": [
      "Epoch 1/25\n",
      "8/8 [==============================] - 17s 2s/step - loss: 5.2604 - acc: 0.0113 - val_loss: 4.7889 - val_acc: 0.0060\n",
      "Epoch 2/25\n",
      "8/8 [==============================] - 13s 2s/step - loss: 5.2160 - acc: 0.0057 - val_loss: 4.7821 - val_acc: 0.0140\n",
      "Epoch 3/25\n",
      "8/8 [==============================] - 13s 2s/step - loss: 4.9209 - acc: 0.0299 - val_loss: 4.7850 - val_acc: 0.0040\n",
      "Epoch 4/25\n",
      "8/8 [==============================] - 15s 2s/step - loss: 4.5502 - acc: 0.0465 - val_loss: 4.8011 - val_acc: 0.0100\n",
      "Epoch 5/25\n",
      "8/8 [==============================] - 13s 2s/step - loss: 4.1216 - acc: 0.0742 - val_loss: 4.8167 - val_acc: 0.0040\n",
      "Epoch 6/25\n",
      "8/8 [==============================] - 13s 2s/step - loss: 4.9537 - acc: 0.0070 - val_loss: 4.8206 - val_acc: 0.0080\n",
      "Epoch 7/25\n",
      "8/8 [==============================] - 14s 2s/step - loss: 4.3177 - acc: 0.0881 - val_loss: 4.8219 - val_acc: 0.0040\n",
      "Epoch 8/25\n",
      "8/8 [==============================] - 16s 2s/step - loss: 4.0117 - acc: 0.1156 - val_loss: 4.8265 - val_acc: 0.0060\n",
      "Epoch 9/25\n",
      "8/8 [==============================] - 13s 2s/step - loss: 3.9702 - acc: 0.1322 - val_loss: 4.8387 - val_acc: 0.0060\n",
      "Epoch 10/25\n",
      "8/8 [==============================] - 14s 2s/step - loss: 3.9369 - acc: 0.1339 - val_loss: 4.8432 - val_acc: 0.0060\n",
      "Epoch 11/25\n",
      "8/8 [==============================] - 12s 2s/step - loss: 3.5798 - acc: 0.2320 - val_loss: 4.8375 - val_acc: 0.0040\n",
      "Epoch 12/25\n",
      "8/8 [==============================] - 13s 2s/step - loss: 3.4660 - acc: 0.2764 - val_loss: 4.8528 - val_acc: 0.0060\n",
      "Epoch 13/25\n",
      "8/8 [==============================] - 13s 2s/step - loss: 3.2231 - acc: 0.3519 - val_loss: 4.8613 - val_acc: 0.0060\n",
      "Epoch 14/25\n",
      "8/8 [==============================] - 24s 3s/step - loss: 2.9231 - acc: 0.3992 - val_loss: 4.8696 - val_acc: 0.0060\n",
      "Epoch 15/25\n",
      "8/8 [==============================] - 18s 2s/step - loss: 2.5855 - acc: 0.5534 - val_loss: 4.8821 - val_acc: 0.0060\n",
      "Epoch 16/25\n",
      "8/8 [==============================] - 17s 2s/step - loss: 2.4568 - acc: 0.5720 - val_loss: 4.8938 - val_acc: 0.0060\n",
      "Epoch 17/25\n",
      "8/8 [==============================] - 17s 2s/step - loss: 3.0298 - acc: 0.3696 - val_loss: 4.8990 - val_acc: 0.0080\n",
      "Epoch 18/25\n",
      "8/8 [==============================] - 16s 2s/step - loss: 3.1985 - acc: 0.3097 - val_loss: 4.9131 - val_acc: 0.0060\n",
      "Epoch 19/25\n",
      "8/8 [==============================] - 14s 2s/step - loss: 2.9738 - acc: 0.3390 - val_loss: 4.9209 - val_acc: 0.0060\n",
      "Epoch 20/25\n",
      "8/8 [==============================] - 18s 2s/step - loss: 2.6102 - acc: 0.4937 - val_loss: 4.9188 - val_acc: 0.0040\n",
      "Epoch 21/25\n",
      "8/8 [==============================] - 25s 3s/step - loss: 2.4618 - acc: 0.5453 - val_loss: 4.9361 - val_acc: 0.0060\n",
      "Epoch 22/25\n",
      "8/8 [==============================] - 14s 2s/step - loss: 2.1695 - acc: 0.6435 - val_loss: 4.9549 - val_acc: 0.0060\n",
      "Epoch 23/25\n",
      "8/8 [==============================] - 20s 3s/step - loss: 1.9839 - acc: 0.6916 - val_loss: 4.9628 - val_acc: 0.0060\n",
      "Epoch 24/25\n",
      "8/8 [==============================] - 31s 4s/step - loss: 1.8249 - acc: 0.7231 - val_loss: 4.9782 - val_acc: 0.0060\n",
      "Epoch 25/25\n",
      "8/8 [==============================] - 17s 2s/step - loss: 1.5917 - acc: 0.7710 - val_loss: 4.9885 - val_acc: 0.0060\n"
     ]
    },
    {
     "data": {
      "text/plain": [
       "<tensorflow.python.keras.callbacks.History at 0x16b6f8b50>"
      ]
     },
     "execution_count": 208,
     "metadata": {},
     "output_type": "execute_result"
    }
   ],
   "source": [
    "model.fit(X_train, y_train, epochs=25,\n",
    "          batch_size=64, validation_split=.5)"
   ]
  },
  {
   "cell_type": "code",
   "execution_count": 261,
   "id": "0dfe6382",
   "metadata": {
    "ExecuteTime": {
     "end_time": "2021-04-21T20:48:55.169234Z",
     "start_time": "2021-04-21T20:48:54.440939Z"
    }
   },
   "outputs": [
    {
     "name": "stdout",
     "output_type": "stream",
     "text": [
      "Accuracy: 0.00%\n"
     ]
    }
   ],
   "source": [
    "# Model evaluation\n",
    "scores = model.evaluate(X_test_, y_test_, verbose=0)\n",
    "print(\"Accuracy: %.2f%%\" % (scores[1]*100))"
   ]
  },
  {
   "cell_type": "code",
   "execution_count": 262,
   "id": "a6bbc0e4",
   "metadata": {
    "ExecuteTime": {
     "end_time": "2021-04-21T20:49:09.492539Z",
     "start_time": "2021-04-21T20:49:09.488034Z"
    }
   },
   "outputs": [
    {
     "data": {
      "text/plain": [
       "[4.909978866577148, 0.0]"
      ]
     },
     "execution_count": 262,
     "metadata": {},
     "output_type": "execute_result"
    }
   ],
   "source": [
    "scores"
   ]
  },
  {
   "cell_type": "code",
   "execution_count": 232,
   "id": "47958722",
   "metadata": {
    "ExecuteTime": {
     "end_time": "2021-04-21T20:38:36.895059Z",
     "start_time": "2021-04-21T20:38:36.889868Z"
    }
   },
   "outputs": [
    {
     "data": {
      "text/plain": [
       "[]"
      ]
     },
     "execution_count": 232,
     "metadata": {},
     "output_type": "execute_result"
    }
   ],
   "source": [
    "scores"
   ]
  },
  {
   "cell_type": "code",
   "execution_count": null,
   "id": "248f42e1",
   "metadata": {},
   "outputs": [],
   "source": [
    "print(\"Accuracy: %.2f%%\" % (scores[1]*100))"
   ]
  },
  {
   "cell_type": "markdown",
   "id": "2f3e4647",
   "metadata": {
    "ExecuteTime": {
     "end_time": "2021-04-15T22:24:56.295503Z",
     "start_time": "2021-04-15T22:24:56.293178Z"
    }
   },
   "source": [
    "## 2.2 Otro modelo"
   ]
  },
  {
   "cell_type": "code",
   "execution_count": null,
   "id": "65fb0ee8",
   "metadata": {},
   "outputs": [],
   "source": []
  },
  {
   "cell_type": "code",
   "execution_count": null,
   "id": "487d74b8",
   "metadata": {},
   "outputs": [],
   "source": []
  },
  {
   "cell_type": "code",
   "execution_count": null,
   "id": "d7b949d8",
   "metadata": {},
   "outputs": [],
   "source": []
  },
  {
   "cell_type": "markdown",
   "id": "0cc209df",
   "metadata": {},
   "source": [
    "## 3. Predicción y test"
   ]
  },
  {
   "cell_type": "code",
   "execution_count": 63,
   "id": "bd5df945",
   "metadata": {
    "ExecuteTime": {
     "end_time": "2021-04-16T11:48:18.458771Z",
     "start_time": "2021-04-16T11:48:17.996504Z"
    }
   },
   "outputs": [],
   "source": [
    "imagenes_test = []\n",
    "filenames_test = os.listdir(test_path)\n",
    "\n",
    "for img in os.listdir(test_path):\n",
    "    image = test_path + img\n",
    "    img_gray = cv2.imread(image, cv2.IMREAD_GRAYSCALE)\n",
    "    smallimage = cv2.resize(img_gray, (100, 100))\n",
    "    smallimage = smallimage / 255.\n",
    "    smallimage = smallimage.reshape(100, 100, 1)\n",
    "    imagenes_test.append(smallimage)"
   ]
  },
  {
   "cell_type": "code",
   "execution_count": 64,
   "id": "d43e95b5",
   "metadata": {
    "ExecuteTime": {
     "end_time": "2021-04-16T11:48:29.895812Z",
     "start_time": "2021-04-16T11:48:29.870373Z"
    },
    "scrolled": true
   },
   "outputs": [],
   "source": [
    "X_test = np.array(imagenes_test)"
   ]
  },
  {
   "cell_type": "code",
   "execution_count": 65,
   "id": "c6c6aba1",
   "metadata": {
    "ExecuteTime": {
     "end_time": "2021-04-16T11:48:41.416738Z",
     "start_time": "2021-04-16T11:48:41.414528Z"
    }
   },
   "outputs": [
    {
     "data": {
      "text/plain": [
       "(1150, 100, 100, 1)"
      ]
     },
     "execution_count": 65,
     "metadata": {},
     "output_type": "execute_result"
    }
   ],
   "source": [
    "X_test.shape"
   ]
  },
  {
   "cell_type": "code",
   "execution_count": 66,
   "id": "1dd17d2f",
   "metadata": {
    "ExecuteTime": {
     "end_time": "2021-04-16T11:48:53.908589Z",
     "start_time": "2021-04-16T11:48:52.796066Z"
    }
   },
   "outputs": [],
   "source": [
    "predictions = model.predict(X_test)"
   ]
  },
  {
   "cell_type": "code",
   "execution_count": 67,
   "id": "271fb07f",
   "metadata": {
    "ExecuteTime": {
     "end_time": "2021-04-16T11:49:05.362395Z",
     "start_time": "2021-04-16T11:49:05.360679Z"
    }
   },
   "outputs": [
    {
     "data": {
      "text/plain": [
       "(1150, 29)"
      ]
     },
     "execution_count": 67,
     "metadata": {},
     "output_type": "execute_result"
    }
   ],
   "source": [
    "predictions.shape"
   ]
  },
  {
   "cell_type": "markdown",
   "id": "5b0b19a8",
   "metadata": {},
   "source": [
    "## 4. Exportación sample"
   ]
  },
  {
   "cell_type": "code",
   "execution_count": 68,
   "id": "08c5b6c4",
   "metadata": {
    "ExecuteTime": {
     "end_time": "2021-04-16T11:49:16.754309Z",
     "start_time": "2021-04-16T11:49:16.751285Z"
    }
   },
   "outputs": [],
   "source": [
    "max_val = []\n",
    "\n",
    "for i in range(len(predictions)):\n",
    "    val = np.argmax(predictions[i])\n",
    "    max_val.append(val)"
   ]
  },
  {
   "cell_type": "code",
   "execution_count": 69,
   "id": "1db52aad",
   "metadata": {
    "ExecuteTime": {
     "end_time": "2021-04-16T11:49:28.088652Z",
     "start_time": "2021-04-16T11:49:28.078110Z"
    }
   },
   "outputs": [],
   "source": [
    "true_values = []\n",
    "\n",
    "for i in max_val:\n",
    "    for v in labels_int['target_int']:\n",
    "        if i == v:\n",
    "            true_values.append(labels_int['target'][v])"
   ]
  },
  {
   "cell_type": "code",
   "execution_count": 70,
   "id": "4bcac1d6",
   "metadata": {
    "ExecuteTime": {
     "end_time": "2021-04-16T11:49:39.388771Z",
     "start_time": "2021-04-16T11:49:39.387090Z"
    }
   },
   "outputs": [],
   "source": [
    "df_submission = pd.DataFrame({'archivo': filenames_test,\n",
    "                            'target':true_values})"
   ]
  },
  {
   "cell_type": "code",
   "execution_count": 71,
   "id": "b7481949",
   "metadata": {
    "ExecuteTime": {
     "end_time": "2021-04-16T11:49:50.681636Z",
     "start_time": "2021-04-16T11:49:50.677274Z"
    }
   },
   "outputs": [],
   "source": [
    "df_submission.to_csv('submission_9.csv', index=False)"
   ]
  },
  {
   "cell_type": "code",
   "execution_count": null,
   "id": "5a7c7dc1",
   "metadata": {},
   "outputs": [],
   "source": []
  },
  {
   "cell_type": "code",
   "execution_count": null,
   "id": "1fd63e9d",
   "metadata": {},
   "outputs": [],
   "source": []
  }
 ],
 "metadata": {
  "kernelspec": {
   "display_name": "Python 3",
   "language": "python",
   "name": "python3"
  },
  "language_info": {
   "codemirror_mode": {
    "name": "ipython",
    "version": 3
   },
   "file_extension": ".py",
   "mimetype": "text/x-python",
   "name": "python",
   "nbconvert_exporter": "python",
   "pygments_lexer": "ipython3",
   "version": "3.8.8"
  },
  "toc": {
   "base_numbering": 1,
   "nav_menu": {},
   "number_sections": false,
   "sideBar": true,
   "skip_h1_title": false,
   "title_cell": "Table of Contents",
   "title_sidebar": "Contents",
   "toc_cell": false,
   "toc_position": {},
   "toc_section_display": true,
   "toc_window_display": false
  },
  "varInspector": {
   "cols": {
    "lenName": 16,
    "lenType": 16,
    "lenVar": 40
   },
   "kernels_config": {
    "python": {
     "delete_cmd_postfix": "",
     "delete_cmd_prefix": "del ",
     "library": "var_list.py",
     "varRefreshCmd": "print(var_dic_list())"
    },
    "r": {
     "delete_cmd_postfix": ") ",
     "delete_cmd_prefix": "rm(",
     "library": "var_list.r",
     "varRefreshCmd": "cat(var_dic_list()) "
    }
   },
   "types_to_exclude": [
    "module",
    "function",
    "builtin_function_or_method",
    "instance",
    "_Feature"
   ],
   "window_display": false
  }
 },
 "nbformat": 4,
 "nbformat_minor": 5
}
