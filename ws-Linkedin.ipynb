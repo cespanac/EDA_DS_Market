{
 "cells": [
  {
   "cell_type": "markdown",
   "metadata": {},
   "source": [
    "# Web scraping Linkedin\n",
    "## DS Market research"
   ]
  },
  {
   "cell_type": "markdown",
   "metadata": {},
   "source": [
    "### Importar Pandas y activar el Chrome Driver"
   ]
  },
  {
   "cell_type": "code",
   "execution_count": 129,
   "metadata": {
    "ExecuteTime": {
     "end_time": "2021-02-26T12:16:59.303652Z",
     "start_time": "2021-02-26T12:16:59.300657Z"
    }
   },
   "outputs": [],
   "source": [
    "import pandas as pd\n",
    "\n",
    "from selenium import webdriver\n",
    "\n",
    "from selenium.webdriver.common.keys import Keys\n",
    "\n",
    "from selenium.webdriver.common.action_chains import ActionChains\n",
    "\n",
    "import time"
   ]
  },
  {
   "cell_type": "code",
   "execution_count": 94,
   "metadata": {
    "ExecuteTime": {
     "end_time": "2021-02-26T10:22:46.333679Z",
     "start_time": "2021-02-26T10:22:45.178780Z"
    }
   },
   "outputs": [],
   "source": [
    "chrome_driver = '/Users/cris/Documents/Repositorios/local_docs/chromedriver'\n",
    "\n",
    "options = webdriver.ChromeOptions() # Añadimos un dic con todas las opciones de configuración de Chrome.\n",
    "\n",
    "# options.add_argument('headless')\n",
    "\n",
    "# Headless hace que el web scrapping vaya viendo lo que hace o no.\n",
    "\n",
    "# Podemos configurar diversas opciones en líneas sucesivas.\n",
    "\n",
    "driver = webdriver.Chrome(executable_path = chrome_driver, options = options)"
   ]
  },
  {
   "cell_type": "markdown",
   "metadata": {},
   "source": [
    "### AYUDAS"
   ]
  },
  {
   "cell_type": "markdown",
   "metadata": {},
   "source": [
    "#### Diferentes modos de encontrar botones:\n",
    "\n",
    "```\n",
    "#element_by_tag = driver.find_elements_by_tag_name('button')\n",
    "\n",
    "#element_by_class_name = driver.find_elements_by_class_name('global-nav__primary-items')\n",
    "\n",
    "#element_by_xpath = driver.find_elements_by_xpath('/html/body/div[8]/header/div[2]/div/div/div[1]/div[1]/input')\n",
    "```"
   ]
  },
  {
   "cell_type": "markdown",
   "metadata": {},
   "source": [
    "#### Para iterar:\n",
    "\n",
    "- Aplicamos variable:\n",
    "```\n",
    "element_by_tag = driver.find_elements_by_tag_name('a')\n",
    "````\n",
    "\n",
    "\n",
    "- Podemos iterar para ver texto:\n",
    "````\n",
    "for i in element_by_tag:\n",
    "    print('tag_name: ', i.text)\n",
    "````\n",
    "\n",
    "\n",
    "- Podemos iterar con enumerate:\n",
    "```\n",
    "for index, element in enumerate(element_by_tag):\n",
    "    print('Elemento: ', index)\n",
    "    print('Este elemento tiene este texto: ', element.tag_name)\n",
    "    print('Este elemento tiene este tag: ', element.text)\n",
    "```"
   ]
  },
  {
   "cell_type": "markdown",
   "metadata": {},
   "source": [
    "#### Comandos para navegar\n",
    "\n",
    "```\n",
    "driver.back()   # Volver atrás.\n",
    "driver.execute_script('window.open('');')   # Abrir nueva ventana.\n",
    "driver.close()   # Cerrar ventana.\n",
    "driver.switch_to.window(driver.window_handles[-1])   # Cambiar ventana.\n",
    "```"
   ]
  },
  {
   "cell_type": "markdown",
   "metadata": {},
   "source": [
    "### PROCESO"
   ]
  },
  {
   "cell_type": "markdown",
   "metadata": {},
   "source": [
    "#### Iniciar login"
   ]
  },
  {
   "cell_type": "code",
   "execution_count": 3,
   "metadata": {},
   "outputs": [],
   "source": [
    "def login(username, password):\n",
    "    driver.get('https://www.linkedin.com/uas/login')\n",
    "\n",
    "    username_input = driver.find_element_by_id('username')\n",
    "    username_input.send_keys(username)\n",
    "\n",
    "    password_input = driver.find_element_by_id('password')\n",
    "    password_input.send_keys(password)\n",
    "    password_input.submit()"
   ]
  },
  {
   "cell_type": "code",
   "execution_count": 95,
   "metadata": {},
   "outputs": [],
   "source": [
    "username = 'c.espanaces@gmail.com'\n",
    "password = 'aay}1\\jsL<}L9qy;w}br'\n",
    "\n",
    "login(username, password)"
   ]
  },
  {
   "cell_type": "markdown",
   "metadata": {},
   "source": [
    "#### Iniciar búsqueda"
   ]
  },
  {
   "cell_type": "code",
   "execution_count": 96,
   "metadata": {},
   "outputs": [],
   "source": [
    "search_job = driver.find_elements_by_tag_name('input')"
   ]
  },
  {
   "cell_type": "code",
   "execution_count": 97,
   "metadata": {},
   "outputs": [],
   "source": [
    "search_job[1].send_keys('Data analyst')"
   ]
  },
  {
   "cell_type": "code",
   "execution_count": 98,
   "metadata": {},
   "outputs": [],
   "source": [
    "search_job[1].send_keys(Keys.ENTER)"
   ]
  },
  {
   "cell_type": "markdown",
   "metadata": {},
   "source": [
    "#### Pinchar en empleo:"
   ]
  },
  {
   "cell_type": "code",
   "execution_count": 186,
   "metadata": {},
   "outputs": [],
   "source": [
    "b_jobs = driver.find_elements_by_tag_name('button')"
   ]
  },
  {
   "cell_type": "code",
   "execution_count": 187,
   "metadata": {},
   "outputs": [],
   "source": [
    "b_jobs[8].click()"
   ]
  },
  {
   "cell_type": "markdown",
   "metadata": {},
   "source": [
    "#### Recoger info puesto trabajo:"
   ]
  },
  {
   "cell_type": "code",
   "execution_count": 185,
   "metadata": {},
   "outputs": [],
   "source": [
    "driver.back()"
   ]
  },
  {
   "cell_type": "code",
   "execution_count": 192,
   "metadata": {},
   "outputs": [],
   "source": [
    "content = driver.find_elements_by_tag_name('div.flex-grow-1.artdeco-entity-lockup__content.ember-view')"
   ]
  },
  {
   "cell_type": "code",
   "execution_count": 171,
   "metadata": {},
   "outputs": [
    {
     "data": {
      "text/plain": [
       "10"
      ]
     },
     "execution_count": 171,
     "metadata": {},
     "output_type": "execute_result"
    }
   ],
   "source": [
    "len(content)"
   ]
  },
  {
   "cell_type": "code",
   "execution_count": 134,
   "metadata": {},
   "outputs": [
    {
     "ename": "AttributeError",
     "evalue": "'int' object has no attribute 'location_once_scrolled_into_view'",
     "output_type": "error",
     "traceback": [
      "\u001b[0;31m---------------------------------------------------------------------------\u001b[0m",
      "\u001b[0;31mAttributeError\u001b[0m                            Traceback (most recent call last)",
      "\u001b[0;32m<ipython-input-134-180c966dcd1f>\u001b[0m in \u001b[0;36m<module>\u001b[0;34m\u001b[0m\n\u001b[1;32m      1\u001b[0m \u001b[0mtarget\u001b[0m \u001b[0;34m=\u001b[0m \u001b[0;36m3000\u001b[0m\u001b[0;34m\u001b[0m\u001b[0;34m\u001b[0m\u001b[0m\n\u001b[0;32m----> 2\u001b[0;31m \u001b[0mtarget\u001b[0m\u001b[0;34m.\u001b[0m\u001b[0mlocation_once_scrolled_into_view\u001b[0m\u001b[0;34m\u001b[0m\u001b[0;34m\u001b[0m\u001b[0m\n\u001b[0m",
      "\u001b[0;31mAttributeError\u001b[0m: 'int' object has no attribute 'location_once_scrolled_into_view'"
     ]
    }
   ],
   "source": [
    "target = 3000\n",
    "target.location_once_scrolled_into_view"
   ]
  },
  {
   "cell_type": "code",
   "execution_count": 189,
   "metadata": {},
   "outputs": [],
   "source": [
    "driver.execute_script(\"window.scrollTo(0, document.body.scrollHeight);\")"
   ]
  },
  {
   "cell_type": "code",
   "execution_count": 210,
   "metadata": {},
   "outputs": [],
   "source": [
    "driver.execute_script(\"window.scrollTo(0, 300)\") "
   ]
  },
  {
   "cell_type": "code",
   "execution_count": 205,
   "metadata": {},
   "outputs": [],
   "source": [
    "lista_content = []\n",
    "height = driver.execute_script(\"return document.documentElement.scrollHeight\")\n",
    "height = height/25\n",
    "\n",
    "for i in content:\n",
    "    driver.execute_script(\"window.scrollTo(0, \" + str(height) + \");\")\n",
    "    lista_content.append(i.find_element_by_tag_name('a').get_attribute('href'))\n",
    "    int(height)\n",
    "    height += height"
   ]
  },
  {
   "cell_type": "code",
   "execution_count": 204,
   "metadata": {},
   "outputs": [
    {
     "data": {
      "text/plain": [
       "7"
      ]
     },
     "execution_count": 204,
     "metadata": {},
     "output_type": "execute_result"
    }
   ],
   "source": [
    "len(lista_content)"
   ]
  },
  {
   "cell_type": "code",
   "execution_count": 197,
   "metadata": {},
   "outputs": [],
   "source": [
    "driver.execute_script(\"window.scrollTo(0, document.body.scrollHeight);\")"
   ]
  },
  {
   "cell_type": "markdown",
   "metadata": {},
   "source": [
    "#### Cambiar de página"
   ]
  },
  {
   "cell_type": "code",
   "execution_count": 125,
   "metadata": {},
   "outputs": [],
   "source": [
    "number = driver.find_elements_by_tag_name('li.artdeco-pagination__indicator.artdeco-pagination__indicator--number.ember-view')"
   ]
  },
  {
   "cell_type": "code",
   "execution_count": 126,
   "metadata": {},
   "outputs": [
    {
     "name": "stdout",
     "output_type": "stream",
     "text": [
      "1\n",
      "2\n",
      "3\n",
      "4\n",
      "5\n",
      "6\n",
      "7\n",
      "8\n",
      "…\n",
      "33\n"
     ]
    }
   ],
   "source": [
    "for j in number:\n",
    "    print(j.text)"
   ]
  },
  {
   "cell_type": "markdown",
   "metadata": {},
   "source": [
    "#### Buscar información dentro de cada página"
   ]
  },
  {
   "cell_type": "code",
   "execution_count": null,
   "metadata": {},
   "outputs": [],
   "source": [
    "content[1].click()"
   ]
  },
  {
   "cell_type": "code",
   "execution_count": null,
   "metadata": {},
   "outputs": [],
   "source": [
    "title = driver.find_elements_by_tag_name('div.p5')"
   ]
  },
  {
   "cell_type": "code",
   "execution_count": null,
   "metadata": {},
   "outputs": [],
   "source": [
    "print(title[0].find_element_by_tag_name('a.ember-view.t-black.t-normal').text)\n",
    "print(title[0].find_element_by_tag_name('a').get_attribute('href'))   # Enlace empresa.\n",
    "print(title[0].find_element_by_tag_name('h1').text)   # Puesto de trabajo.\n",
    "print(title[0].find_element_by_tag_name('span.jobs-unified-top-card__bullet').text)   # Ubicación empresa.\n",
    "print(title[0].find_element_by_tag_name('span.jobs-unified-top-card__posted-date').text)   # Días activos.\n",
    "print(title[0].find_element_by_tag_name('span.jobs-unified-top-card__applicant-count').text)   # Solicitudes."
   ]
  },
  {
   "cell_type": "code",
   "execution_count": null,
   "metadata": {},
   "outputs": [],
   "source": [
    "info = driver.find_elements_by_tag_name('div.jobs-description__content.jobs-description-content.jobs-description__content--condensed')"
   ]
  },
  {
   "cell_type": "code",
   "execution_count": null,
   "metadata": {},
   "outputs": [],
   "source": [
    "print(info[0].find_element_by_tag_name('p.t-14.mb3').text)   # Nivel experiencia.\n",
    "print(info[0].find_element_by_tag_name('ul.jobs-box__list.jobs-description-details__list').text)   # Tipo sector.\n",
    "print(info[0].find_element_by_xpath('/html/body/div[8]/div[3]/div/div[1]/div[1]/div/div[2]/article/div/div[2]/div/div[3]/p').text)   # Tipo jornada.\n",
    "print(info[0].find_element_by_xpath('/html/body/div[8]/div[3]/div/div[1]/div[1]/div/div[2]/article/div/div[2]/div/div[4]/ul').text)   # Funciones laborales."
   ]
  },
  {
   "cell_type": "code",
   "execution_count": null,
   "metadata": {},
   "outputs": [],
   "source": [
    "job_details = driver.find_element_by_id('job-details')"
   ]
  },
  {
   "cell_type": "code",
   "execution_count": null,
   "metadata": {},
   "outputs": [],
   "source": [
    "job_details.text"
   ]
  },
  {
   "cell_type": "code",
   "execution_count": null,
   "metadata": {},
   "outputs": [],
   "source": []
  },
  {
   "cell_type": "markdown",
   "metadata": {},
   "source": [
    "#### Crear tabla con información de una empresa"
   ]
  },
  {
   "cell_type": "code",
   "execution_count": null,
   "metadata": {},
   "outputs": [],
   "source": [
    "# Creo lista con todos la información recopilada de la empresa, por orden.\n",
    "\n",
    "info_df = []\n",
    "\n",
    "title = driver.find_elements_by_tag_name('div.p5')\n",
    "\n",
    "info_df.append(title[0].find_element_by_tag_name('a.ember-view.t-black.t-normal').text) # Nombre empresa.\n",
    "info_df.append(title[0].find_element_by_tag_name('h1').text)   # Puesto ofertado.\n",
    "info_df.append(title[0].find_element_by_tag_name('span.jobs-unified-top-card__bullet').text)   # Ubicación empresa.\n",
    "info_df.append(title[0].find_element_by_tag_name('span.jobs-unified-top-card__posted-date').text)   # Días activos.\n",
    "info_df.append(title[0].find_element_by_tag_name('span.jobs-unified-top-card__applicant-count').text)   # Solicitudes.\n",
    "# try (jobs-unified-top-card__bullet)\n",
    "info_df.append(title[0].find_element_by_tag_name('a').get_attribute('href'))   # Enlace empresa.\n",
    "\n",
    "info = driver.find_elements_by_tag_name('div.jobs-description__details')\n",
    "\n",
    "info_df.append(info[0].find_element_by_tag_name('p.t-14.mb3').text)   # Nivel experiencia.\n",
    "info_df.append(info[0].find_element_by_tag_name('ul.jobs-box__list.jobs-description-details__list').text)   # Tipo sector.\n",
    "info_df.append(info[0].find_element_by_xpath('/html/body/div[8]/div[3]/div/div[1]/div[1]/div/div[2]/article/div/div[2]/div/div[3]/p').text)   # Tipo jornada.\n",
    "info_df.append(info[0].find_element_by_xpath('/html/body/div[8]/div[3]/div/div[1]/div[1]/div/div[2]/article/div/div[2]/div/div[4]/ul').text)   # Funciones laborales.\n",
    "\n",
    "#job_details = driver.find_element_by_id('job-details')\n",
    "#job_details.text   #'Job Description'"
   ]
  },
  {
   "cell_type": "code",
   "execution_count": null,
   "metadata": {},
   "outputs": [],
   "source": [
    "# Creo los títulos de las columnas del df.\n",
    "\n",
    "titulos_col = ['Nombre empresa', 'Puesto ofertado', 'Ubicación', 'Días activos', 'Nº Solicitudes', 'Web empresa', 'Nivel experiencia', 'Sector']"
   ]
  },
  {
   "cell_type": "code",
   "execution_count": null,
   "metadata": {},
   "outputs": [],
   "source": [
    "df_prueba = pd.DataFrame([info_df], columns = titulos_col)"
   ]
  },
  {
   "cell_type": "markdown",
   "metadata": {},
   "source": [
    "#### Crear función para iterar cada link"
   ]
  },
  {
   "cell_type": "code",
   "execution_count": null,
   "metadata": {},
   "outputs": [],
   "source": [
    "# Creo lista con todos la información recopilada de la empresa, por orden.\n",
    "\n",
    "def info_collect(driver):\n",
    "\n",
    "    info_df = []\n",
    "\n",
    "    title = driver.find_elements_by_tag_name('div.p5')\n",
    "\n",
    "    info_df.append(title[0].find_element_by_tag_name('a.ember-view.t-black.t-normal').text) # Nombre empresa.\n",
    "    info_df.append(title[0].find_element_by_tag_name('h1').text)   # Puesto ofertado.\n",
    "    info_df.append(title[0].find_element_by_tag_name('span.jobs-unified-top-card__bullet').text)   # Ubicación empresa.\n",
    "    info_df.append(title[0].find_element_by_tag_name('span.jobs-unified-top-card__posted-date').text)   # Días activos.\n",
    "    info_df.append(title[0].find_element_by_tag_name('span.jobs-unified-top-card__applicant-count').text)   # Solicitudes.\n",
    "    info_df.append(title[0].find_element_by_tag_name('a').get_attribute('href'))   # Enlace empresa.\n",
    "    \n",
    "    info = driver.find_elements_by_tag_name('div.jobs-description__details')\n",
    "    \n",
    "    info_df.append(info[0].find_element_by_tag_name('p.t-14.mb3').text)   # Nivel experiencia.\n",
    "    info_df.append(info[0].find_element_by_tag_name('ul.jobs-box__list.jobs-description-details__list').text)   # Tipo sector.\n",
    "    info_df.append(info[0].find_element_by_xpath('/html/body/div[8]/div[3]/div/div[1]/div[1]/div/div[2]/article/div/div[2]/div/div[3]/p').text)   # Tipo jornada.\n",
    "    info_df.append(info[0].find_element_by_xpath('/html/body/div[8]/div[3]/div/div[1]/div[1]/div/div[2]/article/div/div[2]/div/div[4]/ul').text)   # Funciones laborales.\n",
    "        \n",
    "    #job_details = driver.find_element_by_id('job-details')\n",
    "    #job_details.text   #'Job Description'\n",
    "    \n",
    "    return info_df"
   ]
  },
  {
   "cell_type": "code",
   "execution_count": null,
   "metadata": {},
   "outputs": [],
   "source": [
    "# Creo los títulos de las columnas del df.\n",
    "\n",
    "titulos_col1 = ['Nombre empresa', 'Puesto ofertado', 'Ubicación', 'Días activos', 'Nº Solicitudes', 'Web empresa', 'Nivel experiencia', 'Sector', 'Tipo jornada', 'Funciones laborales']"
   ]
  },
  {
   "cell_type": "code",
   "execution_count": null,
   "metadata": {},
   "outputs": [],
   "source": [
    "jobs_list = pd.DataFrame()\n",
    "\n",
    "for i in lista_content:\n",
    "    driver.execute_script(\"window.open('');\")\n",
    "    driver.switch_to.window(driver.window_handles[-1])\n",
    "    driver.get(i)\n",
    "    time.sleep(5)\n",
    "    info_collect(driver)\n",
    "    df_prueba1 = pd.DataFrame([info_df], columns = titulos_col1)\n",
    "    jobs_list = jobs_list.append(df_prueba1)"
   ]
  },
  {
   "cell_type": "code",
   "execution_count": null,
   "metadata": {},
   "outputs": [],
   "source": [
    "driver.switch_to.window(driver.window_handles[-1])"
   ]
  },
  {
   "cell_type": "code",
   "execution_count": null,
   "metadata": {},
   "outputs": [],
   "source": [
    "driver.close()"
   ]
  },
  {
   "cell_type": "code",
   "execution_count": null,
   "metadata": {},
   "outputs": [],
   "source": [
    "driver.back()"
   ]
  },
  {
   "cell_type": "code",
   "execution_count": null,
   "metadata": {},
   "outputs": [],
   "source": [
    "lista_content"
   ]
  },
  {
   "cell_type": "code",
   "execution_count": null,
   "metadata": {},
   "outputs": [],
   "source": [
    "driver.get(lista_content[0])"
   ]
  },
  {
   "cell_type": "code",
   "execution_count": null,
   "metadata": {},
   "outputs": [],
   "source": [
    "info_collect(driver)"
   ]
  },
  {
   "cell_type": "code",
   "execution_count": null,
   "metadata": {},
   "outputs": [],
   "source": []
  },
  {
   "cell_type": "code",
   "execution_count": null,
   "metadata": {},
   "outputs": [],
   "source": [
    "# Creo lista con todos la información recopilada de la empresa, por orden.\n",
    "\n",
    "def info_collect(driver):\n",
    "\n",
    "    info_df = []\n",
    "\n",
    "    title = driver.find_elements_by_tag_name('div.jobs-details-top-card__content-container')\n",
    "\n",
    "    title = title[0].text.splitlines()\n",
    "        \n",
    "    title = [title2[2], title2[0], title2[4], title2[6], title2[8]]\n",
    "    \n",
    "    \n",
    "    info_job_comp = driver.find_elements_by_tag_name('li.artdeco-list__item.jobs-details-job-summary-list__item.jobs-details-job-summary-list__item--bullet')\n",
    "    \n",
    "    info_job_comp = info_job_comp[0].text.splitlines()\n",
    "    \n",
    "    \n",
    "    job_desc = driver.find_elements_by_tag_name('div.jobs-box__html-content.jobs-description-content__text.t-14.t-normal')\n",
    "    \n",
    "    job_desc1 = job_desc[0].text.splitlines()[:-8]    \n",
    "    \n",
    "    tuple(job_desc)\n",
    "    \n",
    "    job_desc2 = job_desc[0].text.splitlines()[-8:]\n",
    "    \n",
    "    job_desc2 = [job_desc2[1], job_desc2[3], job_desc2[5], job_desc2[7]]\n",
    "    \n",
    "    return info_df"
   ]
  },
  {
   "cell_type": "code",
   "execution_count": null,
   "metadata": {},
   "outputs": [],
   "source": [
    "title = []\n",
    "\n",
    "info_job_comp = []\n",
    "\n",
    "job_desc = []\n",
    "\n",
    "job_desc2 = []"
   ]
  },
  {
   "cell_type": "code",
   "execution_count": 17,
   "metadata": {},
   "outputs": [],
   "source": [
    "# Creo lista con todos la información recopilada de la empresa, por orden.\n",
    "\n",
    "def info_collect1(driver):\n",
    "\n",
    "    info_df = []\n",
    "\n",
    "    title = driver.find_elements_by_tag_name('div.jobs-details-top-card__content-container')\n",
    "\n",
    "    title = title[0].text.splitlines()\n",
    "        \n",
    "    title = [title[2], title[0], title[4], title[6], title[8]]\n",
    "        \n",
    "    \n",
    "    info_job_comp = driver.find_elements_by_tag_name('li.artdeco-list__item.jobs-details-job-summary-list__item.jobs-details-job-summary-list__item--bullet')\n",
    "    \n",
    "    info_job_comp = info_job_comp[0].text.splitlines()\n",
    "    \n",
    "    \n",
    "    job_desc = driver.find_elements_by_tag_name('div.jobs-box__html-content.jobs-description-content__text.t-14.t-normal')\n",
    "    \n",
    "    job_desc1 = job_desc[0].text.splitlines()[:-8]    \n",
    "    \n",
    "    tuple(job_desc)\n",
    "    \n",
    "    job_desc2 = job_desc[0].text.splitlines()[-8:]\n",
    "    \n",
    "    job_desc2 = [job_desc2[1], job_desc2[3], job_desc2[5], job_desc2[7]]\n",
    "    \n",
    "    info_df = title + info_job_comp + job_desc2\n",
    "\n",
    "    return info_df"
   ]
  },
  {
   "cell_type": "code",
   "execution_count": null,
   "metadata": {},
   "outputs": [],
   "source": [
    "# Creo los títulos de las columnas del df.\n",
    "\n",
    "titulos_col1 = ['Nombre empresa', 'Puesto ofertado', 'Ubicación', 'Días activos', 'Nº Visualizaciones', 'Nº Solicitudes', 'Nivel experiencia', 'Sector', 'Tipo jornada', 'Funciones laborales']"
   ]
  },
  {
   "cell_type": "code",
   "execution_count": null,
   "metadata": {},
   "outputs": [],
   "source": [
    "jobs_list = pd.DataFrame()\n",
    "\n",
    "for i in range(24):\n",
    "    content[i].click()\n",
    "    info_collect(driver)\n",
    "    df_prueba1 = pd.DataFrame([info_df], columns = titulos_col1)\n",
    "    jobs_list = jobs_list.append(df_prueba1)"
   ]
  },
  {
   "cell_type": "code",
   "execution_count": null,
   "metadata": {},
   "outputs": [],
   "source": [
    "info_collect()"
   ]
  },
  {
   "cell_type": "code",
   "execution_count": 24,
   "metadata": {},
   "outputs": [
    {
     "ename": "IndexError",
     "evalue": "list index out of range",
     "output_type": "error",
     "traceback": [
      "\u001b[0;31m---------------------------------------------------------------------------\u001b[0m",
      "\u001b[0;31mIndexError\u001b[0m                                Traceback (most recent call last)",
      "\u001b[0;32m<ipython-input-24-fad654e944ba>\u001b[0m in \u001b[0;36m<module>\u001b[0;34m\u001b[0m\n\u001b[0;32m----> 1\u001b[0;31m \u001b[0mcontent\u001b[0m\u001b[0;34m[\u001b[0m\u001b[0;36m22\u001b[0m\u001b[0;34m]\u001b[0m\u001b[0;34m.\u001b[0m\u001b[0mclick\u001b[0m\u001b[0;34m(\u001b[0m\u001b[0;34m)\u001b[0m\u001b[0;34m\u001b[0m\u001b[0;34m\u001b[0m\u001b[0m\n\u001b[0m",
      "\u001b[0;31mIndexError\u001b[0m: list index out of range"
     ]
    }
   ],
   "source": [
    "content[22].click()"
   ]
  },
  {
   "cell_type": "code",
   "execution_count": 18,
   "metadata": {},
   "outputs": [
    {
     "data": {
      "text/plain": [
       "['Amazon',\n",
       " 'Junior Data Analyst',\n",
       " 'Barcelona, Cataluña, España',\n",
       " 'Publicado hace hace 1 semana',\n",
       " '4 visualizaciones',\n",
       " '0 solicitudes',\n",
       " 'Sin experiencia',\n",
       " 'Software Servicios y tecnologías de la información Internet',\n",
       " 'Jornada completa',\n",
       " 'Estrategia/planificación Análisis Tecnología de la información']"
      ]
     },
     "execution_count": 18,
     "metadata": {},
     "output_type": "execute_result"
    }
   ],
   "source": [
    "info_collect1(driver)"
   ]
  },
  {
   "cell_type": "code",
   "execution_count": null,
   "metadata": {},
   "outputs": [],
   "source": [
    "title1 = driver.find_elements_by_tag_name('div.jobs-details-top-card__content-container')"
   ]
  },
  {
   "cell_type": "code",
   "execution_count": null,
   "metadata": {},
   "outputs": [],
   "source": [
    "title1[0].text"
   ]
  },
  {
   "cell_type": "code",
   "execution_count": null,
   "metadata": {},
   "outputs": [],
   "source": []
  }
 ],
 "metadata": {
  "kernelspec": {
   "display_name": "Python 3",
   "language": "python",
   "name": "python3"
  },
  "language_info": {
   "codemirror_mode": {
    "name": "ipython",
    "version": 3
   },
   "file_extension": ".py",
   "mimetype": "text/x-python",
   "name": "python",
   "nbconvert_exporter": "python",
   "pygments_lexer": "ipython3",
   "version": "3.8.5"
  }
 },
 "nbformat": 4,
 "nbformat_minor": 4
}
